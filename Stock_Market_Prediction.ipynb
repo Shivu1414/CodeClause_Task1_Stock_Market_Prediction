{
  "nbformat": 4,
  "nbformat_minor": 0,
  "metadata": {
    "colab": {
      "provenance": [],
      "authorship_tag": "ABX9TyO67Q01dG2g8Pgr28BIeWOb",
      "include_colab_link": true
    },
    "kernelspec": {
      "name": "python3",
      "display_name": "Python 3"
    },
    "language_info": {
      "name": "python"
    }
  },
  "cells": [
    {
      "cell_type": "markdown",
      "metadata": {
        "id": "view-in-github",
        "colab_type": "text"
      },
      "source": [
        "<a href=\"https://colab.research.google.com/github/Shivu1414/CodeClause_Task1_Stock_Market_Prediction/blob/main/Stock_Market_Prediction.ipynb\" target=\"_parent\"><img src=\"https://colab.research.google.com/assets/colab-badge.svg\" alt=\"Open In Colab\"/></a>"
      ]
    },
    {
      "cell_type": "code",
      "source": [
        "pip install chart_studio"
      ],
      "metadata": {
        "colab": {
          "base_uri": "https://localhost:8080/"
        },
        "id": "DIyD20bsjPRF",
        "outputId": "e78d7d8e-1913-499c-cf6a-5b7b82fd4946"
      },
      "execution_count": 50,
      "outputs": [
        {
          "output_type": "stream",
          "name": "stdout",
          "text": [
            "Looking in indexes: https://pypi.org/simple, https://us-python.pkg.dev/colab-wheels/public/simple/\n",
            "Requirement already satisfied: chart_studio in /usr/local/lib/python3.10/dist-packages (1.1.0)\n",
            "Requirement already satisfied: requests in /usr/local/lib/python3.10/dist-packages (from chart_studio) (2.27.1)\n",
            "Requirement already satisfied: plotly in /usr/local/lib/python3.10/dist-packages (from chart_studio) (5.13.1)\n",
            "Requirement already satisfied: six in /usr/local/lib/python3.10/dist-packages (from chart_studio) (1.16.0)\n",
            "Requirement already satisfied: retrying>=1.3.3 in /usr/local/lib/python3.10/dist-packages (from chart_studio) (1.3.4)\n",
            "Requirement already satisfied: tenacity>=6.2.0 in /usr/local/lib/python3.10/dist-packages (from plotly->chart_studio) (8.2.2)\n",
            "Requirement already satisfied: idna<4,>=2.5 in /usr/local/lib/python3.10/dist-packages (from requests->chart_studio) (3.4)\n",
            "Requirement already satisfied: charset-normalizer~=2.0.0 in /usr/local/lib/python3.10/dist-packages (from requests->chart_studio) (2.0.12)\n",
            "Requirement already satisfied: certifi>=2017.4.17 in /usr/local/lib/python3.10/dist-packages (from requests->chart_studio) (2022.12.7)\n",
            "Requirement already satisfied: urllib3<1.27,>=1.21.1 in /usr/local/lib/python3.10/dist-packages (from requests->chart_studio) (1.26.15)\n"
          ]
        }
      ]
    },
    {
      "cell_type": "markdown",
      "source": [
        "Importing Libraries"
      ],
      "metadata": {
        "id": "-DjMv93-Mskg"
      }
    },
    {
      "cell_type": "code",
      "execution_count": 47,
      "metadata": {
        "id": "MOjfkfg6tLgw"
      },
      "outputs": [],
      "source": [
        "from ast import increment_lineno\n",
        "import pandas as pd\n",
        "import numpy as np\n",
        "import matplotlib.pyplot as plt\n",
        "%matplotlib inline \n",
        "\n",
        "import chart_studio.plotly as py\n",
        "import plotly.graph_objs as go\n",
        "from plotly.offline import plot\n",
        "from plotly.offline import download_plotlyjs, init_notebook_mode, plot, iplot"
      ]
    },
    {
      "cell_type": "code",
      "source": [
        "#Read CSV file\n",
        "tesla= pd.read_csv('tesla.csv')\n",
        "tesla.head()"
      ],
      "metadata": {
        "colab": {
          "base_uri": "https://localhost:8080/",
          "height": 206
        },
        "id": "_mJqzFJiGQYa",
        "outputId": "14903093-f60f-4865-b866-fe158b15b178"
      },
      "execution_count": 26,
      "outputs": [
        {
          "output_type": "execute_result",
          "data": {
            "text/plain": [
              "         Date       Open   High        Low      Close  Adj Close    Volume\n",
              "0  29-06-2010  19.000000  25.00  17.540001  23.889999  23.889999  18766300\n",
              "1  30-06-2010  25.790001  30.42  23.299999  23.830000  23.830000  17187100\n",
              "2  01-07-2010  25.000000  25.92  20.270000  21.959999  21.959999   8218800\n",
              "3  02-07-2010  23.000000  23.10  18.709999  19.200001  19.200001   5139800\n",
              "4  06-07-2010  20.000000  20.00  15.830000  16.110001  16.110001   6866900"
            ],
            "text/html": [
              "\n",
              "  <div id=\"df-5c769d3e-cf35-4c5f-afdb-37755800f182\">\n",
              "    <div class=\"colab-df-container\">\n",
              "      <div>\n",
              "<style scoped>\n",
              "    .dataframe tbody tr th:only-of-type {\n",
              "        vertical-align: middle;\n",
              "    }\n",
              "\n",
              "    .dataframe tbody tr th {\n",
              "        vertical-align: top;\n",
              "    }\n",
              "\n",
              "    .dataframe thead th {\n",
              "        text-align: right;\n",
              "    }\n",
              "</style>\n",
              "<table border=\"1\" class=\"dataframe\">\n",
              "  <thead>\n",
              "    <tr style=\"text-align: right;\">\n",
              "      <th></th>\n",
              "      <th>Date</th>\n",
              "      <th>Open</th>\n",
              "      <th>High</th>\n",
              "      <th>Low</th>\n",
              "      <th>Close</th>\n",
              "      <th>Adj Close</th>\n",
              "      <th>Volume</th>\n",
              "    </tr>\n",
              "  </thead>\n",
              "  <tbody>\n",
              "    <tr>\n",
              "      <th>0</th>\n",
              "      <td>29-06-2010</td>\n",
              "      <td>19.000000</td>\n",
              "      <td>25.00</td>\n",
              "      <td>17.540001</td>\n",
              "      <td>23.889999</td>\n",
              "      <td>23.889999</td>\n",
              "      <td>18766300</td>\n",
              "    </tr>\n",
              "    <tr>\n",
              "      <th>1</th>\n",
              "      <td>30-06-2010</td>\n",
              "      <td>25.790001</td>\n",
              "      <td>30.42</td>\n",
              "      <td>23.299999</td>\n",
              "      <td>23.830000</td>\n",
              "      <td>23.830000</td>\n",
              "      <td>17187100</td>\n",
              "    </tr>\n",
              "    <tr>\n",
              "      <th>2</th>\n",
              "      <td>01-07-2010</td>\n",
              "      <td>25.000000</td>\n",
              "      <td>25.92</td>\n",
              "      <td>20.270000</td>\n",
              "      <td>21.959999</td>\n",
              "      <td>21.959999</td>\n",
              "      <td>8218800</td>\n",
              "    </tr>\n",
              "    <tr>\n",
              "      <th>3</th>\n",
              "      <td>02-07-2010</td>\n",
              "      <td>23.000000</td>\n",
              "      <td>23.10</td>\n",
              "      <td>18.709999</td>\n",
              "      <td>19.200001</td>\n",
              "      <td>19.200001</td>\n",
              "      <td>5139800</td>\n",
              "    </tr>\n",
              "    <tr>\n",
              "      <th>4</th>\n",
              "      <td>06-07-2010</td>\n",
              "      <td>20.000000</td>\n",
              "      <td>20.00</td>\n",
              "      <td>15.830000</td>\n",
              "      <td>16.110001</td>\n",
              "      <td>16.110001</td>\n",
              "      <td>6866900</td>\n",
              "    </tr>\n",
              "  </tbody>\n",
              "</table>\n",
              "</div>\n",
              "      <button class=\"colab-df-convert\" onclick=\"convertToInteractive('df-5c769d3e-cf35-4c5f-afdb-37755800f182')\"\n",
              "              title=\"Convert this dataframe to an interactive table.\"\n",
              "              style=\"display:none;\">\n",
              "        \n",
              "  <svg xmlns=\"http://www.w3.org/2000/svg\" height=\"24px\"viewBox=\"0 0 24 24\"\n",
              "       width=\"24px\">\n",
              "    <path d=\"M0 0h24v24H0V0z\" fill=\"none\"/>\n",
              "    <path d=\"M18.56 5.44l.94 2.06.94-2.06 2.06-.94-2.06-.94-.94-2.06-.94 2.06-2.06.94zm-11 1L8.5 8.5l.94-2.06 2.06-.94-2.06-.94L8.5 2.5l-.94 2.06-2.06.94zm10 10l.94 2.06.94-2.06 2.06-.94-2.06-.94-.94-2.06-.94 2.06-2.06.94z\"/><path d=\"M17.41 7.96l-1.37-1.37c-.4-.4-.92-.59-1.43-.59-.52 0-1.04.2-1.43.59L10.3 9.45l-7.72 7.72c-.78.78-.78 2.05 0 2.83L4 21.41c.39.39.9.59 1.41.59.51 0 1.02-.2 1.41-.59l7.78-7.78 2.81-2.81c.8-.78.8-2.07 0-2.86zM5.41 20L4 18.59l7.72-7.72 1.47 1.35L5.41 20z\"/>\n",
              "  </svg>\n",
              "      </button>\n",
              "      \n",
              "  <style>\n",
              "    .colab-df-container {\n",
              "      display:flex;\n",
              "      flex-wrap:wrap;\n",
              "      gap: 12px;\n",
              "    }\n",
              "\n",
              "    .colab-df-convert {\n",
              "      background-color: #E8F0FE;\n",
              "      border: none;\n",
              "      border-radius: 50%;\n",
              "      cursor: pointer;\n",
              "      display: none;\n",
              "      fill: #1967D2;\n",
              "      height: 32px;\n",
              "      padding: 0 0 0 0;\n",
              "      width: 32px;\n",
              "    }\n",
              "\n",
              "    .colab-df-convert:hover {\n",
              "      background-color: #E2EBFA;\n",
              "      box-shadow: 0px 1px 2px rgba(60, 64, 67, 0.3), 0px 1px 3px 1px rgba(60, 64, 67, 0.15);\n",
              "      fill: #174EA6;\n",
              "    }\n",
              "\n",
              "    [theme=dark] .colab-df-convert {\n",
              "      background-color: #3B4455;\n",
              "      fill: #D2E3FC;\n",
              "    }\n",
              "\n",
              "    [theme=dark] .colab-df-convert:hover {\n",
              "      background-color: #434B5C;\n",
              "      box-shadow: 0px 1px 3px 1px rgba(0, 0, 0, 0.15);\n",
              "      filter: drop-shadow(0px 1px 2px rgba(0, 0, 0, 0.3));\n",
              "      fill: #FFFFFF;\n",
              "    }\n",
              "  </style>\n",
              "\n",
              "      <script>\n",
              "        const buttonEl =\n",
              "          document.querySelector('#df-5c769d3e-cf35-4c5f-afdb-37755800f182 button.colab-df-convert');\n",
              "        buttonEl.style.display =\n",
              "          google.colab.kernel.accessAllowed ? 'block' : 'none';\n",
              "\n",
              "        async function convertToInteractive(key) {\n",
              "          const element = document.querySelector('#df-5c769d3e-cf35-4c5f-afdb-37755800f182');\n",
              "          const dataTable =\n",
              "            await google.colab.kernel.invokeFunction('convertToInteractive',\n",
              "                                                     [key], {});\n",
              "          if (!dataTable) return;\n",
              "\n",
              "          const docLinkHtml = 'Like what you see? Visit the ' +\n",
              "            '<a target=\"_blank\" href=https://colab.research.google.com/notebooks/data_table.ipynb>data table notebook</a>'\n",
              "            + ' to learn more about interactive tables.';\n",
              "          element.innerHTML = '';\n",
              "          dataTable['output_type'] = 'display_data';\n",
              "          await google.colab.output.renderOutput(dataTable, element);\n",
              "          const docLink = document.createElement('div');\n",
              "          docLink.innerHTML = docLinkHtml;\n",
              "          element.appendChild(docLink);\n",
              "        }\n",
              "      </script>\n",
              "    </div>\n",
              "  </div>\n",
              "  "
            ]
          },
          "metadata": {},
          "execution_count": 26
        }
      ]
    },
    {
      "cell_type": "code",
      "source": [
        "tesla.info()"
      ],
      "metadata": {
        "colab": {
          "base_uri": "https://localhost:8080/"
        },
        "id": "zTbR2_IsvVTk",
        "outputId": "8a727020-79ab-46db-bbc7-6924a59c8665"
      },
      "execution_count": 27,
      "outputs": [
        {
          "output_type": "stream",
          "name": "stdout",
          "text": [
            "<class 'pandas.core.frame.DataFrame'>\n",
            "RangeIndex: 2193 entries, 0 to 2192\n",
            "Data columns (total 7 columns):\n",
            " #   Column     Non-Null Count  Dtype  \n",
            "---  ------     --------------  -----  \n",
            " 0   Date       2193 non-null   object \n",
            " 1   Open       2193 non-null   float64\n",
            " 2   High       2193 non-null   float64\n",
            " 3   Low        2193 non-null   float64\n",
            " 4   Close      2193 non-null   float64\n",
            " 5   Adj Close  2193 non-null   float64\n",
            " 6   Volume     2193 non-null   int64  \n",
            "dtypes: float64(5), int64(1), object(1)\n",
            "memory usage: 120.1+ KB\n"
          ]
        }
      ]
    },
    {
      "cell_type": "code",
      "source": [
        "tesla['Date']=pd.to_datetime(tesla['Date'])"
      ],
      "metadata": {
        "colab": {
          "base_uri": "https://localhost:8080/"
        },
        "id": "7czrmXdgvetz",
        "outputId": "35612956-86c3-4b02-dded-e636657416a1"
      },
      "execution_count": 28,
      "outputs": [
        {
          "output_type": "stream",
          "name": "stderr",
          "text": [
            "<ipython-input-28-46707f19ca4d>:1: UserWarning:\n",
            "\n",
            "Parsing dates in DD/MM/YYYY format when dayfirst=False (the default) was specified. This may lead to inconsistently parsed dates! Specify a format to ensure consistent parsing.\n",
            "\n"
          ]
        }
      ]
    },
    {
      "cell_type": "code",
      "source": [
        "print(f'Dateframe contains stock prices between {tesla.Date.min()} {tesla.Date.max()}')\n",
        "print(f'Tatal days = {(tesla.Date.max()- tesla.Date.min())} days')"
      ],
      "metadata": {
        "colab": {
          "base_uri": "https://localhost:8080/"
        },
        "id": "aXjTC7l3xgr0",
        "outputId": "597bbe57-fa13-48f4-b2e2-4452cc3d5765"
      },
      "execution_count": 29,
      "outputs": [
        {
          "output_type": "stream",
          "name": "stdout",
          "text": [
            "Dateframe contains stock prices between 2010-01-07 00:00:00 2019-12-03 00:00:00\n",
            "Tatal days = 3617 days 00:00:00 days\n"
          ]
        }
      ]
    },
    {
      "cell_type": "code",
      "source": [
        "tesla.sort_values(by='Date', ascending=True, inplace=True)\n",
        "tesla.head()"
      ],
      "metadata": {
        "colab": {
          "base_uri": "https://localhost:8080/",
          "height": 206
        },
        "id": "UDLVAXOwojPJ",
        "outputId": "84a15ecc-ccd5-4395-fbc4-a75781eb3e6f"
      },
      "execution_count": 30,
      "outputs": [
        {
          "output_type": "execute_result",
          "data": {
            "text/plain": [
              "          Date       Open       High        Low      Close  Adj Close   Volume\n",
              "2   2010-01-07  25.000000  25.920000  20.270000  21.959999  21.959999  8218800\n",
              "45  2010-01-09  19.620001  20.690001  19.600000  20.450001  20.450001   494900\n",
              "66  2010-01-10  20.690001  20.750000  20.309999  20.600000  20.600000   597700\n",
              "87  2010-01-11  21.940001  22.750000  21.309999  21.410000  21.410000   455800\n",
              "108 2010-01-12  35.869999  36.419998  33.450001  34.349998  34.349998  1299200"
            ],
            "text/html": [
              "\n",
              "  <div id=\"df-7d5d0d19-7317-42d0-8f09-3c175871cccf\">\n",
              "    <div class=\"colab-df-container\">\n",
              "      <div>\n",
              "<style scoped>\n",
              "    .dataframe tbody tr th:only-of-type {\n",
              "        vertical-align: middle;\n",
              "    }\n",
              "\n",
              "    .dataframe tbody tr th {\n",
              "        vertical-align: top;\n",
              "    }\n",
              "\n",
              "    .dataframe thead th {\n",
              "        text-align: right;\n",
              "    }\n",
              "</style>\n",
              "<table border=\"1\" class=\"dataframe\">\n",
              "  <thead>\n",
              "    <tr style=\"text-align: right;\">\n",
              "      <th></th>\n",
              "      <th>Date</th>\n",
              "      <th>Open</th>\n",
              "      <th>High</th>\n",
              "      <th>Low</th>\n",
              "      <th>Close</th>\n",
              "      <th>Adj Close</th>\n",
              "      <th>Volume</th>\n",
              "    </tr>\n",
              "  </thead>\n",
              "  <tbody>\n",
              "    <tr>\n",
              "      <th>2</th>\n",
              "      <td>2010-01-07</td>\n",
              "      <td>25.000000</td>\n",
              "      <td>25.920000</td>\n",
              "      <td>20.270000</td>\n",
              "      <td>21.959999</td>\n",
              "      <td>21.959999</td>\n",
              "      <td>8218800</td>\n",
              "    </tr>\n",
              "    <tr>\n",
              "      <th>45</th>\n",
              "      <td>2010-01-09</td>\n",
              "      <td>19.620001</td>\n",
              "      <td>20.690001</td>\n",
              "      <td>19.600000</td>\n",
              "      <td>20.450001</td>\n",
              "      <td>20.450001</td>\n",
              "      <td>494900</td>\n",
              "    </tr>\n",
              "    <tr>\n",
              "      <th>66</th>\n",
              "      <td>2010-01-10</td>\n",
              "      <td>20.690001</td>\n",
              "      <td>20.750000</td>\n",
              "      <td>20.309999</td>\n",
              "      <td>20.600000</td>\n",
              "      <td>20.600000</td>\n",
              "      <td>597700</td>\n",
              "    </tr>\n",
              "    <tr>\n",
              "      <th>87</th>\n",
              "      <td>2010-01-11</td>\n",
              "      <td>21.940001</td>\n",
              "      <td>22.750000</td>\n",
              "      <td>21.309999</td>\n",
              "      <td>21.410000</td>\n",
              "      <td>21.410000</td>\n",
              "      <td>455800</td>\n",
              "    </tr>\n",
              "    <tr>\n",
              "      <th>108</th>\n",
              "      <td>2010-01-12</td>\n",
              "      <td>35.869999</td>\n",
              "      <td>36.419998</td>\n",
              "      <td>33.450001</td>\n",
              "      <td>34.349998</td>\n",
              "      <td>34.349998</td>\n",
              "      <td>1299200</td>\n",
              "    </tr>\n",
              "  </tbody>\n",
              "</table>\n",
              "</div>\n",
              "      <button class=\"colab-df-convert\" onclick=\"convertToInteractive('df-7d5d0d19-7317-42d0-8f09-3c175871cccf')\"\n",
              "              title=\"Convert this dataframe to an interactive table.\"\n",
              "              style=\"display:none;\">\n",
              "        \n",
              "  <svg xmlns=\"http://www.w3.org/2000/svg\" height=\"24px\"viewBox=\"0 0 24 24\"\n",
              "       width=\"24px\">\n",
              "    <path d=\"M0 0h24v24H0V0z\" fill=\"none\"/>\n",
              "    <path d=\"M18.56 5.44l.94 2.06.94-2.06 2.06-.94-2.06-.94-.94-2.06-.94 2.06-2.06.94zm-11 1L8.5 8.5l.94-2.06 2.06-.94-2.06-.94L8.5 2.5l-.94 2.06-2.06.94zm10 10l.94 2.06.94-2.06 2.06-.94-2.06-.94-.94-2.06-.94 2.06-2.06.94z\"/><path d=\"M17.41 7.96l-1.37-1.37c-.4-.4-.92-.59-1.43-.59-.52 0-1.04.2-1.43.59L10.3 9.45l-7.72 7.72c-.78.78-.78 2.05 0 2.83L4 21.41c.39.39.9.59 1.41.59.51 0 1.02-.2 1.41-.59l7.78-7.78 2.81-2.81c.8-.78.8-2.07 0-2.86zM5.41 20L4 18.59l7.72-7.72 1.47 1.35L5.41 20z\"/>\n",
              "  </svg>\n",
              "      </button>\n",
              "      \n",
              "  <style>\n",
              "    .colab-df-container {\n",
              "      display:flex;\n",
              "      flex-wrap:wrap;\n",
              "      gap: 12px;\n",
              "    }\n",
              "\n",
              "    .colab-df-convert {\n",
              "      background-color: #E8F0FE;\n",
              "      border: none;\n",
              "      border-radius: 50%;\n",
              "      cursor: pointer;\n",
              "      display: none;\n",
              "      fill: #1967D2;\n",
              "      height: 32px;\n",
              "      padding: 0 0 0 0;\n",
              "      width: 32px;\n",
              "    }\n",
              "\n",
              "    .colab-df-convert:hover {\n",
              "      background-color: #E2EBFA;\n",
              "      box-shadow: 0px 1px 2px rgba(60, 64, 67, 0.3), 0px 1px 3px 1px rgba(60, 64, 67, 0.15);\n",
              "      fill: #174EA6;\n",
              "    }\n",
              "\n",
              "    [theme=dark] .colab-df-convert {\n",
              "      background-color: #3B4455;\n",
              "      fill: #D2E3FC;\n",
              "    }\n",
              "\n",
              "    [theme=dark] .colab-df-convert:hover {\n",
              "      background-color: #434B5C;\n",
              "      box-shadow: 0px 1px 3px 1px rgba(0, 0, 0, 0.15);\n",
              "      filter: drop-shadow(0px 1px 2px rgba(0, 0, 0, 0.3));\n",
              "      fill: #FFFFFF;\n",
              "    }\n",
              "  </style>\n",
              "\n",
              "      <script>\n",
              "        const buttonEl =\n",
              "          document.querySelector('#df-7d5d0d19-7317-42d0-8f09-3c175871cccf button.colab-df-convert');\n",
              "        buttonEl.style.display =\n",
              "          google.colab.kernel.accessAllowed ? 'block' : 'none';\n",
              "\n",
              "        async function convertToInteractive(key) {\n",
              "          const element = document.querySelector('#df-7d5d0d19-7317-42d0-8f09-3c175871cccf');\n",
              "          const dataTable =\n",
              "            await google.colab.kernel.invokeFunction('convertToInteractive',\n",
              "                                                     [key], {});\n",
              "          if (!dataTable) return;\n",
              "\n",
              "          const docLinkHtml = 'Like what you see? Visit the ' +\n",
              "            '<a target=\"_blank\" href=https://colab.research.google.com/notebooks/data_table.ipynb>data table notebook</a>'\n",
              "            + ' to learn more about interactive tables.';\n",
              "          element.innerHTML = '';\n",
              "          dataTable['output_type'] = 'display_data';\n",
              "          await google.colab.output.renderOutput(dataTable, element);\n",
              "          const docLink = document.createElement('div');\n",
              "          docLink.innerHTML = docLinkHtml;\n",
              "          element.appendChild(docLink);\n",
              "        }\n",
              "      </script>\n",
              "    </div>\n",
              "  </div>\n",
              "  "
            ]
          },
          "metadata": {},
          "execution_count": 30
        }
      ]
    },
    {
      "cell_type": "code",
      "source": [
        "tesla.describe()"
      ],
      "metadata": {
        "colab": {
          "base_uri": "https://localhost:8080/",
          "height": 300
        },
        "id": "60Q-R074y3zc",
        "outputId": "abea0b1d-ba46-4081-a5c8-4427240c3e98"
      },
      "execution_count": 31,
      "outputs": [
        {
          "output_type": "execute_result",
          "data": {
            "text/plain": [
              "              Open         High          Low        Close    Adj Close  \\\n",
              "count  2193.000000  2193.000000  2193.000000  2193.000000  2193.000000   \n",
              "mean    175.652882   178.710262   172.412075   175.648555   175.648555   \n",
              "std     115.580903   117.370092   113.654794   115.580771   115.580771   \n",
              "min      16.139999    16.629999    14.980000    15.800000    15.800000   \n",
              "25%      33.110001    33.910000    32.459999    33.160000    33.160000   \n",
              "50%     204.990005   208.160004   201.669998   204.990005   204.990005   \n",
              "75%     262.000000   265.329987   256.209991   261.739990   261.739990   \n",
              "max     386.690002   389.609985   379.350006   385.000000   385.000000   \n",
              "\n",
              "             Volume  \n",
              "count  2.193000e+03  \n",
              "mean   5.077449e+06  \n",
              "std    4.545398e+06  \n",
              "min    1.185000e+05  \n",
              "25%    1.577800e+06  \n",
              "50%    4.171700e+06  \n",
              "75%    6.885600e+06  \n",
              "max    3.716390e+07  "
            ],
            "text/html": [
              "\n",
              "  <div id=\"df-6ae425a2-87be-47b2-b5f0-b23fa62c1fae\">\n",
              "    <div class=\"colab-df-container\">\n",
              "      <div>\n",
              "<style scoped>\n",
              "    .dataframe tbody tr th:only-of-type {\n",
              "        vertical-align: middle;\n",
              "    }\n",
              "\n",
              "    .dataframe tbody tr th {\n",
              "        vertical-align: top;\n",
              "    }\n",
              "\n",
              "    .dataframe thead th {\n",
              "        text-align: right;\n",
              "    }\n",
              "</style>\n",
              "<table border=\"1\" class=\"dataframe\">\n",
              "  <thead>\n",
              "    <tr style=\"text-align: right;\">\n",
              "      <th></th>\n",
              "      <th>Open</th>\n",
              "      <th>High</th>\n",
              "      <th>Low</th>\n",
              "      <th>Close</th>\n",
              "      <th>Adj Close</th>\n",
              "      <th>Volume</th>\n",
              "    </tr>\n",
              "  </thead>\n",
              "  <tbody>\n",
              "    <tr>\n",
              "      <th>count</th>\n",
              "      <td>2193.000000</td>\n",
              "      <td>2193.000000</td>\n",
              "      <td>2193.000000</td>\n",
              "      <td>2193.000000</td>\n",
              "      <td>2193.000000</td>\n",
              "      <td>2.193000e+03</td>\n",
              "    </tr>\n",
              "    <tr>\n",
              "      <th>mean</th>\n",
              "      <td>175.652882</td>\n",
              "      <td>178.710262</td>\n",
              "      <td>172.412075</td>\n",
              "      <td>175.648555</td>\n",
              "      <td>175.648555</td>\n",
              "      <td>5.077449e+06</td>\n",
              "    </tr>\n",
              "    <tr>\n",
              "      <th>std</th>\n",
              "      <td>115.580903</td>\n",
              "      <td>117.370092</td>\n",
              "      <td>113.654794</td>\n",
              "      <td>115.580771</td>\n",
              "      <td>115.580771</td>\n",
              "      <td>4.545398e+06</td>\n",
              "    </tr>\n",
              "    <tr>\n",
              "      <th>min</th>\n",
              "      <td>16.139999</td>\n",
              "      <td>16.629999</td>\n",
              "      <td>14.980000</td>\n",
              "      <td>15.800000</td>\n",
              "      <td>15.800000</td>\n",
              "      <td>1.185000e+05</td>\n",
              "    </tr>\n",
              "    <tr>\n",
              "      <th>25%</th>\n",
              "      <td>33.110001</td>\n",
              "      <td>33.910000</td>\n",
              "      <td>32.459999</td>\n",
              "      <td>33.160000</td>\n",
              "      <td>33.160000</td>\n",
              "      <td>1.577800e+06</td>\n",
              "    </tr>\n",
              "    <tr>\n",
              "      <th>50%</th>\n",
              "      <td>204.990005</td>\n",
              "      <td>208.160004</td>\n",
              "      <td>201.669998</td>\n",
              "      <td>204.990005</td>\n",
              "      <td>204.990005</td>\n",
              "      <td>4.171700e+06</td>\n",
              "    </tr>\n",
              "    <tr>\n",
              "      <th>75%</th>\n",
              "      <td>262.000000</td>\n",
              "      <td>265.329987</td>\n",
              "      <td>256.209991</td>\n",
              "      <td>261.739990</td>\n",
              "      <td>261.739990</td>\n",
              "      <td>6.885600e+06</td>\n",
              "    </tr>\n",
              "    <tr>\n",
              "      <th>max</th>\n",
              "      <td>386.690002</td>\n",
              "      <td>389.609985</td>\n",
              "      <td>379.350006</td>\n",
              "      <td>385.000000</td>\n",
              "      <td>385.000000</td>\n",
              "      <td>3.716390e+07</td>\n",
              "    </tr>\n",
              "  </tbody>\n",
              "</table>\n",
              "</div>\n",
              "      <button class=\"colab-df-convert\" onclick=\"convertToInteractive('df-6ae425a2-87be-47b2-b5f0-b23fa62c1fae')\"\n",
              "              title=\"Convert this dataframe to an interactive table.\"\n",
              "              style=\"display:none;\">\n",
              "        \n",
              "  <svg xmlns=\"http://www.w3.org/2000/svg\" height=\"24px\"viewBox=\"0 0 24 24\"\n",
              "       width=\"24px\">\n",
              "    <path d=\"M0 0h24v24H0V0z\" fill=\"none\"/>\n",
              "    <path d=\"M18.56 5.44l.94 2.06.94-2.06 2.06-.94-2.06-.94-.94-2.06-.94 2.06-2.06.94zm-11 1L8.5 8.5l.94-2.06 2.06-.94-2.06-.94L8.5 2.5l-.94 2.06-2.06.94zm10 10l.94 2.06.94-2.06 2.06-.94-2.06-.94-.94-2.06-.94 2.06-2.06.94z\"/><path d=\"M17.41 7.96l-1.37-1.37c-.4-.4-.92-.59-1.43-.59-.52 0-1.04.2-1.43.59L10.3 9.45l-7.72 7.72c-.78.78-.78 2.05 0 2.83L4 21.41c.39.39.9.59 1.41.59.51 0 1.02-.2 1.41-.59l7.78-7.78 2.81-2.81c.8-.78.8-2.07 0-2.86zM5.41 20L4 18.59l7.72-7.72 1.47 1.35L5.41 20z\"/>\n",
              "  </svg>\n",
              "      </button>\n",
              "      \n",
              "  <style>\n",
              "    .colab-df-container {\n",
              "      display:flex;\n",
              "      flex-wrap:wrap;\n",
              "      gap: 12px;\n",
              "    }\n",
              "\n",
              "    .colab-df-convert {\n",
              "      background-color: #E8F0FE;\n",
              "      border: none;\n",
              "      border-radius: 50%;\n",
              "      cursor: pointer;\n",
              "      display: none;\n",
              "      fill: #1967D2;\n",
              "      height: 32px;\n",
              "      padding: 0 0 0 0;\n",
              "      width: 32px;\n",
              "    }\n",
              "\n",
              "    .colab-df-convert:hover {\n",
              "      background-color: #E2EBFA;\n",
              "      box-shadow: 0px 1px 2px rgba(60, 64, 67, 0.3), 0px 1px 3px 1px rgba(60, 64, 67, 0.15);\n",
              "      fill: #174EA6;\n",
              "    }\n",
              "\n",
              "    [theme=dark] .colab-df-convert {\n",
              "      background-color: #3B4455;\n",
              "      fill: #D2E3FC;\n",
              "    }\n",
              "\n",
              "    [theme=dark] .colab-df-convert:hover {\n",
              "      background-color: #434B5C;\n",
              "      box-shadow: 0px 1px 3px 1px rgba(0, 0, 0, 0.15);\n",
              "      filter: drop-shadow(0px 1px 2px rgba(0, 0, 0, 0.3));\n",
              "      fill: #FFFFFF;\n",
              "    }\n",
              "  </style>\n",
              "\n",
              "      <script>\n",
              "        const buttonEl =\n",
              "          document.querySelector('#df-6ae425a2-87be-47b2-b5f0-b23fa62c1fae button.colab-df-convert');\n",
              "        buttonEl.style.display =\n",
              "          google.colab.kernel.accessAllowed ? 'block' : 'none';\n",
              "\n",
              "        async function convertToInteractive(key) {\n",
              "          const element = document.querySelector('#df-6ae425a2-87be-47b2-b5f0-b23fa62c1fae');\n",
              "          const dataTable =\n",
              "            await google.colab.kernel.invokeFunction('convertToInteractive',\n",
              "                                                     [key], {});\n",
              "          if (!dataTable) return;\n",
              "\n",
              "          const docLinkHtml = 'Like what you see? Visit the ' +\n",
              "            '<a target=\"_blank\" href=https://colab.research.google.com/notebooks/data_table.ipynb>data table notebook</a>'\n",
              "            + ' to learn more about interactive tables.';\n",
              "          element.innerHTML = '';\n",
              "          dataTable['output_type'] = 'display_data';\n",
              "          await google.colab.output.renderOutput(dataTable, element);\n",
              "          const docLink = document.createElement('div');\n",
              "          docLink.innerHTML = docLinkHtml;\n",
              "          element.appendChild(docLink);\n",
              "        }\n",
              "      </script>\n",
              "    </div>\n",
              "  </div>\n",
              "  "
            ]
          },
          "metadata": {},
          "execution_count": 31
        }
      ]
    },
    {
      "cell_type": "code",
      "source": [
        "tesla[['Open', 'High', 'Low', 'Close', 'Adj Close']].plot(kind='box')"
      ],
      "metadata": {
        "colab": {
          "base_uri": "https://localhost:8080/",
          "height": 447
        },
        "id": "NG4kN89-zYqk",
        "outputId": "ee599435-85d2-4994-b780-e66f8c71a6b2"
      },
      "execution_count": 32,
      "outputs": [
        {
          "output_type": "execute_result",
          "data": {
            "text/plain": [
              "<Axes: >"
            ]
          },
          "metadata": {},
          "execution_count": 32
        },
        {
          "output_type": "display_data",
          "data": {
            "text/plain": [
              "<Figure size 640x480 with 1 Axes>"
            ],
            "image/png": "[encoded data removed]"
          },
          "metadata": {}
        }
      ]
    },
    {
      "cell_type": "code",
      "source": [
        "#Setting the layout for our plot\n",
        "layout=go.Layout(\n",
        "    title='Stock Prices of Tesla',\n",
        "    xaxis=dict(\n",
        "        title='Date',\n",
        "        titlefont=dict(\n",
        "            family='Courier New , monospace',\n",
        "            size=18,\n",
        "            color='#7f7f7f'\n",
        "        )\n",
        "    ),\n",
        "    yaxis=dict(\n",
        "        title='Price',\n",
        "        titlefont=dict(\n",
        "            family='Courier New , monospace',\n",
        "            size=18,\n",
        "            color='#7f7f7f'\n",
        "        )\n",
        "    )\n",
        ")\n",
        "\n",
        "tesla_data=[{'x':tesla['Date'], 'y':tesla['Close']}]\n",
        "plot = go.Figure(data=tesla_data,layout=layout)"
      ],
      "metadata": {
        "id": "5vRJJxQYz3aO"
      },
      "execution_count": 33,
      "outputs": []
    },
    {
      "cell_type": "code",
      "source": [
        "#Plotting offline\n",
        "iplot(plot)"
      ],
      "metadata": {
        "colab": {
          "base_uri": "https://localhost:8080/",
          "height": 542
        },
        "id": "HfeFOLr_hLkg",
        "outputId": "3e6a1808-1d69-4ceb-df93-86655b911d8a"
      },
      "execution_count": 34,
      "outputs": [
        {
          "output_type": "display_data",
          "data": {
            "text/html": [
              "<html>\n",
              "<head><meta charset=\"utf-8\" /></head>\n",
              "<body>\n",
              "    <div>            <script src=\"https://cdnjs.cloudflare.com/ajax/libs/mathjax/2.7.5/MathJax.js?config=TeX-AMS-MML_SVG\"></script><script type=\"text/javascript\">if (window.MathJax && window.MathJax.Hub && window.MathJax.Hub.Config) {window.MathJax.Hub.Config({SVG: {font: \"STIX-Web\"}});}</script>                <script type=\"text/javascript\">window.PlotlyConfig = {MathJaxConfig: 'local'};</script>\n",
              "        <script src=\"https://cdn.plot.ly/plotly-2.18.2.min.js\"></script>                <div id=\"db33db4c-8b52-45cc-a227-25f6942bf6c8\" class=\"plotly-graph-div\" style=\"height:525px; width:100%;\"></div>            <script type=\"text/javascript\">                                    window.PLOTLYENV=window.PLOTLYENV || {};                                    if (document.getElementById(\"db33db4c-8b52-45cc-a227-25f6942bf6c8\")) {                    Plotly.newPlot(                        \"db33db4c-8b52-45cc-a227-25f6942bf6c8\",                        [{\"x\":[\"2010-01-07T00:00:00\",\"2010-01-09T00:00:00\",\"2010-01-10T00:00:00\",\"2010-01-11T00:00:00\",\"2010-01-12T00:00:00\",\"2010-02-07T00:00:00\",\"2010-02-08T00:00:00\",\"2010-02-09T00:00:00\",\"2010-02-11T00:00:00\",\"2010-02-12T00:00:00\",\"2010-03-08T00:00:00\",\"2010-03-09T00:00:00\",\"2010-03-11T00:00:00\",\"2010-03-12T00:00:00\",\"2010-04-08T00:00:00\",\"2010-04-10T00:00:00\",\"2010-04-11T00:00:00\",\"2010-05-08T00:00:00\",\"2010-05-10T00:00:00\",\"2010-05-11T00:00:00\",\"2010-06-07T00:00:00\",\"2010-06-08T00:00:00\",\"2010-06-10T00:00:00\",\"2010-06-12T00:00:00\",\"2010-06-29T00:00:00\",\"2010-06-30T00:00:00\",\"2010-07-07T00:00:00\",\"2010-07-09T00:00:00\",\"2010-07-10T00:00:00\",\"2010-07-12T00:00:00\",\"2010-07-13T00:00:00\",\"2010-07-14T00:00:00\",\"2010-07-15T00:00:00\",\"2010-07-16T00:00:00\",\"2010-07-19T00:00:00\",\"2010-07-20T00:00:00\",\"2010-07-21T00:00:00\",\"2010-07-22T00:00:00\",\"2010-07-23T00:00:00\",\"2010-07-26T00:00:00\",\"2010-07-27T00:00:00\",\"2010-07-28T00:00:00\",\"2010-07-29T00:00:00\",\"2010-07-30T00:00:00\",\"2010-08-07T00:00:00\",\"2010-08-09T00:00:00\",\"2010-08-10T00:00:00\",\"2010-08-11T00:00:00\",\"2010-08-12T00:00:00\",\"2010-08-13T00:00:00\",\"2010-08-16T00:00:00\",\"2010-08-17T00:00:00\",\"2010-08-18T00:00:00\",\"2010-08-19T00:00:00\",\"2010-08-20T00:00:00\",\"2010-08-23T00:00:00\",\"2010-08-24T00:00:00\",\"2010-08-25T00:00:00\",\"2010-08-26T00:00:00\",\"2010-08-27T00:00:00\",\"2010-08-30T00:00:00\",\"2010-08-31T00:00:00\",\"2010-09-07T00:00:00\",\"2010-09-08T00:00:00\",\"2010-09-09T00:00:00\",\"2010-09-11T00:00:00\",\"2010-09-12T00:00:00\",\"2010-09-13T00:00:00\",\"2010-09-14T00:00:00\",\"2010-09-15T00:00:00\",\"2010-09-16T00:00:00\",\"2010-09-17T00:00:00\",\"2010-09-20T00:00:00\",\"2010-09-21T00:00:00\",\"2010-09-22T00:00:00\",\"2010-09-23T00:00:00\",\"2010-09-24T00:00:00\",\"2010-09-27T00:00:00\",\"2010-09-28T00:00:00\",\"2010-09-29T00:00:00\",\"2010-09-30T00:00:00\",\"2010-10-08T00:00:00\",\"2010-10-09T00:00:00\",\"2010-10-11T00:00:00\",\"2010-10-12T00:00:00\",\"2010-10-13T00:00:00\",\"2010-10-14T00:00:00\",\"2010-10-15T00:00:00\",\"2010-10-18T00:00:00\",\"2010-10-19T00:00:00\",\"2010-10-20T00:00:00\",\"2010-10-21T00:00:00\",\"2010-10-22T00:00:00\",\"2010-10-25T00:00:00\",\"2010-10-26T00:00:00\",\"2010-10-27T00:00:00\",\"2010-10-28T00:00:00\",\"2010-10-29T00:00:00\",\"2010-11-08T00:00:00\",\"2010-11-10T00:00:00\",\"2010-11-11T00:00:00\",\"2010-11-15T00:00:00\",\"2010-11-16T00:00:00\",\"2010-11-17T00:00:00\",\"2010-11-18T00:00:00\",\"2010-11-19T00:00:00\",\"2010-11-22T00:00:00\",\"2010-11-23T00:00:00\",\"2010-11-24T00:00:00\",\"2010-11-26T00:00:00\",\"2010-11-29T00:00:00\",\"2010-11-30T00:00:00\",\"2010-12-07T00:00:00\",\"2010-12-08T00:00:00\",\"2010-12-10T00:00:00\",\"2010-12-11T00:00:00\",\"2010-12-13T00:00:00\",\"2010-12-14T00:00:00\",\"2010-12-15T00:00:00\",\"2010-12-16T00:00:00\",\"2010-12-17T00:00:00\",\"2010-12-20T00:00:00\",\"2010-12-21T00:00:00\",\"2010-12-22T00:00:00\",\"2010-12-23T00:00:00\",\"2010-12-27T00:00:00\",\"2010-12-28T00:00:00\",\"2010-12-29T00:00:00\",\"2010-12-30T00:00:00\",\"2010-12-31T00:00:00\",\"2011-01-02T00:00:00\",\"2011-01-03T00:00:00\",\"2011-01-04T00:00:00\",\"2011-01-06T00:00:00\",\"2011-01-07T00:00:00\",\"2011-01-08T00:00:00\",\"2011-01-09T00:00:00\",\"2011-01-11T00:00:00\",\"2011-01-12T00:00:00\",\"2011-01-13T00:00:00\",\"2011-01-14T00:00:00\",\"2011-01-18T00:00:00\",\"2011-01-19T00:00:00\",\"2011-01-20T00:00:00\",\"2011-01-21T00:00:00\",\"2011-01-24T00:00:00\",\"2011-01-25T00:00:00\",\"2011-01-26T00:00:00\",\"2011-01-27T00:00:00\",\"2011-01-28T00:00:00\",\"2011-01-31T00:00:00\",\"2011-02-02T00:00:00\",\"2011-02-03T00:00:00\",\"2011-02-05T00:00:00\",\"2011-02-06T00:00:00\",\"2011-02-08T00:00:00\",\"2011-02-09T00:00:00\",\"2011-02-11T00:00:00\",\"2011-02-12T00:00:00\",\"2011-02-14T00:00:00\",\"2011-02-15T00:00:00\",\"2011-02-16T00:00:00\",\"2011-02-17T00:00:00\",\"2011-02-18T00:00:00\",\"2011-02-22T00:00:00\",\"2011-02-23T00:00:00\",\"2011-02-24T00:00:00\",\"2011-02-25T00:00:00\",\"2011-02-28T00:00:00\",\"2011-03-01T00:00:00\",\"2011-03-02T00:00:00\",\"2011-03-03T00:00:00\",\"2011-03-05T00:00:00\",\"2011-03-06T00:00:00\",\"2011-03-08T00:00:00\",\"2011-03-10T00:00:00\",\"2011-03-11T00:00:00\",\"2011-03-14T00:00:00\",\"2011-03-15T00:00:00\",\"2011-03-16T00:00:00\",\"2011-03-17T00:00:00\",\"2011-03-18T00:00:00\",\"2011-03-21T00:00:00\",\"2011-03-22T00:00:00\",\"2011-03-23T00:00:00\",\"2011-03-24T00:00:00\",\"2011-03-25T00:00:00\",\"2011-03-28T00:00:00\",\"2011-03-29T00:00:00\",\"2011-03-30T00:00:00\",\"2011-03-31T00:00:00\",\"2011-04-01T00:00:00\",\"2011-04-02T00:00:00\",\"2011-04-03T00:00:00\",\"2011-04-04T00:00:00\",\"2011-04-05T00:00:00\",\"2011-04-08T00:00:00\",\"2011-04-10T00:00:00\",\"2011-04-11T00:00:00\",\"2011-04-13T00:00:00\",\"2011-04-14T00:00:00\",\"2011-04-15T00:00:00\",\"2011-04-18T00:00:00\",\"2011-04-19T00:00:00\",\"2011-04-20T00:00:00\",\"2011-04-21T00:00:00\",\"2011-04-25T00:00:00\",\"2011-04-26T00:00:00\",\"2011-04-27T00:00:00\",\"2011-04-28T00:00:00\",\"2011-04-29T00:00:00\",\"2011-05-01T00:00:00\",\"2011-05-04T00:00:00\",\"2011-05-05T00:00:00\",\"2011-05-07T00:00:00\",\"2011-05-08T00:00:00\",\"2011-05-10T00:00:00\",\"2011-05-12T00:00:00\",\"2011-05-13T00:00:00\",\"2011-05-16T00:00:00\",\"2011-05-17T00:00:00\",\"2011-05-18T00:00:00\",\"2011-05-19T00:00:00\",\"2011-05-20T00:00:00\",\"2011-05-23T00:00:00\",\"2011-05-24T00:00:00\",\"2011-05-25T00:00:00\",\"2011-05-26T00:00:00\",\"2011-05-27T00:00:00\",\"2011-05-31T00:00:00\",\"2011-06-01T00:00:00\",\"2011-06-04T00:00:00\",\"2011-06-05T00:00:00\",\"2011-06-06T00:00:00\",\"2011-06-07T00:00:00\",\"2011-06-09T00:00:00\",\"2011-06-10T00:00:00\",\"2011-06-12T00:00:00\",\"2011-06-13T00:00:00\",\"2011-06-14T00:00:00\",\"2011-06-15T00:00:00\",\"2011-06-16T00:00:00\",\"2011-06-17T00:00:00\",\"2011-06-20T00:00:00\",\"2011-06-21T00:00:00\",\"2011-06-22T00:00:00\",\"2011-06-23T00:00:00\",\"2011-06-24T00:00:00\",\"2011-06-27T00:00:00\",\"2011-06-28T00:00:00\",\"2011-06-29T00:00:00\",\"2011-06-30T00:00:00\",\"2011-07-01T00:00:00\",\"2011-07-02T00:00:00\",\"2011-07-03T00:00:00\",\"2011-07-04T00:00:00\",\"2011-07-06T00:00:00\",\"2011-07-07T00:00:00\",\"2011-07-09T00:00:00\",\"2011-07-10T00:00:00\",\"2011-07-11T00:00:00\",\"2011-07-12T00:00:00\",\"2011-07-13T00:00:00\",\"2011-07-14T00:00:00\",\"2011-07-15T00:00:00\",\"2011-07-18T00:00:00\",\"2011-07-19T00:00:00\",\"2011-07-20T00:00:00\",\"2011-07-21T00:00:00\",\"2011-07-22T00:00:00\",\"2011-07-25T00:00:00\",\"2011-07-26T00:00:00\",\"2011-07-27T00:00:00\",\"2011-07-28T00:00:00\",\"2011-07-29T00:00:00\",\"2011-08-02T00:00:00\",\"2011-08-03T00:00:00\",\"2011-08-04T00:00:00\",\"2011-08-06T00:00:00\",\"2011-08-07T00:00:00\",\"2011-08-08T00:00:00\",\"2011-08-09T00:00:00\",\"2011-08-11T00:00:00\",\"2011-08-12T00:00:00\",\"2011-08-15T00:00:00\",\"2011-08-16T00:00:00\",\"2011-08-17T00:00:00\",\"2011-08-18T00:00:00\",\"2011-08-19T00:00:00\",\"2011-08-22T00:00:00\",\"2011-08-23T00:00:00\",\"2011-08-24T00:00:00\",\"2011-08-25T00:00:00\",\"2011-08-26T00:00:00\",\"2011-08-29T00:00:00\",\"2011-08-30T00:00:00\",\"2011-08-31T00:00:00\",\"2011-09-02T00:00:00\",\"2011-09-03T00:00:00\",\"2011-09-05T00:00:00\",\"2011-09-06T00:00:00\",\"2011-09-08T00:00:00\",\"2011-09-09T00:00:00\",\"2011-09-11T00:00:00\",\"2011-09-12T00:00:00\",\"2011-09-13T00:00:00\",\"2011-09-14T00:00:00\",\"2011-09-15T00:00:00\",\"2011-09-16T00:00:00\",\"2011-09-19T00:00:00\",\"2011-09-20T00:00:00\",\"2011-09-21T00:00:00\",\"2011-09-22T00:00:00\",\"2011-09-23T00:00:00\",\"2011-09-26T00:00:00\",\"2011-09-27T00:00:00\",\"2011-09-28T00:00:00\",\"2011-09-29T00:00:00\",\"2011-09-30T00:00:00\",\"2011-10-01T00:00:00\",\"2011-10-02T00:00:00\",\"2011-10-03T00:00:00\",\"2011-10-05T00:00:00\",\"2011-10-06T00:00:00\",\"2011-10-08T00:00:00\",\"2011-10-10T00:00:00\",\"2011-10-11T00:00:00\",\"2011-10-13T00:00:00\",\"2011-10-14T00:00:00\",\"2011-10-17T00:00:00\",\"2011-10-18T00:00:00\",\"2011-10-19T00:00:00\",\"2011-10-20T00:00:00\",\"2011-10-21T00:00:00\",\"2011-10-24T00:00:00\",\"2011-10-25T00:00:00\",\"2011-10-26T00:00:00\",\"2011-10-27T00:00:00\",\"2011-10-28T00:00:00\",\"2011-10-31T00:00:00\",\"2011-11-01T00:00:00\",\"2011-11-02T00:00:00\",\"2011-11-03T00:00:00\",\"2011-11-04T00:00:00\",\"2011-11-05T00:00:00\",\"2011-11-07T00:00:00\",\"2011-11-08T00:00:00\",\"2011-11-10T00:00:00\",\"2011-11-11T00:00:00\",\"2011-11-14T00:00:00\",\"2011-11-15T00:00:00\",\"2011-11-16T00:00:00\",\"2011-11-17T00:00:00\",\"2011-11-18T00:00:00\",\"2011-11-21T00:00:00\",\"2011-11-22T00:00:00\",\"2011-11-23T00:00:00\",\"2011-11-25T00:00:00\",\"2011-11-28T00:00:00\",\"2011-11-29T00:00:00\",\"2011-11-30T00:00:00\",\"2011-12-01T00:00:00\",\"2011-12-04T00:00:00\",\"2011-12-05T00:00:00\",\"2011-12-07T00:00:00\",\"2011-12-08T00:00:00\",\"2011-12-09T00:00:00\",\"2011-12-10T00:00:00\",\"2011-12-12T00:00:00\",\"2011-12-13T00:00:00\",\"2011-12-14T00:00:00\",\"2011-12-15T00:00:00\",\"2011-12-16T00:00:00\",\"2011-12-19T00:00:00\",\"2011-12-20T00:00:00\",\"2011-12-21T00:00:00\",\"2011-12-22T00:00:00\",\"2011-12-23T00:00:00\",\"2011-12-27T00:00:00\",\"2011-12-28T00:00:00\",\"2011-12-29T00:00:00\",\"2011-12-30T00:00:00\",\"2012-01-02T00:00:00\",\"2012-01-03T00:00:00\",\"2012-01-05T00:00:00\",\"2012-01-06T00:00:00\",\"2012-01-08T00:00:00\",\"2012-01-10T00:00:00\",\"2012-01-11T00:00:00\",\"2012-01-13T00:00:00\",\"2012-01-17T00:00:00\",\"2012-01-18T00:00:00\",\"2012-01-19T00:00:00\",\"2012-01-20T00:00:00\",\"2012-01-23T00:00:00\",\"2012-01-24T00:00:00\",\"2012-01-25T00:00:00\",\"2012-01-26T00:00:00\",\"2012-01-27T00:00:00\",\"2012-01-30T00:00:00\",\"2012-01-31T00:00:00\",\"2012-02-02T00:00:00\",\"2012-02-03T00:00:00\",\"2012-02-04T00:00:00\",\"2012-02-05T00:00:00\",\"2012-02-07T00:00:00\",\"2012-02-08T00:00:00\",\"2012-02-10T00:00:00\",\"2012-02-11T00:00:00\",\"2012-02-13T00:00:00\",\"2012-02-14T00:00:00\",\"2012-02-15T00:00:00\",\"2012-02-16T00:00:00\",\"2012-02-17T00:00:00\",\"2012-02-21T00:00:00\",\"2012-02-22T00:00:00\",\"2012-02-23T00:00:00\",\"2012-02-24T00:00:00\",\"2012-02-27T00:00:00\",\"2012-02-28T00:00:00\",\"2012-02-29T00:00:00\",\"2012-03-01T00:00:00\",\"2012-03-02T00:00:00\",\"2012-03-04T00:00:00\",\"2012-03-05T00:00:00\",\"2012-03-07T00:00:00\",\"2012-03-08T00:00:00\",\"2012-03-10T00:00:00\",\"2012-03-12T00:00:00\",\"2012-03-13T00:00:00\",\"2012-03-14T00:00:00\",\"2012-03-15T00:00:00\",\"2012-03-16T00:00:00\",\"2012-03-19T00:00:00\",\"2012-03-20T00:00:00\",\"2012-03-21T00:00:00\",\"2012-03-22T00:00:00\",\"2012-03-23T00:00:00\",\"2012-03-26T00:00:00\",\"2012-03-27T00:00:00\",\"2012-03-28T00:00:00\",\"2012-03-29T00:00:00\",\"2012-03-30T00:00:00\",\"2012-04-01T00:00:00\",\"2012-04-04T00:00:00\",\"2012-04-05T00:00:00\",\"2012-04-06T00:00:00\",\"2012-04-09T00:00:00\",\"2012-04-10T00:00:00\",\"2012-04-12T00:00:00\",\"2012-04-13T00:00:00\",\"2012-04-16T00:00:00\",\"2012-04-17T00:00:00\",\"2012-04-18T00:00:00\",\"2012-04-19T00:00:00\",\"2012-04-20T00:00:00\",\"2012-04-23T00:00:00\",\"2012-04-24T00:00:00\",\"2012-04-25T00:00:00\",\"2012-04-26T00:00:00\",\"2012-04-27T00:00:00\",\"2012-04-30T00:00:00\",\"2012-05-01T00:00:00\",\"2012-05-03T00:00:00\",\"2012-05-04T00:00:00\",\"2012-05-06T00:00:00\",\"2012-05-07T00:00:00\",\"2012-05-09T00:00:00\",\"2012-05-10T00:00:00\",\"2012-05-11T00:00:00\",\"2012-05-12T00:00:00\",\"2012-05-14T00:00:00\",\"2012-05-15T00:00:00\",\"2012-05-16T00:00:00\",\"2012-05-17T00:00:00\",\"2012-05-18T00:00:00\",\"2012-05-21T00:00:00\",\"2012-05-22T00:00:00\",\"2012-05-23T00:00:00\",\"2012-05-24T00:00:00\",\"2012-05-25T00:00:00\",\"2012-05-29T00:00:00\",\"2012-05-30T00:00:00\",\"2012-05-31T00:00:00\",\"2012-06-01T00:00:00\",\"2012-06-02T00:00:00\",\"2012-06-03T00:00:00\",\"2012-06-06T00:00:00\",\"2012-06-07T00:00:00\",\"2012-06-08T00:00:00\",\"2012-06-09T00:00:00\",\"2012-06-11T00:00:00\",\"2012-06-12T00:00:00\",\"2012-06-13T00:00:00\",\"2012-06-14T00:00:00\",\"2012-06-15T00:00:00\",\"2012-06-18T00:00:00\",\"2012-06-19T00:00:00\",\"2012-06-20T00:00:00\",\"2012-06-21T00:00:00\",\"2012-06-22T00:00:00\",\"2012-06-25T00:00:00\",\"2012-06-26T00:00:00\",\"2012-06-27T00:00:00\",\"2012-06-28T00:00:00\",\"2012-06-29T00:00:00\",\"2012-07-02T00:00:00\",\"2012-07-03T00:00:00\",\"2012-07-05T00:00:00\",\"2012-07-06T00:00:00\",\"2012-07-08T00:00:00\",\"2012-07-09T00:00:00\",\"2012-07-11T00:00:00\",\"2012-07-12T00:00:00\",\"2012-07-13T00:00:00\",\"2012-07-16T00:00:00\",\"2012-07-17T00:00:00\",\"2012-07-18T00:00:00\",\"2012-07-19T00:00:00\",\"2012-07-20T00:00:00\",\"2012-07-23T00:00:00\",\"2012-07-24T00:00:00\",\"2012-07-25T00:00:00\",\"2012-07-26T00:00:00\",\"2012-07-27T00:00:00\",\"2012-07-30T00:00:00\",\"2012-07-31T00:00:00\",\"2012-08-02T00:00:00\",\"2012-08-03T00:00:00\",\"2012-08-05T00:00:00\",\"2012-08-06T00:00:00\",\"2012-08-08T00:00:00\",\"2012-08-10T00:00:00\",\"2012-08-11T00:00:00\",\"2012-08-13T00:00:00\",\"2012-08-14T00:00:00\",\"2012-08-15T00:00:00\",\"2012-08-16T00:00:00\",\"2012-08-17T00:00:00\",\"2012-08-20T00:00:00\",\"2012-08-21T00:00:00\",\"2012-08-22T00:00:00\",\"2012-08-23T00:00:00\",\"2012-08-24T00:00:00\",\"2012-08-27T00:00:00\",\"2012-08-28T00:00:00\",\"2012-08-29T00:00:00\",\"2012-08-30T00:00:00\",\"2012-08-31T00:00:00\",\"2012-09-01T00:00:00\",\"2012-09-02T00:00:00\",\"2012-09-03T00:00:00\",\"2012-09-04T00:00:00\",\"2012-09-05T00:00:00\",\"2012-09-07T00:00:00\",\"2012-09-08T00:00:00\",\"2012-09-10T00:00:00\",\"2012-09-11T00:00:00\",\"2012-09-13T00:00:00\",\"2012-09-14T00:00:00\",\"2012-09-17T00:00:00\",\"2012-09-18T00:00:00\",\"2012-09-19T00:00:00\",\"2012-09-20T00:00:00\",\"2012-09-21T00:00:00\",\"2012-09-24T00:00:00\",\"2012-09-25T00:00:00\",\"2012-09-26T00:00:00\",\"2012-09-27T00:00:00\",\"2012-09-28T00:00:00\",\"2012-10-01T00:00:00\",\"2012-10-02T00:00:00\",\"2012-10-04T00:00:00\",\"2012-10-05T00:00:00\",\"2012-10-07T00:00:00\",\"2012-10-08T00:00:00\",\"2012-10-09T00:00:00\",\"2012-10-10T00:00:00\",\"2012-10-12T00:00:00\",\"2012-10-15T00:00:00\",\"2012-10-16T00:00:00\",\"2012-10-17T00:00:00\",\"2012-10-18T00:00:00\",\"2012-10-19T00:00:00\",\"2012-10-22T00:00:00\",\"2012-10-23T00:00:00\",\"2012-10-24T00:00:00\",\"2012-10-25T00:00:00\",\"2012-10-26T00:00:00\",\"2012-10-31T00:00:00\",\"2012-11-01T00:00:00\",\"2012-11-04T00:00:00\",\"2012-11-05T00:00:00\",\"2012-11-06T00:00:00\",\"2012-11-07T00:00:00\",\"2012-11-09T00:00:00\",\"2012-11-10T00:00:00\",\"2012-11-12T00:00:00\",\"2012-11-13T00:00:00\",\"2012-11-14T00:00:00\",\"2012-11-15T00:00:00\",\"2012-11-16T00:00:00\",\"2012-11-19T00:00:00\",\"2012-11-20T00:00:00\",\"2012-11-21T00:00:00\",\"2012-11-23T00:00:00\",\"2012-11-26T00:00:00\",\"2012-11-27T00:00:00\",\"2012-11-28T00:00:00\",\"2012-11-29T00:00:00\",\"2012-11-30T00:00:00\",\"2012-12-01T00:00:00\",\"2012-12-03T00:00:00\",\"2012-12-04T00:00:00\",\"2012-12-06T00:00:00\",\"2012-12-07T00:00:00\",\"2012-12-09T00:00:00\",\"2012-12-10T00:00:00\",\"2012-12-11T00:00:00\",\"2012-12-12T00:00:00\",\"2012-12-13T00:00:00\",\"2012-12-14T00:00:00\",\"2012-12-17T00:00:00\",\"2012-12-18T00:00:00\",\"2012-12-19T00:00:00\",\"2012-12-20T00:00:00\",\"2012-12-21T00:00:00\",\"2012-12-24T00:00:00\",\"2012-12-26T00:00:00\",\"2012-12-27T00:00:00\",\"2012-12-28T00:00:00\",\"2012-12-31T00:00:00\",\"2013-01-02T00:00:00\",\"2013-01-03T00:00:00\",\"2013-01-04T00:00:00\",\"2013-01-05T00:00:00\",\"2013-01-07T00:00:00\",\"2013-01-08T00:00:00\",\"2013-01-10T00:00:00\",\"2013-01-11T00:00:00\",\"2013-01-14T00:00:00\",\"2013-01-15T00:00:00\",\"2013-01-16T00:00:00\",\"2013-01-17T00:00:00\",\"2013-01-18T00:00:00\",\"2013-01-22T00:00:00\",\"2013-01-23T00:00:00\",\"2013-01-24T00:00:00\",\"2013-01-25T00:00:00\",\"2013-01-28T00:00:00\",\"2013-01-29T00:00:00\",\"2013-01-30T00:00:00\",\"2013-01-31T00:00:00\",\"2013-02-01T00:00:00\",\"2013-02-04T00:00:00\",\"2013-02-05T00:00:00\",\"2013-02-07T00:00:00\",\"2013-02-08T00:00:00\",\"2013-02-10T00:00:00\",\"2013-02-12T00:00:00\",\"2013-02-13T00:00:00\",\"2013-02-14T00:00:00\",\"2013-02-15T00:00:00\",\"2013-02-19T00:00:00\",\"2013-02-20T00:00:00\",\"2013-02-21T00:00:00\",\"2013-02-22T00:00:00\",\"2013-02-25T00:00:00\",\"2013-02-26T00:00:00\",\"2013-02-27T00:00:00\",\"2013-02-28T00:00:00\",\"2013-03-01T00:00:00\",\"2013-03-04T00:00:00\",\"2013-03-05T00:00:00\",\"2013-03-06T00:00:00\",\"2013-03-07T00:00:00\",\"2013-03-09T00:00:00\",\"2013-03-10T00:00:00\",\"2013-03-12T00:00:00\",\"2013-03-13T00:00:00\",\"2013-03-14T00:00:00\",\"2013-03-15T00:00:00\",\"2013-03-18T00:00:00\",\"2013-03-19T00:00:00\",\"2013-03-20T00:00:00\",\"2013-03-21T00:00:00\",\"2013-03-22T00:00:00\",\"2013-03-25T00:00:00\",\"2013-03-26T00:00:00\",\"2013-03-27T00:00:00\",\"2013-03-28T00:00:00\",\"2013-04-01T00:00:00\",\"2013-04-02T00:00:00\",\"2013-04-03T00:00:00\",\"2013-04-04T00:00:00\",\"2013-04-06T00:00:00\",\"2013-04-09T00:00:00\",\"2013-04-10T00:00:00\",\"2013-04-11T00:00:00\",\"2013-04-12T00:00:00\",\"2013-04-15T00:00:00\",\"2013-04-16T00:00:00\",\"2013-04-17T00:00:00\",\"2013-04-18T00:00:00\",\"2013-04-19T00:00:00\",\"2013-04-22T00:00:00\",\"2013-04-23T00:00:00\",\"2013-04-24T00:00:00\",\"2013-04-25T00:00:00\",\"2013-04-26T00:00:00\",\"2013-04-29T00:00:00\",\"2013-04-30T00:00:00\",\"2013-05-02T00:00:00\",\"2013-05-03T00:00:00\",\"2013-05-04T00:00:00\",\"2013-05-06T00:00:00\",\"2013-05-07T00:00:00\",\"2013-05-08T00:00:00\",\"2013-05-09T00:00:00\",\"2013-05-11T00:00:00\",\"2013-05-12T00:00:00\",\"2013-05-13T00:00:00\",\"2013-05-14T00:00:00\",\"2013-05-15T00:00:00\",\"2013-05-16T00:00:00\",\"2013-05-17T00:00:00\",\"2013-05-20T00:00:00\",\"2013-05-21T00:00:00\",\"2013-05-22T00:00:00\",\"2013-05-23T00:00:00\",\"2013-05-24T00:00:00\",\"2013-05-28T00:00:00\",\"2013-05-29T00:00:00\",\"2013-05-30T00:00:00\",\"2013-05-31T00:00:00\",\"2013-06-02T00:00:00\",\"2013-06-03T00:00:00\",\"2013-06-05T00:00:00\",\"2013-06-06T00:00:00\",\"2013-06-08T00:00:00\",\"2013-06-09T00:00:00\",\"2013-06-11T00:00:00\",\"2013-06-12T00:00:00\",\"2013-06-13T00:00:00\",\"2013-06-14T00:00:00\",\"2013-06-17T00:00:00\",\"2013-06-18T00:00:00\",\"2013-06-19T00:00:00\",\"2013-06-20T00:00:00\",\"2013-06-21T00:00:00\",\"2013-06-24T00:00:00\",\"2013-06-25T00:00:00\",\"2013-06-26T00:00:00\",\"2013-06-27T00:00:00\",\"2013-06-28T00:00:00\",\"2013-07-01T00:00:00\",\"2013-07-02T00:00:00\",\"2013-07-03T00:00:00\",\"2013-07-05T00:00:00\",\"2013-07-06T00:00:00\",\"2013-07-08T00:00:00\",\"2013-07-10T00:00:00\",\"2013-07-11T00:00:00\",\"2013-07-15T00:00:00\",\"2013-07-16T00:00:00\",\"2013-07-17T00:00:00\",\"2013-07-18T00:00:00\",\"2013-07-19T00:00:00\",\"2013-07-22T00:00:00\",\"2013-07-23T00:00:00\",\"2013-07-24T00:00:00\",\"2013-07-25T00:00:00\",\"2013-07-26T00:00:00\",\"2013-07-29T00:00:00\",\"2013-07-30T00:00:00\",\"2013-07-31T00:00:00\",\"2013-08-01T00:00:00\",\"2013-08-02T00:00:00\",\"2013-08-03T00:00:00\",\"2013-08-04T00:00:00\",\"2013-08-05T00:00:00\",\"2013-08-07T00:00:00\",\"2013-08-08T00:00:00\",\"2013-08-10T00:00:00\",\"2013-08-11T00:00:00\",\"2013-08-13T00:00:00\",\"2013-08-14T00:00:00\",\"2013-08-15T00:00:00\",\"2013-08-16T00:00:00\",\"2013-08-19T00:00:00\",\"2013-08-20T00:00:00\",\"2013-08-21T00:00:00\",\"2013-08-22T00:00:00\",\"2013-08-23T00:00:00\",\"2013-08-26T00:00:00\",\"2013-08-27T00:00:00\",\"2013-08-28T00:00:00\",\"2013-08-29T00:00:00\",\"2013-08-30T00:00:00\",\"2013-09-01T00:00:00\",\"2013-09-04T00:00:00\",\"2013-09-05T00:00:00\",\"2013-09-07T00:00:00\",\"2013-09-08T00:00:00\",\"2013-09-09T00:00:00\",\"2013-09-10T00:00:00\",\"2013-09-12T00:00:00\",\"2013-09-13T00:00:00\",\"2013-09-16T00:00:00\",\"2013-09-17T00:00:00\",\"2013-09-18T00:00:00\",\"2013-09-19T00:00:00\",\"2013-09-20T00:00:00\",\"2013-09-23T00:00:00\",\"2013-09-24T00:00:00\",\"2013-09-25T00:00:00\",\"2013-09-26T00:00:00\",\"2013-09-27T00:00:00\",\"2013-09-30T00:00:00\",\"2013-10-01T00:00:00\",\"2013-10-04T00:00:00\",\"2013-10-05T00:00:00\",\"2013-10-06T00:00:00\",\"2013-10-07T00:00:00\",\"2013-10-09T00:00:00\",\"2013-10-10T00:00:00\",\"2013-10-12T00:00:00\",\"2013-10-14T00:00:00\",\"2013-10-15T00:00:00\",\"2013-10-16T00:00:00\",\"2013-10-17T00:00:00\",\"2013-10-18T00:00:00\",\"2013-10-21T00:00:00\",\"2013-10-22T00:00:00\",\"2013-10-23T00:00:00\",\"2013-10-24T00:00:00\",\"2013-10-25T00:00:00\",\"2013-10-28T00:00:00\",\"2013-10-29T00:00:00\",\"2013-10-30T00:00:00\",\"2013-10-31T00:00:00\",\"2013-11-01T00:00:00\",\"2013-11-02T00:00:00\",\"2013-11-03T00:00:00\",\"2013-11-04T00:00:00\",\"2013-11-06T00:00:00\",\"2013-11-07T00:00:00\",\"2013-11-09T00:00:00\",\"2013-11-10T00:00:00\",\"2013-11-11T00:00:00\",\"2013-11-12T00:00:00\",\"2013-11-13T00:00:00\",\"2013-11-14T00:00:00\",\"2013-11-15T00:00:00\",\"2013-11-18T00:00:00\",\"2013-11-19T00:00:00\",\"2013-11-20T00:00:00\",\"2013-11-21T00:00:00\",\"2013-11-22T00:00:00\",\"2013-11-25T00:00:00\",\"2013-11-26T00:00:00\",\"2013-11-27T00:00:00\",\"2013-11-29T00:00:00\",\"2013-12-02T00:00:00\",\"2013-12-03T00:00:00\",\"2013-12-04T00:00:00\",\"2013-12-06T00:00:00\",\"2013-12-07T00:00:00\",\"2013-12-08T00:00:00\",\"2013-12-09T00:00:00\",\"2013-12-11T00:00:00\",\"2013-12-12T00:00:00\",\"2013-12-13T00:00:00\",\"2013-12-16T00:00:00\",\"2013-12-17T00:00:00\",\"2013-12-18T00:00:00\",\"2013-12-19T00:00:00\",\"2013-12-20T00:00:00\",\"2013-12-23T00:00:00\",\"2013-12-24T00:00:00\",\"2013-12-26T00:00:00\",\"2013-12-27T00:00:00\",\"2013-12-30T00:00:00\",\"2013-12-31T00:00:00\",\"2014-01-04T00:00:00\",\"2014-01-05T00:00:00\",\"2014-01-07T00:00:00\",\"2014-01-08T00:00:00\",\"2014-01-10T00:00:00\",\"2014-01-12T00:00:00\",\"2014-01-13T00:00:00\",\"2014-01-14T00:00:00\",\"2014-01-15T00:00:00\",\"2014-01-16T00:00:00\",\"2014-01-17T00:00:00\",\"2014-01-21T00:00:00\",\"2014-01-22T00:00:00\",\"2014-01-23T00:00:00\",\"2014-01-24T00:00:00\",\"2014-01-27T00:00:00\",\"2014-01-28T00:00:00\",\"2014-01-29T00:00:00\",\"2014-01-30T00:00:00\",\"2014-01-31T00:00:00\",\"2014-02-01T00:00:00\",\"2014-02-04T00:00:00\",\"2014-02-05T00:00:00\",\"2014-02-06T00:00:00\",\"2014-02-07T00:00:00\",\"2014-02-09T00:00:00\",\"2014-02-10T00:00:00\",\"2014-02-12T00:00:00\",\"2014-02-13T00:00:00\",\"2014-02-14T00:00:00\",\"2014-02-18T00:00:00\",\"2014-02-19T00:00:00\",\"2014-02-20T00:00:00\",\"2014-02-21T00:00:00\",\"2014-02-24T00:00:00\",\"2014-02-25T00:00:00\",\"2014-02-26T00:00:00\",\"2014-02-27T00:00:00\",\"2014-02-28T00:00:00\",\"2014-03-01T00:00:00\",\"2014-03-02T00:00:00\",\"2014-03-03T00:00:00\",\"2014-03-04T00:00:00\",\"2014-03-06T00:00:00\",\"2014-03-07T00:00:00\",\"2014-03-09T00:00:00\",\"2014-03-10T00:00:00\",\"2014-03-11T00:00:00\",\"2014-03-12T00:00:00\",\"2014-03-13T00:00:00\",\"2014-03-14T00:00:00\",\"2014-03-17T00:00:00\",\"2014-03-18T00:00:00\",\"2014-03-19T00:00:00\",\"2014-03-20T00:00:00\",\"2014-03-21T00:00:00\",\"2014-03-24T00:00:00\",\"2014-03-25T00:00:00\",\"2014-03-26T00:00:00\",\"2014-03-27T00:00:00\",\"2014-03-28T00:00:00\",\"2014-03-31T00:00:00\",\"2014-04-02T00:00:00\",\"2014-04-03T00:00:00\",\"2014-04-04T00:00:00\",\"2014-04-06T00:00:00\",\"2014-04-08T00:00:00\",\"2014-04-09T00:00:00\",\"2014-04-11T00:00:00\",\"2014-04-12T00:00:00\",\"2014-04-14T00:00:00\",\"2014-04-15T00:00:00\",\"2014-04-16T00:00:00\",\"2014-04-17T00:00:00\",\"2014-04-21T00:00:00\",\"2014-04-22T00:00:00\",\"2014-04-23T00:00:00\",\"2014-04-24T00:00:00\",\"2014-04-25T00:00:00\",\"2014-04-28T00:00:00\",\"2014-04-29T00:00:00\",\"2014-04-30T00:00:00\",\"2014-05-02T00:00:00\",\"2014-05-03T00:00:00\",\"2014-05-05T00:00:00\",\"2014-05-06T00:00:00\",\"2014-05-08T00:00:00\",\"2014-05-09T00:00:00\",\"2014-05-11T00:00:00\",\"2014-05-12T00:00:00\",\"2014-05-13T00:00:00\",\"2014-05-14T00:00:00\",\"2014-05-15T00:00:00\",\"2014-05-16T00:00:00\",\"2014-05-19T00:00:00\",\"2014-05-20T00:00:00\",\"2014-05-21T00:00:00\",\"2014-05-22T00:00:00\",\"2014-05-23T00:00:00\",\"2014-05-27T00:00:00\",\"2014-05-28T00:00:00\",\"2014-05-29T00:00:00\",\"2014-05-30T00:00:00\",\"2014-06-01T00:00:00\",\"2014-06-02T00:00:00\",\"2014-06-03T00:00:00\",\"2014-06-05T00:00:00\",\"2014-06-06T00:00:00\",\"2014-06-08T00:00:00\",\"2014-06-10T00:00:00\",\"2014-06-11T00:00:00\",\"2014-06-13T00:00:00\",\"2014-06-16T00:00:00\",\"2014-06-17T00:00:00\",\"2014-06-18T00:00:00\",\"2014-06-19T00:00:00\",\"2014-06-20T00:00:00\",\"2014-06-23T00:00:00\",\"2014-06-24T00:00:00\",\"2014-06-25T00:00:00\",\"2014-06-26T00:00:00\",\"2014-06-27T00:00:00\",\"2014-06-30T00:00:00\",\"2014-07-01T00:00:00\",\"2014-07-02T00:00:00\",\"2014-07-03T00:00:00\",\"2014-07-04T00:00:00\",\"2014-07-05T00:00:00\",\"2014-07-07T00:00:00\",\"2014-07-08T00:00:00\",\"2014-07-10T00:00:00\",\"2014-07-11T00:00:00\",\"2014-07-14T00:00:00\",\"2014-07-15T00:00:00\",\"2014-07-16T00:00:00\",\"2014-07-17T00:00:00\",\"2014-07-18T00:00:00\",\"2014-07-21T00:00:00\",\"2014-07-22T00:00:00\",\"2014-07-23T00:00:00\",\"2014-07-24T00:00:00\",\"2014-07-25T00:00:00\",\"2014-07-28T00:00:00\",\"2014-07-29T00:00:00\",\"2014-07-30T00:00:00\",\"2014-07-31T00:00:00\",\"2014-08-01T00:00:00\",\"2014-08-04T00:00:00\",\"2014-08-05T00:00:00\",\"2014-08-07T00:00:00\",\"2014-08-08T00:00:00\",\"2014-08-09T00:00:00\",\"2014-08-10T00:00:00\",\"2014-08-12T00:00:00\",\"2014-08-13T00:00:00\",\"2014-08-14T00:00:00\",\"2014-08-15T00:00:00\",\"2014-08-18T00:00:00\",\"2014-08-19T00:00:00\",\"2014-08-20T00:00:00\",\"2014-08-21T00:00:00\",\"2014-08-22T00:00:00\",\"2014-08-25T00:00:00\",\"2014-08-26T00:00:00\",\"2014-08-27T00:00:00\",\"2014-08-28T00:00:00\",\"2014-08-29T00:00:00\",\"2014-09-01T00:00:00\",\"2014-09-04T00:00:00\",\"2014-09-05T00:00:00\",\"2014-09-06T00:00:00\",\"2014-09-07T00:00:00\",\"2014-09-09T00:00:00\",\"2014-09-10T00:00:00\",\"2014-09-12T00:00:00\",\"2014-09-15T00:00:00\",\"2014-09-16T00:00:00\",\"2014-09-17T00:00:00\",\"2014-09-18T00:00:00\",\"2014-09-19T00:00:00\",\"2014-09-22T00:00:00\",\"2014-09-23T00:00:00\",\"2014-09-24T00:00:00\",\"2014-09-25T00:00:00\",\"2014-09-26T00:00:00\",\"2014-09-29T00:00:00\",\"2014-09-30T00:00:00\",\"2014-10-01T00:00:00\",\"2014-10-02T00:00:00\",\"2014-10-03T00:00:00\",\"2014-10-04T00:00:00\",\"2014-10-06T00:00:00\",\"2014-10-07T00:00:00\",\"2014-10-09T00:00:00\",\"2014-10-10T00:00:00\",\"2014-10-11T00:00:00\",\"2014-10-12T00:00:00\",\"2014-10-13T00:00:00\",\"2014-10-14T00:00:00\",\"2014-10-15T00:00:00\",\"2014-10-16T00:00:00\",\"2014-10-17T00:00:00\",\"2014-10-20T00:00:00\",\"2014-10-21T00:00:00\",\"2014-10-22T00:00:00\",\"2014-10-23T00:00:00\",\"2014-10-24T00:00:00\",\"2014-10-27T00:00:00\",\"2014-10-28T00:00:00\",\"2014-10-29T00:00:00\",\"2014-10-30T00:00:00\",\"2014-10-31T00:00:00\",\"2014-11-02T00:00:00\",\"2014-11-03T00:00:00\",\"2014-11-04T00:00:00\",\"2014-11-06T00:00:00\",\"2014-11-07T00:00:00\",\"2014-11-08T00:00:00\",\"2014-11-09T00:00:00\",\"2014-11-11T00:00:00\",\"2014-11-12T00:00:00\",\"2014-11-13T00:00:00\",\"2014-11-14T00:00:00\",\"2014-11-17T00:00:00\",\"2014-11-18T00:00:00\",\"2014-11-19T00:00:00\",\"2014-11-20T00:00:00\",\"2014-11-21T00:00:00\",\"2014-11-24T00:00:00\",\"2014-11-25T00:00:00\",\"2014-11-26T00:00:00\",\"2014-11-28T00:00:00\",\"2014-12-02T00:00:00\",\"2014-12-03T00:00:00\",\"2014-12-05T00:00:00\",\"2014-12-06T00:00:00\",\"2014-12-08T00:00:00\",\"2014-12-09T00:00:00\",\"2014-12-11T00:00:00\",\"2014-12-12T00:00:00\",\"2014-12-15T00:00:00\",\"2014-12-16T00:00:00\",\"2014-12-17T00:00:00\",\"2014-12-18T00:00:00\",\"2014-12-19T00:00:00\",\"2014-12-22T00:00:00\",\"2014-12-23T00:00:00\",\"2014-12-24T00:00:00\",\"2014-12-26T00:00:00\",\"2014-12-29T00:00:00\",\"2014-12-30T00:00:00\",\"2014-12-31T00:00:00\",\"2015-01-04T00:00:00\",\"2015-01-05T00:00:00\",\"2015-01-06T00:00:00\",\"2015-01-07T00:00:00\",\"2015-01-09T00:00:00\",\"2015-01-10T00:00:00\",\"2015-01-12T00:00:00\",\"2015-01-13T00:00:00\",\"2015-01-14T00:00:00\",\"2015-01-15T00:00:00\",\"2015-01-16T00:00:00\",\"2015-01-20T00:00:00\",\"2015-01-21T00:00:00\",\"2015-01-22T00:00:00\",\"2015-01-23T00:00:00\",\"2015-01-26T00:00:00\",\"2015-01-27T00:00:00\",\"2015-01-28T00:00:00\",\"2015-01-29T00:00:00\",\"2015-01-30T00:00:00\",\"2015-02-01T00:00:00\",\"2015-02-02T00:00:00\",\"2015-02-03T00:00:00\",\"2015-02-04T00:00:00\",\"2015-02-06T00:00:00\",\"2015-02-07T00:00:00\",\"2015-02-09T00:00:00\",\"2015-02-10T00:00:00\",\"2015-02-11T00:00:00\",\"2015-02-12T00:00:00\",\"2015-02-13T00:00:00\",\"2015-02-17T00:00:00\",\"2015-02-18T00:00:00\",\"2015-02-19T00:00:00\",\"2015-02-20T00:00:00\",\"2015-02-23T00:00:00\",\"2015-02-24T00:00:00\",\"2015-02-25T00:00:00\",\"2015-02-26T00:00:00\",\"2015-02-27T00:00:00\",\"2015-03-02T00:00:00\",\"2015-03-03T00:00:00\",\"2015-03-06T00:00:00\",\"2015-03-08T00:00:00\",\"2015-03-09T00:00:00\",\"2015-03-11T00:00:00\",\"2015-03-12T00:00:00\",\"2015-03-13T00:00:00\",\"2015-03-16T00:00:00\",\"2015-03-17T00:00:00\",\"2015-03-18T00:00:00\",\"2015-03-19T00:00:00\",\"2015-03-20T00:00:00\",\"2015-03-23T00:00:00\",\"2015-03-24T00:00:00\",\"2015-03-25T00:00:00\",\"2015-03-26T00:00:00\",\"2015-03-27T00:00:00\",\"2015-03-30T00:00:00\",\"2015-03-31T00:00:00\",\"2015-04-02T00:00:00\",\"2015-04-03T00:00:00\",\"2015-04-05T00:00:00\",\"2015-04-06T00:00:00\",\"2015-04-08T00:00:00\",\"2015-04-09T00:00:00\",\"2015-04-11T00:00:00\",\"2015-04-12T00:00:00\",\"2015-04-13T00:00:00\",\"2015-04-14T00:00:00\",\"2015-04-15T00:00:00\",\"2015-04-16T00:00:00\",\"2015-04-17T00:00:00\",\"2015-04-20T00:00:00\",\"2015-04-21T00:00:00\",\"2015-04-22T00:00:00\",\"2015-04-23T00:00:00\",\"2015-04-24T00:00:00\",\"2015-04-27T00:00:00\",\"2015-04-28T00:00:00\",\"2015-04-29T00:00:00\",\"2015-04-30T00:00:00\",\"2015-05-01T00:00:00\",\"2015-05-02T00:00:00\",\"2015-05-03T00:00:00\",\"2015-05-05T00:00:00\",\"2015-05-06T00:00:00\",\"2015-05-08T00:00:00\",\"2015-05-10T00:00:00\",\"2015-05-11T00:00:00\",\"2015-05-13T00:00:00\",\"2015-05-14T00:00:00\",\"2015-05-15T00:00:00\",\"2015-05-18T00:00:00\",\"2015-05-19T00:00:00\",\"2015-05-20T00:00:00\",\"2015-05-21T00:00:00\",\"2015-05-22T00:00:00\",\"2015-05-26T00:00:00\",\"2015-05-27T00:00:00\",\"2015-05-28T00:00:00\",\"2015-05-29T00:00:00\",\"2015-06-01T00:00:00\",\"2015-06-02T00:00:00\",\"2015-06-03T00:00:00\",\"2015-06-04T00:00:00\",\"2015-06-05T00:00:00\",\"2015-06-07T00:00:00\",\"2015-06-08T00:00:00\",\"2015-06-10T00:00:00\",\"2015-06-11T00:00:00\",\"2015-06-15T00:00:00\",\"2015-06-16T00:00:00\",\"2015-06-17T00:00:00\",\"2015-06-18T00:00:00\",\"2015-06-19T00:00:00\",\"2015-06-22T00:00:00\",\"2015-06-23T00:00:00\",\"2015-06-24T00:00:00\",\"2015-06-25T00:00:00\",\"2015-06-26T00:00:00\",\"2015-06-29T00:00:00\",\"2015-06-30T00:00:00\",\"2015-07-01T00:00:00\",\"2015-07-04T00:00:00\",\"2015-07-05T00:00:00\",\"2015-07-07T00:00:00\",\"2015-07-08T00:00:00\",\"2015-07-10T00:00:00\",\"2015-07-12T00:00:00\",\"2015-07-13T00:00:00\",\"2015-07-14T00:00:00\",\"2015-07-15T00:00:00\",\"2015-07-16T00:00:00\",\"2015-07-17T00:00:00\",\"2015-07-20T00:00:00\",\"2015-07-21T00:00:00\",\"2015-07-22T00:00:00\",\"2015-07-23T00:00:00\",\"2015-07-24T00:00:00\",\"2015-07-27T00:00:00\",\"2015-07-28T00:00:00\",\"2015-07-29T00:00:00\",\"2015-07-30T00:00:00\",\"2015-07-31T00:00:00\",\"2015-08-01T00:00:00\",\"2015-08-04T00:00:00\",\"2015-08-05T00:00:00\",\"2015-08-06T00:00:00\",\"2015-08-07T00:00:00\",\"2015-08-09T00:00:00\",\"2015-08-10T00:00:00\",\"2015-08-12T00:00:00\",\"2015-08-13T00:00:00\",\"2015-08-14T00:00:00\",\"2015-08-17T00:00:00\",\"2015-08-18T00:00:00\",\"2015-08-19T00:00:00\",\"2015-08-20T00:00:00\",\"2015-08-21T00:00:00\",\"2015-08-24T00:00:00\",\"2015-08-25T00:00:00\",\"2015-08-26T00:00:00\",\"2015-08-27T00:00:00\",\"2015-08-28T00:00:00\",\"2015-08-31T00:00:00\",\"2015-09-01T00:00:00\",\"2015-09-02T00:00:00\",\"2015-09-03T00:00:00\",\"2015-09-04T00:00:00\",\"2015-09-06T00:00:00\",\"2015-09-07T00:00:00\",\"2015-09-09T00:00:00\",\"2015-09-10T00:00:00\",\"2015-09-11T00:00:00\",\"2015-09-12T00:00:00\",\"2015-09-14T00:00:00\",\"2015-09-15T00:00:00\",\"2015-09-16T00:00:00\",\"2015-09-17T00:00:00\",\"2015-09-18T00:00:00\",\"2015-09-21T00:00:00\",\"2015-09-22T00:00:00\",\"2015-09-23T00:00:00\",\"2015-09-24T00:00:00\",\"2015-09-25T00:00:00\",\"2015-09-28T00:00:00\",\"2015-09-29T00:00:00\",\"2015-09-30T00:00:00\",\"2015-10-02T00:00:00\",\"2015-10-03T00:00:00\",\"2015-10-04T00:00:00\",\"2015-10-06T00:00:00\",\"2015-10-07T00:00:00\",\"2015-10-08T00:00:00\",\"2015-10-09T00:00:00\",\"2015-10-11T00:00:00\",\"2015-10-12T00:00:00\",\"2015-10-13T00:00:00\",\"2015-10-14T00:00:00\",\"2015-10-15T00:00:00\",\"2015-10-16T00:00:00\",\"2015-10-19T00:00:00\",\"2015-10-20T00:00:00\",\"2015-10-21T00:00:00\",\"2015-10-22T00:00:00\",\"2015-10-23T00:00:00\",\"2015-10-26T00:00:00\",\"2015-10-27T00:00:00\",\"2015-10-28T00:00:00\",\"2015-10-29T00:00:00\",\"2015-10-30T00:00:00\",\"2015-11-02T00:00:00\",\"2015-11-03T00:00:00\",\"2015-11-05T00:00:00\",\"2015-11-06T00:00:00\",\"2015-11-08T00:00:00\",\"2015-11-09T00:00:00\",\"2015-11-11T00:00:00\",\"2015-11-12T00:00:00\",\"2015-11-13T00:00:00\",\"2015-11-16T00:00:00\",\"2015-11-17T00:00:00\",\"2015-11-18T00:00:00\",\"2015-11-19T00:00:00\",\"2015-11-20T00:00:00\",\"2015-11-23T00:00:00\",\"2015-11-24T00:00:00\",\"2015-11-25T00:00:00\",\"2015-11-27T00:00:00\",\"2015-11-30T00:00:00\",\"2015-12-01T00:00:00\",\"2015-12-02T00:00:00\",\"2015-12-03T00:00:00\",\"2015-12-05T00:00:00\",\"2015-12-06T00:00:00\",\"2015-12-08T00:00:00\",\"2015-12-10T00:00:00\",\"2015-12-11T00:00:00\",\"2015-12-14T00:00:00\",\"2015-12-15T00:00:00\",\"2015-12-16T00:00:00\",\"2015-12-17T00:00:00\",\"2015-12-18T00:00:00\",\"2015-12-21T00:00:00\",\"2015-12-22T00:00:00\",\"2015-12-23T00:00:00\",\"2015-12-24T00:00:00\",\"2015-12-28T00:00:00\",\"2015-12-29T00:00:00\",\"2015-12-30T00:00:00\",\"2015-12-31T00:00:00\",\"2016-01-02T00:00:00\",\"2016-01-03T00:00:00\",\"2016-01-04T00:00:00\",\"2016-01-06T00:00:00\",\"2016-01-07T00:00:00\",\"2016-01-08T00:00:00\",\"2016-01-09T00:00:00\",\"2016-01-11T00:00:00\",\"2016-01-12T00:00:00\",\"2016-01-13T00:00:00\",\"2016-01-14T00:00:00\",\"2016-01-15T00:00:00\",\"2016-01-19T00:00:00\",\"2016-01-20T00:00:00\",\"2016-01-21T00:00:00\",\"2016-01-22T00:00:00\",\"2016-01-25T00:00:00\",\"2016-01-26T00:00:00\",\"2016-01-27T00:00:00\",\"2016-01-28T00:00:00\",\"2016-01-29T00:00:00\",\"2016-02-02T00:00:00\",\"2016-02-03T00:00:00\",\"2016-02-05T00:00:00\",\"2016-02-06T00:00:00\",\"2016-02-08T00:00:00\",\"2016-02-09T00:00:00\",\"2016-02-11T00:00:00\",\"2016-02-12T00:00:00\",\"2016-02-16T00:00:00\",\"2016-02-17T00:00:00\",\"2016-02-18T00:00:00\",\"2016-02-19T00:00:00\",\"2016-02-22T00:00:00\",\"2016-02-23T00:00:00\",\"2016-02-24T00:00:00\",\"2016-02-25T00:00:00\",\"2016-02-26T00:00:00\",\"2016-02-29T00:00:00\",\"2016-03-02T00:00:00\",\"2016-03-03T00:00:00\",\"2016-03-05T00:00:00\",\"2016-03-06T00:00:00\",\"2016-03-08T00:00:00\",\"2016-03-10T00:00:00\",\"2016-03-11T00:00:00\",\"2016-03-14T00:00:00\",\"2016-03-15T00:00:00\",\"2016-03-16T00:00:00\",\"2016-03-17T00:00:00\",\"2016-03-18T00:00:00\",\"2016-03-21T00:00:00\",\"2016-03-22T00:00:00\",\"2016-03-23T00:00:00\",\"2016-03-24T00:00:00\",\"2016-03-28T00:00:00\",\"2016-03-29T00:00:00\",\"2016-03-30T00:00:00\",\"2016-03-31T00:00:00\",\"2016-04-01T00:00:00\",\"2016-04-02T00:00:00\",\"2016-04-03T00:00:00\",\"2016-04-04T00:00:00\",\"2016-04-05T00:00:00\",\"2016-04-08T00:00:00\",\"2016-04-10T00:00:00\",\"2016-04-11T00:00:00\",\"2016-04-13T00:00:00\",\"2016-04-14T00:00:00\",\"2016-04-15T00:00:00\",\"2016-04-18T00:00:00\",\"2016-04-19T00:00:00\",\"2016-04-20T00:00:00\",\"2016-04-21T00:00:00\",\"2016-04-22T00:00:00\",\"2016-04-25T00:00:00\",\"2016-04-26T00:00:00\",\"2016-04-27T00:00:00\",\"2016-04-28T00:00:00\",\"2016-04-29T00:00:00\",\"2016-05-01T00:00:00\",\"2016-05-02T00:00:00\",\"2016-05-04T00:00:00\",\"2016-05-05T00:00:00\",\"2016-05-07T00:00:00\",\"2016-05-08T00:00:00\",\"2016-05-10T00:00:00\",\"2016-05-12T00:00:00\",\"2016-05-13T00:00:00\",\"2016-05-16T00:00:00\",\"2016-05-17T00:00:00\",\"2016-05-18T00:00:00\",\"2016-05-19T00:00:00\",\"2016-05-20T00:00:00\",\"2016-05-23T00:00:00\",\"2016-05-24T00:00:00\",\"2016-05-25T00:00:00\",\"2016-05-26T00:00:00\",\"2016-05-27T00:00:00\",\"2016-05-31T00:00:00\",\"2016-06-01T00:00:00\",\"2016-06-04T00:00:00\",\"2016-06-05T00:00:00\",\"2016-06-06T00:00:00\",\"2016-06-07T00:00:00\",\"2016-06-09T00:00:00\",\"2016-06-10T00:00:00\",\"2016-06-12T00:00:00\",\"2016-06-13T00:00:00\",\"2016-06-14T00:00:00\",\"2016-06-15T00:00:00\",\"2016-06-16T00:00:00\",\"2016-06-17T00:00:00\",\"2016-06-20T00:00:00\",\"2016-06-21T00:00:00\",\"2016-06-22T00:00:00\",\"2016-06-23T00:00:00\",\"2016-06-24T00:00:00\",\"2016-06-27T00:00:00\",\"2016-06-28T00:00:00\",\"2016-06-29T00:00:00\",\"2016-06-30T00:00:00\",\"2016-07-01T00:00:00\",\"2016-07-03T00:00:00\",\"2016-07-04T00:00:00\",\"2016-07-06T00:00:00\",\"2016-07-07T00:00:00\",\"2016-07-09T00:00:00\",\"2016-07-10T00:00:00\",\"2016-07-11T00:00:00\",\"2016-07-12T00:00:00\",\"2016-07-13T00:00:00\",\"2016-07-14T00:00:00\",\"2016-07-15T00:00:00\",\"2016-07-18T00:00:00\",\"2016-07-19T00:00:00\",\"2016-07-20T00:00:00\",\"2016-07-21T00:00:00\",\"2016-07-22T00:00:00\",\"2016-07-25T00:00:00\",\"2016-07-26T00:00:00\",\"2016-07-27T00:00:00\",\"2016-07-28T00:00:00\",\"2016-07-29T00:00:00\",\"2016-08-01T00:00:00\",\"2016-08-02T00:00:00\",\"2016-08-03T00:00:00\",\"2016-08-04T00:00:00\",\"2016-08-06T00:00:00\",\"2016-08-07T00:00:00\",\"2016-08-08T00:00:00\",\"2016-08-09T00:00:00\",\"2016-08-11T00:00:00\",\"2016-08-12T00:00:00\",\"2016-08-15T00:00:00\",\"2016-08-16T00:00:00\",\"2016-08-17T00:00:00\",\"2016-08-18T00:00:00\",\"2016-08-19T00:00:00\",\"2016-08-22T00:00:00\",\"2016-08-23T00:00:00\",\"2016-08-24T00:00:00\",\"2016-08-25T00:00:00\",\"2016-08-26T00:00:00\",\"2016-08-29T00:00:00\",\"2016-08-30T00:00:00\",\"2016-08-31T00:00:00\",\"2016-09-02T00:00:00\",\"2016-09-03T00:00:00\",\"2016-09-05T00:00:00\",\"2016-09-06T00:00:00\",\"2016-09-08T00:00:00\",\"2016-09-09T00:00:00\",\"2016-09-11T00:00:00\",\"2016-09-12T00:00:00\",\"2016-09-13T00:00:00\",\"2016-09-14T00:00:00\",\"2016-09-15T00:00:00\",\"2016-09-16T00:00:00\",\"2016-09-19T00:00:00\",\"2016-09-20T00:00:00\",\"2016-09-21T00:00:00\",\"2016-09-22T00:00:00\",\"2016-09-23T00:00:00\",\"2016-09-26T00:00:00\",\"2016-09-27T00:00:00\",\"2016-09-28T00:00:00\",\"2016-09-29T00:00:00\",\"2016-09-30T00:00:00\",\"2016-10-02T00:00:00\",\"2016-10-03T00:00:00\",\"2016-10-05T00:00:00\",\"2016-10-06T00:00:00\",\"2016-10-08T00:00:00\",\"2016-10-10T00:00:00\",\"2016-10-11T00:00:00\",\"2016-10-13T00:00:00\",\"2016-10-14T00:00:00\",\"2016-10-17T00:00:00\",\"2016-10-18T00:00:00\",\"2016-10-19T00:00:00\",\"2016-10-20T00:00:00\",\"2016-10-21T00:00:00\",\"2016-10-24T00:00:00\",\"2016-10-25T00:00:00\",\"2016-10-26T00:00:00\",\"2016-10-27T00:00:00\",\"2016-10-28T00:00:00\",\"2016-10-31T00:00:00\",\"2016-11-01T00:00:00\",\"2016-11-02T00:00:00\",\"2016-11-03T00:00:00\",\"2016-11-04T00:00:00\",\"2016-11-05T00:00:00\",\"2016-11-07T00:00:00\",\"2016-11-08T00:00:00\",\"2016-11-10T00:00:00\",\"2016-11-11T00:00:00\",\"2016-11-14T00:00:00\",\"2016-11-15T00:00:00\",\"2016-11-16T00:00:00\",\"2016-11-17T00:00:00\",\"2016-11-18T00:00:00\",\"2016-11-21T00:00:00\",\"2016-11-22T00:00:00\",\"2016-11-23T00:00:00\",\"2016-11-25T00:00:00\",\"2016-11-28T00:00:00\",\"2016-11-29T00:00:00\",\"2016-11-30T00:00:00\",\"2016-12-01T00:00:00\",\"2016-12-02T00:00:00\",\"2016-12-04T00:00:00\",\"2016-12-05T00:00:00\",\"2016-12-07T00:00:00\",\"2016-12-08T00:00:00\",\"2016-12-09T00:00:00\",\"2016-12-10T00:00:00\",\"2016-12-12T00:00:00\",\"2016-12-13T00:00:00\",\"2016-12-14T00:00:00\",\"2016-12-15T00:00:00\",\"2016-12-16T00:00:00\",\"2016-12-19T00:00:00\",\"2016-12-20T00:00:00\",\"2016-12-21T00:00:00\",\"2016-12-22T00:00:00\",\"2016-12-23T00:00:00\",\"2016-12-27T00:00:00\",\"2016-12-28T00:00:00\",\"2016-12-29T00:00:00\",\"2016-12-30T00:00:00\",\"2017-01-02T00:00:00\",\"2017-01-03T00:00:00\",\"2017-01-05T00:00:00\",\"2017-01-06T00:00:00\",\"2017-01-08T00:00:00\",\"2017-01-09T00:00:00\",\"2017-01-11T00:00:00\",\"2017-01-12T00:00:00\",\"2017-01-13T00:00:00\",\"2017-01-17T00:00:00\",\"2017-01-18T00:00:00\",\"2017-01-19T00:00:00\",\"2017-01-20T00:00:00\",\"2017-01-23T00:00:00\",\"2017-01-24T00:00:00\",\"2017-01-25T00:00:00\",\"2017-01-26T00:00:00\",\"2017-01-27T00:00:00\",\"2017-01-30T00:00:00\",\"2017-01-31T00:00:00\",\"2017-02-02T00:00:00\",\"2017-02-03T00:00:00\",\"2017-02-05T00:00:00\",\"2017-02-06T00:00:00\",\"2017-02-08T00:00:00\",\"2017-02-10T00:00:00\",\"2017-02-11T00:00:00\",\"2017-02-13T00:00:00\",\"2017-02-14T00:00:00\",\"2017-02-15T00:00:00\",\"2017-02-16T00:00:00\",\"2017-02-17T00:00:00\",\"2017-02-21T00:00:00\",\"2017-02-22T00:00:00\",\"2017-02-23T00:00:00\",\"2017-02-24T00:00:00\",\"2017-02-27T00:00:00\",\"2017-02-28T00:00:00\",\"2017-03-01T00:00:00\",\"2017-03-02T00:00:00\",\"2017-03-03T00:00:00\",\"2017-03-04T00:00:00\",\"2017-03-05T00:00:00\",\"2017-03-07T00:00:00\",\"2017-03-08T00:00:00\",\"2017-03-10T00:00:00\",\"2017-03-11T00:00:00\",\"2017-03-13T00:00:00\",\"2017-03-14T00:00:00\",\"2017-03-15T00:00:00\",\"2017-03-16T00:00:00\",\"2017-03-17T00:00:00\",\"2017-03-20T00:00:00\",\"2017-03-21T00:00:00\",\"2017-03-22T00:00:00\",\"2017-03-23T00:00:00\",\"2017-03-24T00:00:00\",\"2017-03-27T00:00:00\",\"2017-03-28T00:00:00\",\"2017-03-29T00:00:00\",\"2017-03-30T00:00:00\",\"2017-03-31T00:00:00\",\"2017-04-01T00:00:00\",\"2017-04-04T00:00:00\",\"2017-04-05T00:00:00\",\"2017-04-08T00:00:00\",\"2017-04-10T00:00:00\",\"2017-04-12T00:00:00\",\"2017-04-13T00:00:00\",\"2017-04-17T00:00:00\",\"2017-04-18T00:00:00\",\"2017-04-19T00:00:00\",\"2017-04-20T00:00:00\",\"2017-04-21T00:00:00\",\"2017-04-24T00:00:00\",\"2017-04-25T00:00:00\",\"2017-04-26T00:00:00\",\"2017-04-27T00:00:00\",\"2017-04-28T00:00:00\",\"2017-05-01T00:00:00\",\"2017-05-04T00:00:00\",\"2017-05-05T00:00:00\",\"2017-05-06T00:00:00\",\"2017-05-07T00:00:00\",\"2017-05-09T00:00:00\",\"2017-05-10T00:00:00\",\"2017-05-12T00:00:00\",\"2017-05-15T00:00:00\",\"2017-05-16T00:00:00\",\"2017-05-17T00:00:00\",\"2017-05-18T00:00:00\",\"2017-05-19T00:00:00\",\"2017-05-22T00:00:00\",\"2017-05-23T00:00:00\",\"2017-05-24T00:00:00\",\"2017-05-25T00:00:00\",\"2017-05-26T00:00:00\",\"2017-05-30T00:00:00\",\"2017-05-31T00:00:00\",\"2017-06-01T00:00:00\",\"2017-06-02T00:00:00\",\"2017-06-03T00:00:00\",\"2017-06-04T00:00:00\",\"2017-06-06T00:00:00\",\"2017-06-07T00:00:00\",\"2017-06-09T00:00:00\",\"2017-06-10T00:00:00\",\"2017-06-11T00:00:00\",\"2017-06-12T00:00:00\",\"2017-06-13T00:00:00\",\"2017-06-14T00:00:00\",\"2017-06-15T00:00:00\",\"2017-06-16T00:00:00\",\"2017-06-19T00:00:00\",\"2017-06-20T00:00:00\",\"2017-06-21T00:00:00\",\"2017-06-22T00:00:00\",\"2017-06-23T00:00:00\",\"2017-06-26T00:00:00\",\"2017-06-27T00:00:00\",\"2017-06-28T00:00:00\",\"2017-06-29T00:00:00\",\"2017-06-30T00:00:00\",\"2017-07-02T00:00:00\",\"2017-07-03T00:00:00\",\"2017-07-04T00:00:00\",\"2017-07-06T00:00:00\",\"2017-07-07T00:00:00\",\"2017-07-08T00:00:00\",\"2017-07-09T00:00:00\",\"2017-07-11T00:00:00\",\"2017-07-12T00:00:00\",\"2017-07-13T00:00:00\",\"2017-07-14T00:00:00\",\"2017-07-17T00:00:00\",\"2017-07-18T00:00:00\",\"2017-07-19T00:00:00\",\"2017-07-20T00:00:00\",\"2017-07-21T00:00:00\",\"2017-07-24T00:00:00\",\"2017-07-25T00:00:00\",\"2017-07-26T00:00:00\",\"2017-07-27T00:00:00\",\"2017-07-28T00:00:00\",\"2017-07-31T00:00:00\",\"2017-08-02T00:00:00\",\"2017-08-03T00:00:00\",\"2017-08-05T00:00:00\",\"2017-08-06T00:00:00\",\"2017-08-08T00:00:00\",\"2017-08-09T00:00:00\",\"2017-08-11T00:00:00\",\"2017-08-12T00:00:00\",\"2017-08-14T00:00:00\",\"2017-08-15T00:00:00\",\"2017-08-16T00:00:00\",\"2017-08-17T00:00:00\",\"2017-08-18T00:00:00\",\"2017-08-21T00:00:00\",\"2017-08-22T00:00:00\",\"2017-08-23T00:00:00\",\"2017-08-24T00:00:00\",\"2017-08-25T00:00:00\",\"2017-08-28T00:00:00\",\"2017-08-29T00:00:00\",\"2017-08-30T00:00:00\",\"2017-08-31T00:00:00\",\"2017-09-01T00:00:00\",\"2017-09-02T00:00:00\",\"2017-09-03T00:00:00\",\"2017-09-05T00:00:00\",\"2017-09-06T00:00:00\",\"2017-09-08T00:00:00\",\"2017-09-10T00:00:00\",\"2017-09-11T00:00:00\",\"2017-09-13T00:00:00\",\"2017-09-14T00:00:00\",\"2017-09-15T00:00:00\",\"2017-09-18T00:00:00\",\"2017-09-19T00:00:00\",\"2017-09-20T00:00:00\",\"2017-09-21T00:00:00\",\"2017-09-22T00:00:00\",\"2017-09-25T00:00:00\",\"2017-09-26T00:00:00\",\"2017-09-27T00:00:00\",\"2017-09-28T00:00:00\",\"2017-09-29T00:00:00\",\"2017-10-01T00:00:00\",\"2017-10-02T00:00:00\",\"2017-10-03T00:00:00\",\"2017-10-04T00:00:00\",\"2017-10-05T00:00:00\",\"2017-10-07T00:00:00\",\"2017-10-08T00:00:00\",\"2017-10-10T00:00:00\",\"2017-10-11T00:00:00\",\"2017-10-13T00:00:00\",\"2017-10-16T00:00:00\",\"2017-10-17T00:00:00\",\"2017-10-18T00:00:00\",\"2017-10-19T00:00:00\",\"2017-10-20T00:00:00\",\"2017-10-23T00:00:00\",\"2017-10-24T00:00:00\",\"2017-10-25T00:00:00\",\"2017-10-26T00:00:00\",\"2017-10-27T00:00:00\",\"2017-10-30T00:00:00\",\"2017-10-31T00:00:00\",\"2017-11-01T00:00:00\",\"2017-11-04T00:00:00\",\"2017-11-05T00:00:00\",\"2017-11-07T00:00:00\",\"2017-11-08T00:00:00\",\"2017-11-09T00:00:00\",\"2017-11-10T00:00:00\",\"2017-11-12T00:00:00\",\"2017-11-13T00:00:00\",\"2017-11-14T00:00:00\",\"2017-11-15T00:00:00\",\"2017-11-16T00:00:00\",\"2017-11-17T00:00:00\",\"2017-11-20T00:00:00\",\"2017-11-21T00:00:00\",\"2017-11-22T00:00:00\",\"2017-11-24T00:00:00\",\"2017-11-27T00:00:00\",\"2017-11-28T00:00:00\",\"2017-11-29T00:00:00\",\"2017-11-30T00:00:00\",\"2017-12-01T00:00:00\",\"2017-12-04T00:00:00\",\"2017-12-05T00:00:00\",\"2017-12-06T00:00:00\",\"2017-12-07T00:00:00\",\"2017-12-09T00:00:00\",\"2017-12-10T00:00:00\",\"2017-12-12T00:00:00\",\"2017-12-13T00:00:00\",\"2017-12-14T00:00:00\",\"2017-12-15T00:00:00\",\"2017-12-18T00:00:00\",\"2017-12-19T00:00:00\",\"2017-12-20T00:00:00\",\"2017-12-21T00:00:00\",\"2017-12-22T00:00:00\",\"2017-12-26T00:00:00\",\"2017-12-27T00:00:00\",\"2017-12-28T00:00:00\",\"2017-12-29T00:00:00\",\"2018-01-02T00:00:00\",\"2018-01-03T00:00:00\",\"2018-01-05T00:00:00\",\"2018-01-06T00:00:00\",\"2018-01-08T00:00:00\",\"2018-01-10T00:00:00\",\"2018-01-11T00:00:00\",\"2018-01-16T00:00:00\",\"2018-01-17T00:00:00\",\"2018-01-18T00:00:00\",\"2018-01-19T00:00:00\",\"2018-01-22T00:00:00\",\"2018-01-23T00:00:00\",\"2018-01-24T00:00:00\",\"2018-01-25T00:00:00\",\"2018-01-26T00:00:00\",\"2018-01-29T00:00:00\",\"2018-01-30T00:00:00\",\"2018-01-31T00:00:00\",\"2018-02-01T00:00:00\",\"2018-02-02T00:00:00\",\"2018-02-03T00:00:00\",\"2018-02-04T00:00:00\",\"2018-02-05T00:00:00\",\"2018-02-07T00:00:00\",\"2018-02-08T00:00:00\",\"2018-02-10T00:00:00\",\"2018-02-11T00:00:00\",\"2018-02-13T00:00:00\",\"2018-02-14T00:00:00\",\"2018-02-15T00:00:00\",\"2018-02-16T00:00:00\",\"2018-02-20T00:00:00\",\"2018-02-21T00:00:00\",\"2018-02-22T00:00:00\",\"2018-02-23T00:00:00\",\"2018-02-26T00:00:00\",\"2018-02-27T00:00:00\",\"2018-02-28T00:00:00\",\"2018-03-01T00:00:00\",\"2018-03-04T00:00:00\",\"2018-03-05T00:00:00\",\"2018-03-07T00:00:00\",\"2018-03-08T00:00:00\",\"2018-03-10T00:00:00\",\"2018-03-12T00:00:00\",\"2018-03-13T00:00:00\",\"2018-03-14T00:00:00\",\"2018-03-15T00:00:00\",\"2018-03-16T00:00:00\",\"2018-03-19T00:00:00\",\"2018-03-20T00:00:00\",\"2018-03-21T00:00:00\",\"2018-03-22T00:00:00\",\"2018-03-23T00:00:00\",\"2018-03-26T00:00:00\",\"2018-03-27T00:00:00\",\"2018-03-28T00:00:00\",\"2018-03-29T00:00:00\",\"2018-04-01T00:00:00\",\"2018-04-04T00:00:00\",\"2018-04-05T00:00:00\",\"2018-04-06T00:00:00\",\"2018-04-09T00:00:00\",\"2018-04-10T00:00:00\",\"2018-04-12T00:00:00\",\"2018-04-13T00:00:00\",\"2018-04-16T00:00:00\",\"2018-04-17T00:00:00\",\"2018-04-18T00:00:00\",\"2018-04-19T00:00:00\",\"2018-04-20T00:00:00\",\"2018-04-23T00:00:00\",\"2018-04-24T00:00:00\",\"2018-04-25T00:00:00\",\"2018-04-26T00:00:00\",\"2018-04-27T00:00:00\",\"2018-04-30T00:00:00\",\"2018-05-01T00:00:00\",\"2018-05-02T00:00:00\",\"2018-05-03T00:00:00\",\"2018-05-04T00:00:00\",\"2018-05-06T00:00:00\",\"2018-05-07T00:00:00\",\"2018-05-09T00:00:00\",\"2018-05-10T00:00:00\",\"2018-05-11T00:00:00\",\"2018-05-14T00:00:00\",\"2018-05-15T00:00:00\",\"2018-05-16T00:00:00\",\"2018-05-17T00:00:00\",\"2018-05-18T00:00:00\",\"2018-05-21T00:00:00\",\"2018-05-22T00:00:00\",\"2018-05-23T00:00:00\",\"2018-05-24T00:00:00\",\"2018-05-25T00:00:00\",\"2018-05-29T00:00:00\",\"2018-05-30T00:00:00\",\"2018-05-31T00:00:00\",\"2018-06-02T00:00:00\",\"2018-06-03T00:00:00\",\"2018-06-04T00:00:00\",\"2018-06-06T00:00:00\",\"2018-06-07T00:00:00\",\"2018-06-08T00:00:00\",\"2018-06-09T00:00:00\",\"2018-06-11T00:00:00\",\"2018-06-12T00:00:00\",\"2018-06-13T00:00:00\",\"2018-06-14T00:00:00\",\"2018-06-15T00:00:00\",\"2018-06-18T00:00:00\",\"2018-06-19T00:00:00\",\"2018-06-20T00:00:00\",\"2018-06-21T00:00:00\",\"2018-06-22T00:00:00\",\"2018-06-25T00:00:00\",\"2018-06-26T00:00:00\",\"2018-06-27T00:00:00\",\"2018-06-28T00:00:00\",\"2018-06-29T00:00:00\",\"2018-07-02T00:00:00\",\"2018-07-03T00:00:00\",\"2018-07-05T00:00:00\",\"2018-07-06T00:00:00\",\"2018-07-08T00:00:00\",\"2018-07-09T00:00:00\",\"2018-07-11T00:00:00\",\"2018-07-12T00:00:00\",\"2018-07-13T00:00:00\",\"2018-07-16T00:00:00\",\"2018-07-17T00:00:00\",\"2018-07-18T00:00:00\",\"2018-07-19T00:00:00\",\"2018-07-20T00:00:00\",\"2018-07-23T00:00:00\",\"2018-07-24T00:00:00\",\"2018-07-25T00:00:00\",\"2018-07-26T00:00:00\",\"2018-07-27T00:00:00\",\"2018-07-30T00:00:00\",\"2018-07-31T00:00:00\",\"2018-08-01T00:00:00\",\"2018-08-02T00:00:00\",\"2018-08-03T00:00:00\",\"2018-08-05T00:00:00\",\"2018-08-06T00:00:00\",\"2018-08-08T00:00:00\",\"2018-08-10T00:00:00\",\"2018-08-11T00:00:00\",\"2018-08-13T00:00:00\",\"2018-08-14T00:00:00\",\"2018-08-15T00:00:00\",\"2018-08-16T00:00:00\",\"2018-08-17T00:00:00\",\"2018-08-20T00:00:00\",\"2018-08-21T00:00:00\",\"2018-08-22T00:00:00\",\"2018-08-23T00:00:00\",\"2018-08-24T00:00:00\",\"2018-08-27T00:00:00\",\"2018-08-28T00:00:00\",\"2018-08-29T00:00:00\",\"2018-08-30T00:00:00\",\"2018-08-31T00:00:00\",\"2018-09-01T00:00:00\",\"2018-09-02T00:00:00\",\"2018-09-03T00:00:00\",\"2018-09-04T00:00:00\",\"2018-09-05T00:00:00\",\"2018-09-07T00:00:00\",\"2018-09-08T00:00:00\",\"2018-09-10T00:00:00\",\"2018-09-11T00:00:00\",\"2018-09-13T00:00:00\",\"2018-09-14T00:00:00\",\"2018-09-17T00:00:00\",\"2018-09-18T00:00:00\",\"2018-09-19T00:00:00\",\"2018-09-20T00:00:00\",\"2018-09-21T00:00:00\",\"2018-09-24T00:00:00\",\"2018-09-25T00:00:00\",\"2018-09-26T00:00:00\",\"2018-09-27T00:00:00\",\"2018-09-28T00:00:00\",\"2018-10-01T00:00:00\",\"2018-10-04T00:00:00\",\"2018-10-05T00:00:00\",\"2018-10-07T00:00:00\",\"2018-10-08T00:00:00\",\"2018-10-09T00:00:00\",\"2018-10-10T00:00:00\",\"2018-10-12T00:00:00\",\"2018-10-15T00:00:00\",\"2018-10-16T00:00:00\",\"2018-10-17T00:00:00\",\"2018-10-18T00:00:00\",\"2018-10-19T00:00:00\",\"2018-10-22T00:00:00\",\"2018-10-23T00:00:00\",\"2018-10-24T00:00:00\",\"2018-10-25T00:00:00\",\"2018-10-26T00:00:00\",\"2018-10-29T00:00:00\",\"2018-10-30T00:00:00\",\"2018-10-31T00:00:00\",\"2018-11-01T00:00:00\",\"2018-11-04T00:00:00\",\"2018-11-05T00:00:00\",\"2018-11-06T00:00:00\",\"2018-11-07T00:00:00\",\"2018-11-09T00:00:00\",\"2018-11-10T00:00:00\",\"2018-11-12T00:00:00\",\"2018-11-13T00:00:00\",\"2018-11-14T00:00:00\",\"2018-11-15T00:00:00\",\"2018-11-16T00:00:00\",\"2018-11-19T00:00:00\",\"2018-11-20T00:00:00\",\"2018-11-21T00:00:00\",\"2018-11-23T00:00:00\",\"2018-11-26T00:00:00\",\"2018-11-27T00:00:00\",\"2018-11-28T00:00:00\",\"2018-11-29T00:00:00\",\"2018-11-30T00:00:00\",\"2018-12-01T00:00:00\",\"2018-12-02T00:00:00\",\"2018-12-03T00:00:00\",\"2018-12-04T00:00:00\",\"2018-12-06T00:00:00\",\"2018-12-07T00:00:00\",\"2018-12-09T00:00:00\",\"2018-12-10T00:00:00\",\"2018-12-11T00:00:00\",\"2018-12-12T00:00:00\",\"2018-12-13T00:00:00\",\"2018-12-14T00:00:00\",\"2018-12-17T00:00:00\",\"2018-12-18T00:00:00\",\"2018-12-19T00:00:00\",\"2018-12-20T00:00:00\",\"2018-12-21T00:00:00\",\"2018-12-24T00:00:00\",\"2018-12-26T00:00:00\",\"2018-12-27T00:00:00\",\"2018-12-28T00:00:00\",\"2018-12-31T00:00:00\",\"2019-01-02T00:00:00\",\"2019-01-03T00:00:00\",\"2019-01-14T00:00:00\",\"2019-01-15T00:00:00\",\"2019-01-16T00:00:00\",\"2019-01-17T00:00:00\",\"2019-01-18T00:00:00\",\"2019-01-22T00:00:00\",\"2019-01-23T00:00:00\",\"2019-01-24T00:00:00\",\"2019-01-25T00:00:00\",\"2019-01-28T00:00:00\",\"2019-01-29T00:00:00\",\"2019-01-30T00:00:00\",\"2019-01-31T00:00:00\",\"2019-02-01T00:00:00\",\"2019-02-13T00:00:00\",\"2019-02-14T00:00:00\",\"2019-02-15T00:00:00\",\"2019-02-19T00:00:00\",\"2019-02-20T00:00:00\",\"2019-02-21T00:00:00\",\"2019-02-22T00:00:00\",\"2019-02-25T00:00:00\",\"2019-02-26T00:00:00\",\"2019-02-27T00:00:00\",\"2019-02-28T00:00:00\",\"2019-03-01T00:00:00\",\"2019-03-13T00:00:00\",\"2019-03-14T00:00:00\",\"2019-03-15T00:00:00\",\"2019-04-01T00:00:00\",\"2019-04-02T00:00:00\",\"2019-04-03T00:00:00\",\"2019-05-02T00:00:00\",\"2019-05-03T00:00:00\",\"2019-06-02T00:00:00\",\"2019-06-03T00:00:00\",\"2019-07-01T00:00:00\",\"2019-07-02T00:00:00\",\"2019-07-03T00:00:00\",\"2019-08-01T00:00:00\",\"2019-08-02T00:00:00\",\"2019-08-03T00:00:00\",\"2019-09-01T00:00:00\",\"2019-10-01T00:00:00\",\"2019-11-01T00:00:00\",\"2019-11-02T00:00:00\",\"2019-11-03T00:00:00\",\"2019-12-02T00:00:00\",\"2019-12-03T00:00:00\"],\"y\":[21.959999,20.450001,20.6,21.41,34.349998,19.200001,20.92,21.059999,21.25,32.349998,21.950001,21.049999,21.77,31.49,21.26,20.99,24.9,20.450001,21.120001,24.440001,16.110001,19.59,20.459999,30.309999,23.889999,23.83,15.8,20.540001,20.43,31.559999,18.139999,19.84,19.889999,20.639999,21.91,20.299999,20.219999,21.0,21.290001,20.950001,20.549999,20.719999,20.35,19.940001,17.459999,20.9,20.43,24.98,32.369999,18.32,18.780001,19.15,18.77,18.790001,19.1,20.129999,19.200001,19.9,19.75,19.700001,19.870001,19.48,17.4,19.6,20.709999,24.629999,32.049999,20.719999,21.120001,21.98,20.940001,20.23,21.059999,20.77,19.870001,19.559999,20.1,20.530001,21.4,21.98,20.41,19.030001,20.17,29.360001,31.52,20.540001,20.75,20.540001,20.23,20.049999,20.65,20.75,20.719999,20.85,21.360001,21.0,21.190001,21.84,17.9,20.24,28.040001,30.799999,29.67,29.49,29.889999,30.99,33.400002,34.57,35.470001,35.32,34.330002,35.330002,17.049999,17.6,20.24,29.84,30.549999,28.530001,29.6,30.809999,31.360001,31.700001,32.259998,32.630001,30.09,25.549999,26.41,27.73,26.5,26.629999,23.91,23.940001,26.66,28.52,29.02,28.77,24.0,28.879999,32.599998,26.219999,25.75,25.639999,24.030001,22.620001,23.040001,24.49,24.68,24.75,24.92,24.01,24.1,23.940001,24.02,27.450001,28.76,27.34,23.07,28.709999,33.299999,23.08,22.84,24.73,23.6,23.18,21.870001,21.83,22.530001,23.610001,23.889999,26.620001,23.629999,24.360001,26.870001,30.129999,27.200001,23.73,32.459999,23.25,22.950001,22.82,22.809999,22.959999,22.73,22.190001,22.209999,22.33,22.75,23.25,23.92,23.709999,27.75,26.67,23.459999,24.950001,25.83,26.690001,24.75,23.66,32.310001,24.93,25.139999,25.58,25.030001,25.16,25.75,26.74,26.389999,26.93,27.08,27.66,27.6,26.83,26.700001,26.440001,29.139999,24.24,25.370001,34.419998,27.549999,26.6,25.959999,26.35,28.200001,27.969999,26.82,26.719999,28.98,29.48,29.549999,30.139999,27.879999,26.49,27.120001,28.700001,28.959999,22.940001,26.959999,34.869999,28.43,28.6,27.32,26.5,26.5,26.01,27.530001,27.209999,27.709999,27.57,27.459999,28.110001,28.290001,29.129999,28.24,23.07,24.940001,27.24,28.370001,29.73,23.84,26.99,31.27,34.189999,28.639999,27.610001,27.58,27.23,27.889999,28.690001,28.700001,29.290001,28.49,28.0,27.639999,28.17,28.17,24.49,24.66,26.49,27.120001,28.809999,23.639999,23.610001,31.84,30.889999,26.23,26.1,25.83,24.26,22.299999,21.950001,22.959999,23.870001,23.110001,23.73,24.709999,24.629999,24.74,23.209999,24.719999,27.91,27.620001,25.059999,22.969999,30.879999,31.040001,24.08,24.34,24.82,25.799999,25.77,26.01,25.85,25.629999,26.379999,25.52,26.190001,24.59,24.120001,24.389999,28.450001,23.219999,24.01,28.33,27.860001,23.82,27.879999,31.33,27.940001,28.049999,27.42,28.34,27.57,27.34,28.030001,28.549999,28.25,27.98,28.76,29.870001,29.370001,26.959999,23.25,24.07,25.27,27.07,28.35,25.299999,27.610001,33.639999,33.220001,33.93,34.939999,33.68,32.599998,31.76,32.07,31.450001,31.66,32.560001,31.75,32.740002,26.959999,24.65,27.67,28.17,26.309999,22.879999,27.799999,30.41,29.450001,28.530001,28.620001,28.0,27.75,27.9,27.57,27.77,27.9,28.57,28.51,28.73,28.559999,29.58,34.41,33.779999,28.15,26.25,29.16,29.25,22.790001,26.6,26.809999,26.76,26.6,26.77,27.42,27.969999,28.940001,29.33,29.57,29.07,30.25,34.040001,36.580002,33.939999,30.4,26.1,29.799999,28.92,31.49,33.169998,33.599998,34.18,34.970001,34.5,34.220001,34.529999,33.75,33.619999,33.810001,33.41,28.08,31.15,38.009998,32.459999,30.66,27.27,29.299999,34.619999,36.09,35.290001,35.0,35.32,34.98,34.959999,35.150002,34.400002,34.080002,37.400002,37.939999,37.849998,37.330002,37.240002,27.709999,35.0,31.83,27.879999,28.139999,29.4,33.900002,33.59,32.25,32.240002,32.66,33.16,33.16,31.940001,31.82,32.91,33.490002,33.34,33.130001,27.120001,33.77,34.48,27.91,31.23,27.940001,28.889999,31.5,33.709999,30.059999,29.43,29.18,28.57,27.559999,28.77,30.799999,31.02,30.280001,29.809999,31.690001,30.41,29.5,26.91,31.799999,33.110001,29.219999,30.99,28.27,28.549999,31.15,33.900002,29.77,29.389999,29.91,31.84,32.09,33.779999,32.189999,33.790001,33.110001,31.610001,31.959999,31.41,31.290001,31.6,33.119999,32.470001,28.93,30.25,29.35,31.540001,34.169998,34.25,35.959999,33.349998,32.150002,32.27,31.790001,30.66,29.84,28.950001,28.129999,29.51,27.35,27.42,31.93,33.07,30.190001,30.08,29.09,29.25,31.309999,31.17,29.42,29.4,30.299999,30.01,29.51,29.110001,29.950001,30.73,29.5,28.32,28.690001,28.41,28.41,28.52,27.25,32.580002,34.740002,33.150002,30.059999,31.49,29.41,28.370001,30.32,29.48,30.389999,32.540001,31.34,31.049999,30.9,30.02,30.66,27.66,27.540001,28.49,29.280001,27.620001,31.1,32.459999,32.959999,31.27,29.940001,27.370001,28.4,34.57,27.33,28.059999,28.82,28.040001,27.74,27.85,28.389999,27.42,27.52,27.379999,28.129999,28.23,33.09,32.25,29.120001,31.51,27.799999,28.32,35.279999,31.610001,31.379999,30.82,31.84,32.919998,33.0,32.470001,32.130001,32.27,32.150002,33.23,33.689999,33.82,28.25,36.009998,33.439999,29.66,32.700001,28.280001,27.639999,31.07,35.259998,33.610001,33.810001,34.400002,34.59,34.610001,34.43,34.0,34.279999,33.59,33.689999,33.220001,33.869999,38.299999,34.650002,43.93,53.279999,117.18,135.550003,193.0,162.169998,33.259998,33.900002,34.099998,34.380001,34.52,35.189999,36.0,36.990002,36.98,38.029999,37.950001,37.52,37.509998,35.360001,44.34,54.110001,117.82,138.0,180.949997,124.169998,38.450001,38.27,37.040001,39.279999,38.540001,35.16,36.110001,34.380001,34.43,35.099998,34.830002,34.77,41.099998,54.549999,92.589996,115.239998,168.940002,173.309998,144.699997,38.98,36.849998,35.290001,35.150002,35.080002,35.950001,36.009998,36.619999,37.529999,37.860001,38.16,37.889999,34.400002,37.740002,35.580002,42.009998,94.839996,170.619995,180.979996,175.199997,138.949997,43.299999,45.59,45.450001,46.970001,47.830002,50.189999,51.009998,50.43,52.0,51.200001,54.939999,53.990002,38.130001,36.650002,41.369999,95.370003,120.089996,144.679993,169.929993,176.809998,140.479996,87.800003,83.239998,84.839996,92.25,91.5,89.940002,87.589996,87.239998,92.730003,97.080002,110.330002,104.629997,104.949997,97.760002,39.169998,37.689999,59.5,97.349998,142.149994,166.970001,151.160004,137.360001,98.18,100.300003,102.199997,103.389999,104.68,100.650002,99.550003,101.489998,102.400002,105.720001,109.25,107.360001,34.34,39.48,38.23,55.509998,102.040001,134.229996,183.070007,139.770004,127.260002,109.050003,120.25,119.029999,119.68,122.43,122.739998,121.699997,124.07,129.389999,134.619995,131.740005,134.279999,33.68,39.240002,38.470001,41.830002,55.790001,121.610001,153.479996,174.729996,137.949997,145.429993,139.360001,139.669998,142.0,144.899994,149.580002,147.860001,157.100006,161.839996,164.220001,167.009995,166.449997,166.059998,169.0,33.639999,40.5,69.400002,123.449997,153.0,160.699997,168.779999,141.600006,165.539993,166.580002,166.229996,166.220001,177.919998,183.389999,181.110001,182.330002,185.240005,188.639999,190.899994,193.369995,33.529999,41.860001,76.760002,100.050003,122.269997,166.369995,172.929993,142.190002,179.720001,183.940002,183.559998,182.800003,183.399994,172.600006,171.539993,164.5,173.149994,169.660004,162.860001,164.470001,159.220001,159.940002,32.91,38.419998,39.099998,43.59,94.470001,125.610001,163.520004,178.699997,144.699997,139.649994,138.699997,137.600006,135.449997,121.580002,126.089996,121.110001,122.099998,121.379997,120.839996,120.5,126.940002,127.279999,37.889999,39.119999,43.75,97.730003,129.899994,147.380005,164.929993,137.800003,147.470001,147.649994,147.940002,152.460007,147.979996,140.720001,143.240005,143.550003,151.410004,155.5,151.119995,152.440002,150.429993,216.970001,207.729996,239.720001,233.270004,240.240005,231.639999,139.339996,161.270004,164.130005,170.970001,170.009995,176.679993,178.559998,181.5,174.600006,169.619995,178.380005,175.229996,182.839996,181.410004,150.100006,230.289993,210.910004,204.699997,229.429993,284.119995,251.419998,231.429993,199.630005,198.229996,203.699997,193.639999,209.970001,209.600006,217.649994,248.0,253.0,252.539993,244.809998,149.559998,177.110001,250.559998,225.399994,204.940002,229.25,281.190002,255.210007,242.589996,229.300003,237.789993,230.970001,233.979996,240.039993,235.839996,234.910004,228.889999,220.169998,220.440002,212.960007,207.320007,212.369995,208.449997,178.729996,254.839996,212.229996,203.990005,238.520004,286.040009,238.929993,228.279999,198.089996,193.910004,199.110001,198.119995,204.380005,218.639999,207.990005,207.860001,199.850006,198.509995,206.919998,207.889999,174.419998,252.660004,216.610001,206.899994,238.490005,277.390015,230.970001,223.710007,190.160004,190.619995,188.589996,191.559998,196.089996,195.300003,199.449997,204.880005,207.300003,211.559998,210.240005,210.240005,207.770004,147.0,178.380005,252.940002,207.279999,208.169998,248.929993,260.619995,241.220001,206.419998,224.610001,231.669998,227.119995,227.789993,229.589996,237.220001,232.5,236.889999,235.600006,239.059998,240.059998,149.360001,186.529999,246.210007,207.520004,201.350006,222.660004,252.389999,259.570007,240.199997,226.699997,219.580002,217.160004,215.399994,220.020004,220.539993,219.580002,222.490005,223.539993,223.570007,224.820007,225.009995,228.919998,223.300003,151.279999,215.460007,178.589996,219.070007,248.130005,282.109985,259.279999,214.360001,260.309998,261.380005,262.01001,259.940002,256.76001,255.710007,254.339996,256.779999,262.549988,261.73999,263.25,263.859985,269.700012,147.529999,216.929993,182.259995,205.309998,223.059998,278.480011,257.01001,216.889999,253.860001,260.73999,261.380005,263.820007,259.320007,250.029999,250.410004,252.139999,246.949997,246.600006,245.259995,242.679993,145.720001,196.559998,238.839996,204.190002,202.300003,219.460007,281.100006,236.910004,241.929993,209.839996,224.589996,227.059998,229.699997,226.350006,227.479996,230.470001,235.339996,231.100006,235.289993,235.240005,221.669998,242.770004,238.100006,238.660004,241.699997,196.619995,234.410004,203.779999,204.470001,218.130005,259.320007,280.309998,251.080002,208.880005,251.699997,258.679993,253.979996,257.700012,247.740005,248.710007,242.779999,246.720001,248.089996,248.440002,244.520004,195.320007,241.490005,184.669998,203.520004,259.959991,279.200012,249.100006,207.0,204.039993,197.809998,205.820007,218.259995,219.289993,222.600006,220.970001,222.259995,227.820007,225.710007,222.229996,222.410004,187.589996,226.029999,249.449997,269.149994,238.630005,239.880005,237.190002,204.25,192.690002,191.869995,193.070007,191.929993,196.570007,201.619995,201.289993,206.550003,205.979996,199.369995,205.199997,203.600006,219.309998,210.940002,197.330002,191.0,248.350006,280.019989,247.690002,247.570007,213.789993,231.990005,203.770004,204.350006,204.460007,211.710007,217.110001,207.339996,204.110001,203.759995,207.190002,203.339996,218.360001,199.559998,248.990005,259.98999,245.570007,208.350006,232.710007,188.679993,195.699997,194.729996,200.710007,195.649994,198.080002,199.630005,201.720001,194.300003,190.410004,185.0,190.570007,188.770004,218.550003,202.440002,230.509995,245.919998,266.279999,241.929993,231.630005,230.380005,209.779999,207.460007,207.830002,206.699997,206.789993,205.270004,209.410004,219.440002,218.600006,218.429993,231.550003,230.479996,232.449997,226.050003,210.089996,220.990005,200.630005,232.949997,249.139999,270.130005,246.149994,231.770004,243.179993,244.100006,248.839996,248.75,247.139999,244.350006,245.619995,247.729996,247.460007,247.429993,251.449997,250.800003,211.279999,217.360001,193.880005,203.100006,230.429993,279.720001,246.130005,241.460007,232.360001,250.380005,253.119995,260.410004,261.890015,262.51001,259.790009,267.670013,265.170013,268.790009,267.089996,262.019989,268.26001,210.949997,203.25,236.800003,267.880005,242.509995,231.960007,231.130005,262.160004,265.649994,263.140015,266.679993,274.660004,282.26001,266.769989,267.869995,267.200012,265.410004,253.009995,264.820007,263.820007,266.790009,266.149994,210.619995,207.669998,236.610001,256.290009,254.960007,248.169998,226.720001,226.720001,242.509995,243.149994,254.990005,260.720001,255.25,242.179993,230.770004,218.869995,220.029999,224.839996,242.990005,248.479996,249.059998,206.660004,217.479996,190.880005,210.089996,256.0,257.920013,248.910004,220.690002,225.330002,224.520004,253.190002,253.570007,262.25,262.070007,260.619995,264.200012,260.940002,261.059998,263.119995,256.910004,248.429993,246.649994,248.399994,216.289993,190.320007,210.899994,250.699997,259.149994,241.139999,248.479996,216.5,227.070007,219.25,216.880005,221.309998,227.009995,228.100006,213.029999,210.089996,211.720001,209.089996,215.259995,210.350006,212.960007,211.630005,206.929993,212.800003,193.740005,239.490005,251.410004,237.369995,250.240005,219.080002,217.020004,207.190002,214.309998,214.0,221.070007,221.800003,220.009995,217.75,218.25,229.639999,231.610001,230.259995,202.210007,202.880005,191.070007,244.740005,250.690002,238.169998,215.580002,212.940002,218.580002,221.089996,234.509995,233.389999,230.460007,232.559998,229.949997,229.699997,230.570007,228.949997,237.190002,238.089996,240.009995,196.940002,186.350006,237.589996,219.559998,216.5,230.009995,200.770004,190.789993,181.880005,200.309998,206.179993,204.990005,204.720001,198.699997,199.970001,202.550003,196.380005,193.559998,188.070007,189.699997,191.199997,182.779999,188.339996,241.800003,218.960007,227.199997,197.779999,188.020004,181.470001,155.169998,168.679993,166.770004,166.580002,177.740005,177.210007,179.0,187.429993,190.339996,191.929993,173.479996,195.740005,232.320007,218.990005,225.789993,213.699997,187.419998,215.149994,218.339996,221.929993,226.380005,232.740005,238.320007,234.240005,222.580002,227.75,230.259995,230.130005,226.889999,229.770004,223.410004,175.330002,201.039993,246.990005,222.559998,230.610001,211.410004,190.559998,254.529999,251.860001,254.509995,253.880005,247.369995,249.970001,248.289993,253.75,251.820007,253.740005,251.470001,247.710007,240.759995,223.429993,162.600006,255.470001,211.529999,213.979996,230.029999,208.460007,186.800003,207.610001,208.289993,204.660004,211.169998,215.210007,220.279999,216.220001,217.910004,219.580002,225.119995,223.039993,223.229996,219.039993,265.420013,214.929993,220.679993,214.440002,202.830002,201.0,185.850006,217.869995,214.960007,217.699997,217.929993,215.470001,219.699997,219.610001,196.660004,196.399994,193.149994,198.550003,201.789993,210.190002,212.279999,215.649994,205.289993,257.200012,232.339996,215.940002,201.710007,196.610001,193.210007,193.149994,222.529999,221.529999,220.399994,226.25,225.259995,228.360001,220.5,222.270004,230.009995,229.509995,228.490005,230.610001,234.789993,211.0,147.990005,202.600006,250.070007,235.520004,216.779999,226.160004,197.360001,194.940002,192.289993,225.589996,223.610001,223.240005,223.509995,225.0,222.929993,224.839996,222.619995,220.960007,219.990005,215.199997,211.339996,212.009995,148.25,208.720001,208.919998,229.360001,229.080002,194.470001,190.059998,192.179993,196.050003,196.410004,200.419998,205.399994,206.339996,204.639999,205.220001,206.429993,207.449997,208.990005,205.809998,206.270004,200.699997,204.029999,143.669998,205.179993,208.690002,218.789993,225.649994,200.949997,185.350006,200.240005,196.509995,193.960007,199.100006,203.559998,199.100006,200.089996,202.759995,202.339996,202.240005,204.009995,199.970001,197.729996,207.850006,150.470001,207.5,249.919998,208.960007,224.779999,224.910004,200.100006,188.559998,181.449997,183.770004,183.929993,188.660004,185.020004,184.520004,191.169998,193.139999,196.649994,196.119995,189.570007,189.399994,209.970001,151.039993,247.820007,207.279999,224.649994,225.610001,198.300003,201.509995,192.429993,198.149994,198.690002,197.580002,202.490005,202.729996,208.789993,207.699997,208.449997,213.339996,219.529999,219.740005,214.679993,213.690002,249.240005,250.020004,322.829987,340.369995,319.570007,355.399994,321.079987,306.529999,237.75,235.580002,238.360001,243.759995,244.729996,248.919998,254.610001,254.470001,252.509995,252.949997,250.630005,251.929993,251.550003,250.479996,318.890015,339.850006,325.890015,341.529999,299.26001,280.600006,280.980011,279.76001,268.950012,272.230011,277.390015,273.51001,255.990005,257.0,246.229996,249.990005,216.990005,251.330002,251.570007,298.519989,311.019989,352.619995,347.089996,348.140015,306.089996,246.169998,258.0,255.729996,262.049988,261.5,261.920013,250.679993,255.009995,254.779999,263.160004,270.220001,277.450012,277.380005,277.920013,278.299988,226.990005,303.700012,295.459991,356.910004,355.01001,305.200012,304.0,301.440002,300.25,305.519989,302.51001,305.600006,308.029999,313.790009,310.170013,308.630005,314.070007,226.75,295.0,308.350006,347.320007,327.089996,349.589996,355.329987,303.700012,315.880005,317.01001,306.109985,313.059998,310.829987,310.350006,303.859985,310.220001,316.829987,325.140015,335.100006,341.01001,229.009995,257.769989,251.210007,298.700012,352.850006,308.829987,344.529999,356.880005,302.779999,313.26001,375.950012,380.660004,375.339996,371.399994,369.799988,372.23999,376.399994,382.609985,383.450012,377.48999,362.369995,371.23999,360.75,361.609985,257.480011,248.589996,302.540009,359.649994,313.220001,355.170013,350.609985,306.049988,311.23999,323.410004,327.779999,319.570007,328.23999,325.26001,329.920013,328.399994,342.519989,339.600006,343.850006,334.459991,335.070007,323.470001,262.079987,246.869995,307.190002,370.0,365.220001,343.399994,304.390015,315.130005,363.799988,362.329987,362.910004,351.920013,347.459991,337.859985,341.350006,352.769989,352.929993,348.049988,345.660004,347.359985,353.179993,355.899994,231.279999,269.200012,244.899994,321.26001,357.320007,363.529999,342.940002,302.98999,366.230011,377.640015,379.809998,385.0,375.100006,373.910004,366.480011,351.089996,344.98999,345.25,340.970001,339.600006,341.100006,229.869995,269.230011,243.690002,312.390015,325.220001,316.049988,355.399994,355.589996,302.98999,355.570007,350.600006,355.75,359.649994,351.809998,345.100006,337.019989,337.339996,325.839996,326.170013,320.869995,320.079987,331.529999,229.729996,308.709991,323.100006,327.220001,357.869995,363.690002,354.600006,328.910004,315.399994,308.700012,311.299988,312.5,315.049988,308.73999,317.809998,312.600006,315.549988,316.809998,317.549988,307.540009,308.850006,229.589996,296.839996,324.809998,359.01001,329.519989,362.75,355.679993,341.029999,339.029999,337.890015,343.450012,338.869995,331.100006,328.980011,331.660004,325.200012,317.290009,311.640015,315.359985,311.350006,349.25,330.929993,299.920013,291.820007,300.839996,310.700012,344.279999,340.059998,347.160004,344.570007,350.019989,351.559998,352.790009,345.890015,337.640015,342.850006,349.529999,345.820007,354.309998,320.529999,343.75,335.119995,252.479996,301.149994,335.070007,349.540009,301.019989,346.410004,323.660004,322.309998,334.070007,335.48999,334.769989,333.299988,346.170013,352.049988,357.420013,350.98999,343.059998,317.25,267.529999,284.450012,310.859985,348.170013,294.799988,358.48999,341.839996,326.630005,325.600006,321.350006,313.559998,310.549988,316.529999,309.100006,301.540009,304.179993,279.179993,257.779999,266.130005,314.619995,286.940002,294.089996,296.73999,288.950012,281.829987,359.700012,300.339996,291.209991,287.690002,293.350006,300.079987,290.23999,283.369995,283.459991,280.690002,285.480011,294.079987,293.899994,316.579987,333.130005,333.350006,305.720001,291.130005,309.160004,280.73999,261.950012,341.399994,291.970001,284.179993,286.480011,284.540009,276.820007,284.48999,275.01001,279.070007,277.850006,278.850006,283.76001,291.720001,284.730011,333.970001,328.200012,299.299988,319.5,308.899994,341.98999,280.950012,341.059998,363.059998,344.779999,357.720001,358.170013,370.829987,352.549988,362.220001,347.51001,333.630005,333.01001,342.0,344.5,349.929993,342.950012,345.0,332.299988,302.769989,316.089996,379.570007,263.23999,348.160004,357.970001,318.869995,310.100006,322.690002,323.850006,320.230011,313.579987,303.200012,297.429993,308.73999,306.649994,297.179993,290.170013,298.140015,336.410004,315.230011,329.100006,301.970001,317.660004,370.339996,250.559998,351.399994,356.410004,347.640015,338.690002,335.450012,305.5,308.440002,321.899994,321.640015,320.100006,322.820007,319.269989,311.859985,305.01001,303.149994,301.660004,333.690002,310.420013,327.170013,289.660004,306.850006,318.51001,352.450012,262.799988,350.51001,289.459991,295.200012,294.839996,284.959991,299.019989,298.329987,299.100006,299.679993,300.98999,309.579987,307.519989,264.769989,334.799988,304.700012,305.019989,322.470001,355.48999,285.5,256.880005,365.149994,259.589996,276.589996,271.779999,263.910004,260.0,260.950012,294.140015,288.5,314.859985,330.899994,334.850006,329.899994,337.320007,337.950012,300.929993,301.059998,332.100006,318.959991,279.440002,252.229996,366.76001,338.730011,344.0,348.440002,354.309998,353.470001,347.48999,338.190002,325.829987,346.0,343.920013,347.869995,341.170013,350.480011,336.220001,315.730011,345.51001,294.079987,342.769989,316.709991,290.540009,258.779999,331.279999,366.600006,376.790009,365.709991,348.420013,337.029999,332.970001,315.380005,319.769989,295.390015,326.089996,316.130005,333.869995,332.799988,312.209991,294.790009,334.399994,344.429993,346.049988,347.309998,302.26001,298.920013,287.589996,291.51001,297.040009,296.380005,297.459991,308.769989,307.019989,310.119995,308.170013,303.769989,307.880005,305.640015,302.559998,291.230011,294.709991,298.769989,297.859985,314.73999,319.880005,300.359985,288.959991,289.959991,275.429993,317.690002,312.890015,285.359985,321.350006,276.540009,317.220001,276.23999,334.959991,307.51001,276.589996,335.350006,305.799988,284.140015,338.529999,344.970001,347.26001,312.839996,290.920013,311.809998,283.359985],\"type\":\"scatter\"}],                        {\"template\":{\"data\":{\"barpolar\":[{\"marker\":{\"line\":{\"color\":\"#E5ECF6\",\"width\":0.5},\"pattern\":{\"fillmode\":\"overlay\",\"size\":10,\"solidity\":0.2}},\"type\":\"barpolar\"}],\"bar\":[{\"error_x\":{\"color\":\"#2a3f5f\"},\"error_y\":{\"color\":\"#2a3f5f\"},\"marker\":{\"line\":{\"color\":\"#E5ECF6\",\"width\":0.5},\"pattern\":{\"fillmode\":\"overlay\",\"size\":10,\"solidity\":0.2}},\"type\":\"bar\"}],\"carpet\":[{\"aaxis\":{\"endlinecolor\":\"#2a3f5f\",\"gridcolor\":\"white\",\"linecolor\":\"white\",\"minorgridcolor\":\"white\",\"startlinecolor\":\"#2a3f5f\"},\"baxis\":{\"endlinecolor\":\"#2a3f5f\",\"gridcolor\":\"white\",\"linecolor\":\"white\",\"minorgridcolor\":\"white\",\"startlinecolor\":\"#2a3f5f\"},\"type\":\"carpet\"}],\"choropleth\":[{\"colorbar\":{\"outlinewidth\":0,\"ticks\":\"\"},\"type\":\"choropleth\"}],\"contourcarpet\":[{\"colorbar\":{\"outlinewidth\":0,\"ticks\":\"\"},\"type\":\"contourcarpet\"}],\"contour\":[{\"colorbar\":{\"outlinewidth\":0,\"ticks\":\"\"},\"colorscale\":[[0.0,\"#0d0887\"],[0.1111111111111111,\"#46039f\"],[0.2222222222222222,\"#7201a8\"],[0.3333333333333333,\"#9c179e\"],[0.4444444444444444,\"#bd3786\"],[0.5555555555555556,\"#d8576b\"],[0.6666666666666666,\"#ed7953\"],[0.7777777777777778,\"#fb9f3a\"],[0.8888888888888888,\"#fdca26\"],[1.0,\"#f0f921\"]],\"type\":\"contour\"}],\"heatmapgl\":[{\"colorbar\":{\"outlinewidth\":0,\"ticks\":\"\"},\"colorscale\":[[0.0,\"#0d0887\"],[0.1111111111111111,\"#46039f\"],[0.2222222222222222,\"#7201a8\"],[0.3333333333333333,\"#9c179e\"],[0.4444444444444444,\"#bd3786\"],[0.5555555555555556,\"#d8576b\"],[0.6666666666666666,\"#ed7953\"],[0.7777777777777778,\"#fb9f3a\"],[0.8888888888888888,\"#fdca26\"],[1.0,\"#f0f921\"]],\"type\":\"heatmapgl\"}],\"heatmap\":[{\"colorbar\":{\"outlinewidth\":0,\"ticks\":\"\"},\"colorscale\":[[0.0,\"#0d0887\"],[0.1111111111111111,\"#46039f\"],[0.2222222222222222,\"#7201a8\"],[0.3333333333333333,\"#9c179e\"],[0.4444444444444444,\"#bd3786\"],[0.5555555555555556,\"#d8576b\"],[0.6666666666666666,\"#ed7953\"],[0.7777777777777778,\"#fb9f3a\"],[0.8888888888888888,\"#fdca26\"],[1.0,\"#f0f921\"]],\"type\":\"heatmap\"}],\"histogram2dcontour\":[{\"colorbar\":{\"outlinewidth\":0,\"ticks\":\"\"},\"colorscale\":[[0.0,\"#0d0887\"],[0.1111111111111111,\"#46039f\"],[0.2222222222222222,\"#7201a8\"],[0.3333333333333333,\"#9c179e\"],[0.4444444444444444,\"#bd3786\"],[0.5555555555555556,\"#d8576b\"],[0.6666666666666666,\"#ed7953\"],[0.7777777777777778,\"#fb9f3a\"],[0.8888888888888888,\"#fdca26\"],[1.0,\"#f0f921\"]],\"type\":\"histogram2dcontour\"}],\"histogram2d\":[{\"colorbar\":{\"outlinewidth\":0,\"ticks\":\"\"},\"colorscale\":[[0.0,\"#0d0887\"],[0.1111111111111111,\"#46039f\"],[0.2222222222222222,\"#7201a8\"],[0.3333333333333333,\"#9c179e\"],[0.4444444444444444,\"#bd3786\"],[0.5555555555555556,\"#d8576b\"],[0.6666666666666666,\"#ed7953\"],[0.7777777777777778,\"#fb9f3a\"],[0.8888888888888888,\"#fdca26\"],[1.0,\"#f0f921\"]],\"type\":\"histogram2d\"}],\"histogram\":[{\"marker\":{\"pattern\":{\"fillmode\":\"overlay\",\"size\":10,\"solidity\":0.2}},\"type\":\"histogram\"}],\"mesh3d\":[{\"colorbar\":{\"outlinewidth\":0,\"ticks\":\"\"},\"type\":\"mesh3d\"}],\"parcoords\":[{\"line\":{\"colorbar\":{\"outlinewidth\":0,\"ticks\":\"\"}},\"type\":\"parcoords\"}],\"pie\":[{\"automargin\":true,\"type\":\"pie\"}],\"scatter3d\":[{\"line\":{\"colorbar\":{\"outlinewidth\":0,\"ticks\":\"\"}},\"marker\":{\"colorbar\":{\"outlinewidth\":0,\"ticks\":\"\"}},\"type\":\"scatter3d\"}],\"scattercarpet\":[{\"marker\":{\"colorbar\":{\"outlinewidth\":0,\"ticks\":\"\"}},\"type\":\"scattercarpet\"}],\"scattergeo\":[{\"marker\":{\"colorbar\":{\"outlinewidth\":0,\"ticks\":\"\"}},\"type\":\"scattergeo\"}],\"scattergl\":[{\"marker\":{\"colorbar\":{\"outlinewidth\":0,\"ticks\":\"\"}},\"type\":\"scattergl\"}],\"scattermapbox\":[{\"marker\":{\"colorbar\":{\"outlinewidth\":0,\"ticks\":\"\"}},\"type\":\"scattermapbox\"}],\"scatterpolargl\":[{\"marker\":{\"colorbar\":{\"outlinewidth\":0,\"ticks\":\"\"}},\"type\":\"scatterpolargl\"}],\"scatterpolar\":[{\"marker\":{\"colorbar\":{\"outlinewidth\":0,\"ticks\":\"\"}},\"type\":\"scatterpolar\"}],\"scatter\":[{\"fillpattern\":{\"fillmode\":\"overlay\",\"size\":10,\"solidity\":0.2},\"type\":\"scatter\"}],\"scatterternary\":[{\"marker\":{\"colorbar\":{\"outlinewidth\":0,\"ticks\":\"\"}},\"type\":\"scatterternary\"}],\"surface\":[{\"colorbar\":{\"outlinewidth\":0,\"ticks\":\"\"},\"colorscale\":[[0.0,\"#0d0887\"],[0.1111111111111111,\"#46039f\"],[0.2222222222222222,\"#7201a8\"],[0.3333333333333333,\"#9c179e\"],[0.4444444444444444,\"#bd3786\"],[0.5555555555555556,\"#d8576b\"],[0.6666666666666666,\"#ed7953\"],[0.7777777777777778,\"#fb9f3a\"],[0.8888888888888888,\"#fdca26\"],[1.0,\"#f0f921\"]],\"type\":\"surface\"}],\"table\":[{\"cells\":{\"fill\":{\"color\":\"#EBF0F8\"},\"line\":{\"color\":\"white\"}},\"header\":{\"fill\":{\"color\":\"#C8D4E3\"},\"line\":{\"color\":\"white\"}},\"type\":\"table\"}]},\"layout\":{\"annotationdefaults\":{\"arrowcolor\":\"#2a3f5f\",\"arrowhead\":0,\"arrowwidth\":1},\"autotypenumbers\":\"strict\",\"coloraxis\":{\"colorbar\":{\"outlinewidth\":0,\"ticks\":\"\"}},\"colorscale\":{\"diverging\":[[0,\"#8e0152\"],[0.1,\"#c51b7d\"],[0.2,\"#de77ae\"],[0.3,\"#f1b6da\"],[0.4,\"#fde0ef\"],[0.5,\"#f7f7f7\"],[0.6,\"#e6f5d0\"],[0.7,\"#b8e186\"],[0.8,\"#7fbc41\"],[0.9,\"#4d9221\"],[1,\"#276419\"]],\"sequential\":[[0.0,\"#0d0887\"],[0.1111111111111111,\"#46039f\"],[0.2222222222222222,\"#7201a8\"],[0.3333333333333333,\"#9c179e\"],[0.4444444444444444,\"#bd3786\"],[0.5555555555555556,\"#d8576b\"],[0.6666666666666666,\"#ed7953\"],[0.7777777777777778,\"#fb9f3a\"],[0.8888888888888888,\"#fdca26\"],[1.0,\"#f0f921\"]],\"sequentialminus\":[[0.0,\"#0d0887\"],[0.1111111111111111,\"#46039f\"],[0.2222222222222222,\"#7201a8\"],[0.3333333333333333,\"#9c179e\"],[0.4444444444444444,\"#bd3786\"],[0.5555555555555556,\"#d8576b\"],[0.6666666666666666,\"#ed7953\"],[0.7777777777777778,\"#fb9f3a\"],[0.8888888888888888,\"#fdca26\"],[1.0,\"#f0f921\"]]},\"colorway\":[\"#636efa\",\"#EF553B\",\"#00cc96\",\"#ab63fa\",\"#FFA15A\",\"#19d3f3\",\"#FF6692\",\"#B6E880\",\"#FF97FF\",\"#FECB52\"],\"font\":{\"color\":\"#2a3f5f\"},\"geo\":{\"bgcolor\":\"white\",\"lakecolor\":\"white\",\"landcolor\":\"#E5ECF6\",\"showlakes\":true,\"showland\":true,\"subunitcolor\":\"white\"},\"hoverlabel\":{\"align\":\"left\"},\"hovermode\":\"closest\",\"mapbox\":{\"style\":\"light\"},\"paper_bgcolor\":\"white\",\"plot_bgcolor\":\"#E5ECF6\",\"polar\":{\"angularaxis\":{\"gridcolor\":\"white\",\"linecolor\":\"white\",\"ticks\":\"\"},\"bgcolor\":\"#E5ECF6\",\"radialaxis\":{\"gridcolor\":\"white\",\"linecolor\":\"white\",\"ticks\":\"\"}},\"scene\":{\"xaxis\":{\"backgroundcolor\":\"#E5ECF6\",\"gridcolor\":\"white\",\"gridwidth\":2,\"linecolor\":\"white\",\"showbackground\":true,\"ticks\":\"\",\"zerolinecolor\":\"white\"},\"yaxis\":{\"backgroundcolor\":\"#E5ECF6\",\"gridcolor\":\"white\",\"gridwidth\":2,\"linecolor\":\"white\",\"showbackground\":true,\"ticks\":\"\",\"zerolinecolor\":\"white\"},\"zaxis\":{\"backgroundcolor\":\"#E5ECF6\",\"gridcolor\":\"white\",\"gridwidth\":2,\"linecolor\":\"white\",\"showbackground\":true,\"ticks\":\"\",\"zerolinecolor\":\"white\"}},\"shapedefaults\":{\"line\":{\"color\":\"#2a3f5f\"}},\"ternary\":{\"aaxis\":{\"gridcolor\":\"white\",\"linecolor\":\"white\",\"ticks\":\"\"},\"baxis\":{\"gridcolor\":\"white\",\"linecolor\":\"white\",\"ticks\":\"\"},\"bgcolor\":\"#E5ECF6\",\"caxis\":{\"gridcolor\":\"white\",\"linecolor\":\"white\",\"ticks\":\"\"}},\"title\":{\"x\":0.05},\"xaxis\":{\"automargin\":true,\"gridcolor\":\"white\",\"linecolor\":\"white\",\"ticks\":\"\",\"title\":{\"standoff\":15},\"zerolinecolor\":\"white\",\"zerolinewidth\":2},\"yaxis\":{\"automargin\":true,\"gridcolor\":\"white\",\"linecolor\":\"white\",\"ticks\":\"\",\"title\":{\"standoff\":15},\"zerolinecolor\":\"white\",\"zerolinewidth\":2}}},\"title\":{\"text\":\"Stock Prices of Tesla\"},\"xaxis\":{\"title\":{\"font\":{\"color\":\"#7f7f7f\",\"family\":\"Courier New , monospace\",\"size\":18},\"text\":\"Date\"}},\"yaxis\":{\"title\":{\"font\":{\"color\":\"#7f7f7f\",\"family\":\"Courier New , monospace\",\"size\":18},\"text\":\"Price\"}}},                        {\"responsive\": true}                    ).then(function(){\n",
              "                            \n",
              "var gd = document.getElementById('db33db4c-8b52-45cc-a227-25f6942bf6c8');\n",
              "var x = new MutationObserver(function (mutations, observer) {{\n",
              "        var display = window.getComputedStyle(gd).display;\n",
              "        if (!display || display === 'none') {{\n",
              "            console.log([gd, 'removed!']);\n",
              "            Plotly.purge(gd);\n",
              "            observer.disconnect();\n",
              "        }}\n",
              "}});\n",
              "\n",
              "// Listen for the removal of the full notebook cells\n",
              "var notebookContainer = gd.closest('#notebook-container');\n",
              "if (notebookContainer) {{\n",
              "    x.observe(notebookContainer, {childList: true});\n",
              "}}\n",
              "\n",
              "// Listen for the clearing of the current output cell\n",
              "var outputEl = gd.closest('.output');\n",
              "if (outputEl) {{\n",
              "    x.observe(outputEl, {childList: true});\n",
              "}}\n",
              "\n",
              "                        })                };                            </script>        </div>\n",
              "</body>\n",
              "</html>"
            ]
          },
          "metadata": {}
        }
      ]
    },
    {
      "cell_type": "code",
      "source": [
        "#Building the regression model\n",
        "from sklearn.model_selection import train_test_split\n",
        "\n",
        "#For preprocessing\n",
        "from sklearn.preprocessing import MinMaxScaler\n",
        "from sklearn.preprocessing import StandardScaler\n",
        "\n",
        "#For model evaluation\n",
        "from sklearn.metrics import mean_squared_error as mse \n",
        "from sklearn.metrics import r2_score"
      ],
      "metadata": {
        "id": "6dl9q1_0ijI3"
      },
      "execution_count": 35,
      "outputs": []
    },
    {
      "cell_type": "code",
      "source": [
        "#Split the data into train and test sets\n",
        "X=np.array(tesla.index).reshape(-1,1)\n",
        "Y=tesla['Close']\n",
        "X_train, X_test,Y_train, Y_test=train_test_split(X,Y,test_size=0.3, random_state=101)"
      ],
      "metadata": {
        "id": "7n83QJpAr1LY"
      },
      "execution_count": 36,
      "outputs": []
    },
    {
      "cell_type": "code",
      "source": [
        "#Feature scaling\n",
        "scaler=StandardScaler().fit(X_train)"
      ],
      "metadata": {
        "id": "RRu89yHDs7yB"
      },
      "execution_count": 37,
      "outputs": []
    },
    {
      "cell_type": "code",
      "source": [
        "from sklearn.linear_model import LinearRegression"
      ],
      "metadata": {
        "id": "SaXv-CRutRpt"
      },
      "execution_count": 38,
      "outputs": []
    },
    {
      "cell_type": "code",
      "source": [
        "#Creating a linear model\n",
        "lm=LinearRegression()\n",
        "lm.fit(X_train,Y_train)"
      ],
      "metadata": {
        "colab": {
          "base_uri": "https://localhost:8080/",
          "height": 75
        },
        "id": "pjBNi6cYtMQK",
        "outputId": "b55ba61c-7d89-4f52-a188-75a19591671f"
      },
      "execution_count": 39,
      "outputs": [
        {
          "output_type": "execute_result",
          "data": {
            "text/plain": [
              "LinearRegression()"
            ],
            "text/html": [
              "<style>#sk-container-id-2 {color: black;background-color: white;}#sk-container-id-2 pre{padding: 0;}#sk-container-id-2 div.sk-toggleable {background-color: white;}#sk-container-id-2 label.sk-toggleable__label {cursor: pointer;display: block;width: 100%;margin-bottom: 0;padding: 0.3em;box-sizing: border-box;text-align: center;}#sk-container-id-2 label.sk-toggleable__label-arrow:before {content: \"▸\";float: left;margin-right: 0.25em;color: #696969;}#sk-container-id-2 label.sk-toggleable__label-arrow:hover:before {color: black;}#sk-container-id-2 div.sk-estimator:hover label.sk-toggleable__label-arrow:before {color: black;}#sk-container-id-2 div.sk-toggleable__content {max-height: 0;max-width: 0;overflow: hidden;text-align: left;background-color: #f0f8ff;}#sk-container-id-2 div.sk-toggleable__content pre {margin: 0.2em;color: black;border-radius: 0.25em;background-color: #f0f8ff;}#sk-container-id-2 input.sk-toggleable__control:checked~div.sk-toggleable__content {max-height: 200px;max-width: 100%;overflow: auto;}#sk-container-id-2 input.sk-toggleable__control:checked~label.sk-toggleable__label-arrow:before {content: \"▾\";}#sk-container-id-2 div.sk-estimator input.sk-toggleable__control:checked~label.sk-toggleable__label {background-color: #d4ebff;}#sk-container-id-2 div.sk-label input.sk-toggleable__control:checked~label.sk-toggleable__label {background-color: #d4ebff;}#sk-container-id-2 input.sk-hidden--visually {border: 0;clip: rect(1px 1px 1px 1px);clip: rect(1px, 1px, 1px, 1px);height: 1px;margin: -1px;overflow: hidden;padding: 0;position: absolute;width: 1px;}#sk-container-id-2 div.sk-estimator {font-family: monospace;background-color: #f0f8ff;border: 1px dotted black;border-radius: 0.25em;box-sizing: border-box;margin-bottom: 0.5em;}#sk-container-id-2 div.sk-estimator:hover {background-color: #d4ebff;}#sk-container-id-2 div.sk-parallel-item::after {content: \"\";width: 100%;border-bottom: 1px solid gray;flex-grow: 1;}#sk-container-id-2 div.sk-label:hover label.sk-toggleable__label {background-color: #d4ebff;}#sk-container-id-2 div.sk-serial::before {content: \"\";position: absolute;border-left: 1px solid gray;box-sizing: border-box;top: 0;bottom: 0;left: 50%;z-index: 0;}#sk-container-id-2 div.sk-serial {display: flex;flex-direction: column;align-items: center;background-color: white;padding-right: 0.2em;padding-left: 0.2em;position: relative;}#sk-container-id-2 div.sk-item {position: relative;z-index: 1;}#sk-container-id-2 div.sk-parallel {display: flex;align-items: stretch;justify-content: center;background-color: white;position: relative;}#sk-container-id-2 div.sk-item::before, #sk-container-id-2 div.sk-parallel-item::before {content: \"\";position: absolute;border-left: 1px solid gray;box-sizing: border-box;top: 0;bottom: 0;left: 50%;z-index: -1;}#sk-container-id-2 div.sk-parallel-item {display: flex;flex-direction: column;z-index: 1;position: relative;background-color: white;}#sk-container-id-2 div.sk-parallel-item:first-child::after {align-self: flex-end;width: 50%;}#sk-container-id-2 div.sk-parallel-item:last-child::after {align-self: flex-start;width: 50%;}#sk-container-id-2 div.sk-parallel-item:only-child::after {width: 0;}#sk-container-id-2 div.sk-dashed-wrapped {border: 1px dashed gray;margin: 0 0.4em 0.5em 0.4em;box-sizing: border-box;padding-bottom: 0.4em;background-color: white;}#sk-container-id-2 div.sk-label label {font-family: monospace;font-weight: bold;display: inline-block;line-height: 1.2em;}#sk-container-id-2 div.sk-label-container {text-align: center;}#sk-container-id-2 div.sk-container {/* jupyter's `normalize.less` sets `[hidden] { display: none; }` but bootstrap.min.css set `[hidden] { display: none !important; }` so we also need the `!important` here to be able to override the default hidden behavior on the sphinx rendered scikit-learn.org. See: https://github.com/scikit-learn/scikit-learn/issues/21755 */display: inline-block !important;position: relative;}#sk-container-id-2 div.sk-text-repr-fallback {display: none;}</style><div id=\"sk-container-id-2\" class=\"sk-top-container\"><div class=\"sk-text-repr-fallback\"><pre>LinearRegression()</pre><b>In a Jupyter environment, please rerun this cell to show the HTML representation or trust the notebook. <br />On GitHub, the HTML representation is unable to render, please try loading this page with nbviewer.org.</b></div><div class=\"sk-container\" hidden><div class=\"sk-item\"><div class=\"sk-estimator sk-toggleable\"><input class=\"sk-toggleable__control sk-hidden--visually\" id=\"sk-estimator-id-2\" type=\"checkbox\" checked><label for=\"sk-estimator-id-2\" class=\"sk-toggleable__label sk-toggleable__label-arrow\">LinearRegression</label><div class=\"sk-toggleable__content\"><pre>LinearRegression()</pre></div></div></div></div></div>"
            ]
          },
          "metadata": {},
          "execution_count": 39
        }
      ]
    },
    {
      "cell_type": "code",
      "source": [
        "#Plot actual and predicted values for train dataset\n",
        "trace0=go.Scatter(\n",
        "    x=X_train.T[0],\n",
        "    y=Y_train,\n",
        "    mode='markers',\n",
        "    name='Actual'\n",
        ")\n",
        "trace1=go.Scatter(\n",
        "    x=X_train.T[0],\n",
        "    y=lm.predict(X_train).T,\n",
        "    mode='lines',\n",
        "    name='Predicted'\n",
        ")\n",
        "tesla_data=[trace0,trace1]\n",
        "layout.xaxis.title.text='Day'\n",
        "plot2=go.Figure(data=tesla_data,layout=layout)"
      ],
      "metadata": {
        "id": "LaN-Axo-uLNo"
      },
      "execution_count": 40,
      "outputs": []
    },
    {
      "cell_type": "code",
      "source": [
        "iplot(plot2)"
      ],
      "metadata": {
        "colab": {
          "base_uri": "https://localhost:8080/",
          "height": 542
        },
        "id": "GOcgwh5dvmPw",
        "outputId": "b83bdc90-9c0e-4958-e633-04c32855cd63"
      },
      "execution_count": 41,
      "outputs": [
        {
          "output_type": "display_data",
          "data": {
            "text/html": [
              "<html>\n",
              "<head><meta charset=\"utf-8\" /></head>\n",
              "<body>\n",
              "    <div>            <script src=\"https://cdnjs.cloudflare.com/ajax/libs/mathjax/2.7.5/MathJax.js?config=TeX-AMS-MML_SVG\"></script><script type=\"text/javascript\">if (window.MathJax && window.MathJax.Hub && window.MathJax.Hub.Config) {window.MathJax.Hub.Config({SVG: {font: \"STIX-Web\"}});}</script>                <script type=\"text/javascript\">window.PlotlyConfig = {MathJaxConfig: 'local'};</script>\n",
              "        <script src=\"https://cdn.plot.ly/plotly-2.18.2.min.js\"></script>                <div id=\"169d71cd-b7d9-48b8-816a-0ac9f653ac06\" class=\"plotly-graph-div\" style=\"height:525px; width:100%;\"></div>            <script type=\"text/javascript\">                                    window.PLOTLYENV=window.PLOTLYENV || {};                                    if (document.getElementById(\"169d71cd-b7d9-48b8-816a-0ac9f653ac06\")) {                    Plotly.newPlot(                        \"169d71cd-b7d9-48b8-816a-0ac9f653ac06\",                        [{\"mode\":\"markers\",\"name\":\"Actual\",\"x\":[284,1109,1540,1994,1755,1356,275,1708,123,822,1948,526,415,2117,2144,1113,845,986,1401,2004,53,183,55,717,1305,1615,1527,293,280,1145,1614,698,1455,171,791,1186,1873,1027,921,1459,344,1222,1393,119,448,555,1227,1476,363,2026,422,706,3,932,148,1841,588,1685,2022,2013,115,1449,1590,1785,940,1980,546,1547,1635,1991,2093,844,1032,1067,124,269,1377,186,1996,1322,76,1954,1219,551,604,1168,1170,989,613,1874,1306,1165,614,746,1983,955,1538,1559,278,1447,1760,46,959,1380,1493,700,1854,1376,1397,990,1950,1989,1823,665,2075,618,136,767,1238,96,1379,1827,441,1048,1475,2119,1167,1450,1772,2033,1187,90,147,1230,1308,2167,4,288,195,818,13,336,1018,1286,1443,1856,615,49,509,510,681,1969,1964,1147,1233,1250,862,1520,748,1327,1893,1446,1011,249,187,906,204,1653,1683,1272,1078,609,1347,9,671,813,1779,440,1751,1850,1451,462,1046,669,251,1545,175,512,1484,1694,1416,1941,1656,1705,1731,1220,1060,2158,1871,387,1050,2061,292,784,697,1100,1972,779,307,2130,1535,2019,632,1911,325,920,708,73,125,1813,1662,1487,705,1303,1061,1184,2170,2045,1864,1949,745,1518,1570,2053,2153,137,151,306,1719,369,1236,2181,893,319,1128,534,1820,57,1792,1766,1558,140,673,382,1815,1454,320,634,1131,1777,1700,831,916,900,1799,888,876,44,1835,2049,457,2059,150,1368,414,1753,2160,375,101,1409,460,2020,1,1763,1811,1387,838,538,1992,584,37,963,12,2106,1317,1433,550,1932,1906,1042,1372,89,1141,2099,517,1112,1152,210,1713,351,1007,1974,10,1923,755,1805,370,1734,997,2042,1628,477,1810,1921,1158,859,1492,1739,418,969,1843,2134,834,1507,637,1137,654,1824,571,898,1026,138,877,1024,1773,2152,54,568,1321,1221,596,327,1396,65,127,434,1729,1006,864,469,848,1281,679,628,404,1307,1652,433,915,1251,197,401,1130,384,817,1218,111,666,1845,1213,2083,936,1513,1163,559,1982,743,1499,662,1788,1419,1896,128,1097,1255,464,266,1395,331,954,560,1384,1468,428,99,1146,1062,1926,1394,1266,846,1206,121,1077,1265,1357,878,2136,1588,889,2129,724,768,1599,962,762,508,1995,677,506,759,70,652,1293,1358,1180,1504,968,630,2086,1887,501,2039,0,674,1400,861,328,1374,928,1140,1411,1537,1225,825,268,1611,1432,339,118,286,598,1866,2132,1341,1129,787,696,689,824,573,2008,313,711,117,742,165,1503,309,252,435,1867,910,267,391,1188,400,1314,519,1882,1551,2018,2113,624,487,507,2151,427,1808,1977,1445,1481,1362,991,941,2021,684,2172,1714,74,1309,1391,978,975,1801,291,1860,333,104,578,1862,956,1036,485,2014,1988,2157,587,364,1519,985,1297,1522,1770,567,1183,259,1870,271,1211,1848,1786,981,2029,1928,828,142,471,873,647,2154,1907,783,473,77,688,577,1552,1509,318,1497,274,1913,1979,308,1091,158,1647,2156,796,1135,683,1349,1243,972,1830,874,1202,667,27,895,93,21,1831,67,411,1712,1040,1174,1465,416,1978,957,2003,1555,277,1642,809,432,1886,1957,606,1278,1940,244,1436,1981,1853,103,1857,592,1578,1916,1591,1756,650,1085,1730,1577,1256,1915,1345,2118,625,1037,1361,611,1562,727,2067,1643,1403,1778,616,2002,1955,1880,1631,2143,919,931,50,1925,858,102,1012,1204,2192,1458,1116,1417,1803,1814,1196,205,903,574,1702,1402,1320,1905,447,998,1877,88,1774,753,730,216,152,1404,714,1594,499,1682,225,1767,22,1253,1844,302,1670,424,716,902,335,2155,865,2146,1290,648,1388,436,1210,1155,1463,1610,206,1134,1727,1019,1807,1897,2082,1741,1312,1678,1575,1840,905,594,687,1663,1593,803,1910,738,756,1546,1568,233,1625,1229,444,599,1154,1966,1689,467,1569,805,1929,1101,1000,1364,763,1415,792,646,1838,1282,518,1606,1884,1352,1408,790,1709,1602,234,2001,1574,1171,1985,1428,492,2187,961,523,235,372,1194,1892,690,2010,774,1237,2063,1041,203,75,31,383,223,799,48,1381,1993,2178,1909,524,1496,2102,1055,1556,451,761,1571,167,1633,514,1072,894,737,556,948,591,230,958,463,310,661,1045,1430,1511,253,1486,1434,1311,2166,295,1564,1723,966,368,1986,1106,1859,515,635,1153,1111,880,220,1178,155,94,1201,257,1943,1898,475,1028,821,110,1607,1038,1495,562,478,1585,18,1903,1057,1460,1343,392,1386,2062,1508,1355,17,218,1138,1291,1337,1087,409,1787,883,189,112,262,1817,247,232,1829,1161,1968,1089,491,917,1224,108,314,2030,1962,1092,704,449,1861,207,819,1674,642,1665,1169,1039,529,1462,2071,1177,98,933,1660,2138,2041,1326,489,41,272,1122,1276,1023,1273,1464,1258,2047,868,934,1649,2015,726,348,2068,443,1389,1139,2174,338,1686,583,1826,869,729,1410,1264,36,808,2087,393,1726,1108,442,927,620,1998,1489,725,810,476,342,565,1324,1976,316,1288,1148,2177,1063,1758,999,1550,466,728,658,1967,1846,1733,120,1927,1474,686,294,1837,1066,2111,164,1961,350,169,1079,1485,699,270,1800,668,149,114,1725,365,1754,1742,1329,938,160,323,739,332,944,439,612,1999,528,1501,766,2176,1512,261,1695,408,557,2051,544,238,1348,403,504,942,549,398,832,40,1530,1706,159,2190,1895,1008,1819,219,1470,84,2092,1797,872,1529,1696,317,675,540,196,2185,1679,773,1888,2184,797,1160,1648,1473,780,486,965,1043,1627,1375,715,1365,2027,891,1904,2189,2097,757,299,829,1697,1790,765,260,1477,1879,345,281,655,1912,1351,1176,2112,913,452,2149,1190,835,312,1231,474,1619,1440,1802,166,1952,282,366,527,303,182,2098,63,1110,402,2101,1875,1876,839,1834,572,995,2088,349,1651,672,170,682,879,2028,601,1883,703,1195,407,1405,1680,1717,80,1924,2182,946,827,1115,174,605,1965,1581,582,994,1735,201,1621,470,1093,1053,1117,617,1068,1315,2183,1075,1757,200,2037,386,530,297,1166,758,2162,752,1701,1156,329,2107,659,305,34,644,1069,377,2084,1938,315,786,852,627,246,2096,465,1690,412,132,1071,645,505,1698,1001,1217,943,1350,2104,1285,1296,1738,1119,1457,1789,1847,1768,701,2128,1235,694,1005,26,1728,212,1747,2044,1586,25,854,58,881,2186,520,2072,1469,2124,1736,887,1836,2173,82,61,1164,2108,2145,1114,2094,226,1523,279,522,1863,397,570,482,1173,1142,554,1666,2105,800,156,1157,841,1431,1181,1990,495,2054,1542,2057,747,130,1441,1960,1632,1070,410,840,45,8,399,1626,1302,820,497,388,983,380,1703,1764,2005,438,1059,1671,2090,2137,890,1332,1557,543,1471,823,1126,1970,241,1049,926,977,541,909,1605,1821,431,1796,362,1832,1044,1930,290,1612,1353,802,2031,1398,1659,455,503,1918,42,1956,1034,1480,1959,1143,1017,607,1920,589,254,2060,1748,1541,1672,513,2023,446,423,1425,581,1783,248,144,1781,982,871,1354,984,1720,1065,389,480,224,1865,311,1560,1107,2078,633,178,1132,1267,685,1973,1260,811,14,1467,1573,548,1025,692,1516,358,2058,1596,97,663,1775,1842,892,1533,208,1868,47,458,2147,1248,1604,163,945,2163,1383,2064,1448,1232,359,1453,535,1902,153,734,209,1934,1532,56,1031,106,86,922,1399,69,511,1885,450,1858,952,472,2012,707,1015,664,949,1099,1900,191,24,1456,1482,907,143,1014,558,1939,1438,1084,1583,64,812,1149,1641,1946,610,814,222,19,1330,830,1718,960,1894,1971,154,855,561,693,2114,1382,51,2056,789,713,973,1279,488,2070,378,798,2000,2024,1582,1668,71,1488,1750,453,1699,1269,357,2122,1127,925,653,1275,1203,851,87,542,1505,395,987,242,1595,2161,1711,1021,1261,92,1524,1818,1878,1301,1639,1984,500,420,1688,1889,1490,970,782,1346,199,595,1246,1426,1466,437,967,833,979,1371,1528,2159,198,1743,1722,1274,1498,1444,2110,1951,371,1531,623,1771,32,2091,479,1009,1732,733,935,1669,1576,1118,60,2048,600,1435,1360,1548,660],\"y\":[26.309999,242.779999,225.649994,284.730011,369.799988,214.309998,28.77,308.709991,32.630001,173.309998,304.179993,27.35,34.5,325.829987,317.690002,244.520004,176.809998,207.770004,202.550003,357.720001,21.120001,22.73,20.940001,59.5,245.570007,196.649994,222.270004,23.110001,23.639999,191.869995,193.139999,40.5,249.919998,24.360001,149.580002,194.729996,303.700012,225.009995,253.0,254.509995,31.27,236.800003,207.850006,30.809999,33.150002,27.370001,244.100006,208.690002,34.419998,322.690002,34.41,47.830002,19.200001,237.789993,24.01,351.809998,27.52,244.899994,318.959991,344.5,31.52,237.589996,199.100006,319.570007,220.440002,305.019989,28.32,225.0,213.339996,278.850006,260.0,175.199997,238.490005,252.139999,30.09,29.290001,234.509995,22.33,296.73999,246.649994,20.540001,286.940002,230.509995,28.139999,33.0,211.710007,207.339996,203.990005,33.900002,313.26001,241.929993,203.770004,33.709999,102.199997,284.179993,193.910004,226.160004,201.710007,24.75,226.889999,377.48999,21.059999,218.639999,232.559998,218.990005,43.59,306.049988,221.089996,204.990005,206.899994,257.779999,279.070007,344.98999,38.540001,300.98999,35.279999,26.959999,120.25,249.449997,29.84,230.460007,341.100006,37.849998,263.25,208.919998,343.920013,204.460007,246.990005,323.410004,306.649994,200.710007,24.9,24.92,247.139999,248.910004,307.51001,16.110001,24.26,26.49,190.899994,21.91,27.98,217.160004,242.509995,222.580002,302.98999,33.900002,20.9,31.23,30.99,36.849998,280.690002,293.350006,191.929993,247.729996,260.410004,127.279999,222.529999,104.68,241.460007,314.619995,230.130005,222.660004,27.709999,22.75,178.729996,25.16,248.919998,248.589996,282.26001,257.01001,33.23,208.350006,18.139999,34.830002,183.389999,342.519989,37.939999,375.950012,321.079987,255.470001,33.34,262.549988,34.43,27.459999,223.240005,24.719999,31.27,220.279999,255.009995,151.039993,325.600006,252.509995,298.700012,315.880005,232.949997,253.860001,297.040009,306.529999,27.620001,269.700012,280.73999,23.870001,153.0,41.830002,241.929993,293.899994,138.0,24.82,376.790009,225.789993,308.899994,35.360001,354.309998,27.610001,248.0,51.009998,20.24,25.549999,363.690002,251.330002,219.580002,46.970001,238.630005,260.73999,188.679993,311.809998,356.410004,317.809998,279.179993,100.300003,224.779999,206.429993,320.100006,347.309998,26.959999,23.940001,24.34,308.630005,29.450001,251.449997,319.880005,164.130005,23.73,219.289993,29.41,373.910004,21.059999,355.399994,327.089996,202.830002,25.639999,35.580002,28.08,366.230011,250.070007,23.66,34.400002,222.259995,329.920013,277.920013,183.559998,193.639999,169.619995,337.859985,151.279999,140.720001,19.48,354.600006,305.5,33.16,301.660004,23.91,232.710007,34.970001,375.339996,297.459991,27.57,30.99,173.479996,32.91,318.51001,23.83,360.75,350.609985,240.009995,169.660004,29.4,283.76001,27.74,19.1,198.509995,20.639999,348.160004,260.940002,208.720001,28.52,335.119995,345.890015,256.76001,224.520004,21.77,206.660004,334.850006,33.349998,248.440002,205.979996,27.66,305.519989,34.939999,240.059998,301.149994,19.84,335.48999,107.360001,347.359985,28.530001,313.059998,224.610001,370.339996,198.690002,27.559999,344.529999,322.309998,218.550003,120.839996,218.960007,316.829987,33.75,207.279999,337.019989,332.970001,172.600006,196.399994,33.639999,210.089996,37.740002,345.25,29.799999,181.5,224.820007,26.219999,143.240005,223.539993,327.779999,346.049988,21.98,28.49,248.429993,230.429993,31.309999,27.940001,206.179993,20.41,27.73,34.98,323.100006,239.059998,144.699997,30.190001,137.949997,266.149994,39.119999,33.59,31.15,248.169998,244.729996,35.32,203.699997,261.890015,26.49,29.07,220.970001,27.120001,188.639999,226.029999,30.309999,35.16,325.839996,218.429993,261.950012,235.839996,216.5,212.800003,30.389999,291.970001,97.730003,217.869995,38.27,356.910004,166.770004,333.690002,26.5,230.970001,265.170013,33.779999,27.889999,200.309998,27.57,198.089996,32.540001,228.949997,247.710007,34.740002,29.49,193.070007,261.380005,346.170013,209.970001,259.149994,151.160004,207.830002,31.700001,259.279999,257.920013,214.0,143.550003,319.769989,199.100006,147.529999,366.600006,84.839996,119.029999,188.020004,199.850006,122.269997,30.66,291.820007,38.470001,31.290001,120.089996,20.43,37.509998,260.720001,221.070007,190.880005,219.699997,216.610001,33.220001,256.880005,317.290009,33.790001,348.170013,23.889999,36.650002,199.970001,126.940002,28.049999,217.020004,246.210007,210.619995,162.600006,230.029999,244.740005,174.729996,28.700001,185.020004,202.600006,29.370001,29.6,26.1,31.07,315.549988,348.420013,215.259995,222.600006,139.360001,41.369999,37.860001,183.070007,29.4,362.220001,26.379999,51.200001,28.530001,94.470001,21.83,215.470001,25.77,28.110001,34.959999,316.809998,196.559998,28.690001,26.6,195.649994,29.57,262.070007,32.27,338.869995,220.960007,309.160004,354.309998,34.610001,27.879999,30.4,344.429993,33.07,355.399994,302.769989,230.259995,204.660004,218.25,208.169998,212.960007,322.470001,35.080002,303.769989,302.51001,20.540001,248.479996,215.649994,196.089996,190.619995,352.769989,22.959999,311.299988,28.030001,35.470001,28.32,315.049988,199.110001,259.320007,29.5,349.929993,275.01001,291.51001,27.42,34.869999,224.649994,210.240005,218.869995,220.399994,327.220001,27.540001,191.070007,28.809999,308.850006,28.0,219.440002,320.079987,325.890015,204.880005,313.579987,357.420013,178.699997,22.620001,32.959999,147.940002,36.990002,302.26001,337.640015,153.479996,30.059999,20.23,37.529999,28.4,219.990005,198.550003,24.389999,229.360001,28.17,343.75,306.850006,25.799999,242.770004,23.25,229.589996,287.589996,167.009995,222.410004,35.150002,231.770004,256.290009,182.259995,355.01001,152.460007,210.089996,36.110001,19.59,170.009995,24.629999,20.35,355.329987,20.99,33.169998,300.25,262.01001,203.339996,251.820007,34.220001,301.970001,198.119995,344.779999,212.009995,27.200001,226.75,166.580002,35.0,325.200012,289.660004,32.130001,264.820007,326.630005,26.5,215.149994,301.059998,302.779999,34.57,302.98999,28.92,211.410004,345.0,200.089996,372.23999,37.950001,230.470001,324.809998,213.699997,268.790009,333.970001,206.929993,346.0,34.43,259.959991,217.75,33.82,198.300003,89.940002,289.459991,229.009995,193.559998,328.399994,34.169998,342.769989,305.720001,337.890015,202.729996,300.359985,217.649994,241.490005,20.709999,333.299988,121.379997,33.400002,219.070007,209.779999,275.429993,251.860001,229.300003,155.169998,348.049988,362.75,188.770004,25.75,182.839996,28.889999,298.519989,196.380005,256.910004,352.790009,34.48,231.669998,328.910004,21.25,319.570007,105.720001,92.730003,27.120001,23.629999,188.070007,53.279999,202.240005,33.779999,251.210007,28.200001,308.829987,19.940001,259.790009,337.339996,23.610001,279.76001,33.77,54.549999,175.229996,28.25,298.920013,138.949997,335.350006,242.509995,36.98,223.410004,35.150002,209.410004,203.600006,248.289993,188.660004,26.74,222.229996,321.26001,215.399994,355.899994,334.799988,281.829987,335.100006,253.570007,249.990005,200.699997,359.649994,177.110001,31.15,36.619999,257.769989,202.339996,166.970001,345.820007,95.370003,117.18,223.509995,204.639999,28.52,192.179993,248.75,36.580002,31.610001,205.199997,290.23999,255.729996,31.83,205.220001,166.369995,350.98999,251.080002,227.789993,231.610001,125.610001,150.470001,147.860001,36.0,350.600006,259.98999,32.150002,188.559998,328.980011,216.5,182.779999,144.899994,296.839996,193.210007,28.76,332.100006,206.270004,204.110001,284.540009,188.339996,29.120001,284.140015,207.860001,28.950001,30.129999,28.0,185.0,317.25,38.16,333.630005,129.389999,250.800003,263.23999,259.940002,25.030001,20.75,17.6,27.709999,25.959999,169.0,20.540001,229.949997,291.720001,298.769989,349.529999,28.129999,235.520004,344.279999,282.109985,200.770004,33.439999,123.449997,207.449997,23.610001,207.699997,32.700001,240.240005,170.970001,94.839996,27.799999,212.229996,29.25,29.48,204.380005,33.130001,26.01,38.450001,256.779999,201.039993,210.190002,28.290001,217.910004,205.179993,253.190002,317.220001,24.709999,196.410004,311.019989,207.729996,30.41,276.820007,257.700012,308.700012,34.25,34.34,199.369995,248.089996,155.5,27.67,200.630005,24.49,29.360001,207.669998,28.959999,313.559998,337.950012,29.18,228.919998,180.949997,31.49,181.449997,260.309998,232.339996,31.049999,28.77,200.240005,20.950001,350.019989,281.100006,253.880005,212.960007,26.809999,238.089996,280.950012,193.149994,207.190002,21.290001,28.33,211.279999,243.149994,213.029999,231.100006,31.1,347.089996,150.429993,23.92,31.559999,28.639999,379.809998,27.530001,30.139999,348.140015,217.479996,283.459991,235.240005,30.08,209.970001,239.490005,34.349998,25.52,303.200012,291.209991,238.100006,45.450001,32.459999,312.5,26.389999,193.369995,273.51001,34.099998,262.079987,217.110001,261.380005,26.1,249.970001,299.019989,202.440002,29.67,230.970001,249.240005,326.089996,379.570007,246.149994,29.219999,19.75,27.639999,208.880005,265.410004,222.490005,266.769989,253.75,262.019989,338.690002,141.600006,233.979996,235.580002,342.950012,91.5,33.639999,295.200012,37.240002,223.429993,210.949997,305.640015,29.870001,243.690002,28.040001,339.600006,142.190002,87.239998,175.330002,254.960007,18.790001,165.539993,252.229996,26.76,307.190002,248.710007,37.330002,252.940002,33.610001,319.5,223.039993,92.25,166.229996,28.57,32.459999,30.66,239.880005,294.089996,24.59,237.369995,196.570007,294.709991,263.820007,382.609985,227.119995,222.619995,32.459999,87.589996,39.240002,283.369995,326.170013,306.109985,31.360001,352.049988,214.929993,36.009998,23.73,355.570007,250.410004,344.0,21.870001,300.339996,33.93,23.940001,236.910004,216.220001,41.860001,28.49,341.350006,34.380001,24.1,32.049999,308.350006,34.189999,371.399994,341.01001,226.720001,228.889999,22.84,26.99,97.349998,27.34,208.449997,37.400002,34.619999,316.089996,26.25,217.699997,109.050003,291.230011,212.279999,28.17,254.779999,32.580002,28.280001,321.899994,30.73,27.120001,231.630005,30.25,31.959999,207.320007,28.41,28.940001,182.800003,19.9,228.490005,302.540009,23.08,288.959991,336.410004,239.720001,375.100006,27.07,241.800003,21.0,263.910004,351.920013,147.649994,229.509995,263.160004,24.120001,37.689999,30.01,27.24,276.23999,250.020004,124.07,311.640015,276.540009,166.449997,217.360001,237.75,211.529999,144.679993,28.15,207.889999,255.710007,198.149994,218.580002,54.110001,230.259995,323.850006,139.339996,351.559998,283.359985,314.859985,117.82,23.07,179.720001,270.220001,365.220001,127.260002,28.35,208.960007,339.029999,31.84,25.059999,38.130001,349.25,225.330002,199.559998,348.440002,199.630005,33.59,347.26001,199.630005,171.539993,25.629999,244.350006,29.43,181.880005,232.740005,352.929993,22.530001,252.479996,23.82,30.889999,27.42,22.969999,22.959999,330.899994,21.4,246.720001,29.58,337.320007,311.23999,315.130005,162.860001,355.589996,29.299999,203.520004,258.779999,33.220001,243.759995,34.650002,24.02,35.290001,151.410004,320.230011,30.82,331.100006,45.59,190.570007,31.93,189.699997,250.479996,313.790009,20.75,334.769989,294.790009,230.289993,172.929993,231.429993,24.66,32.470001,300.079987,196.610001,28.82,204.470001,310.829987,25.139999,186.800003,30.059999,238.660004,286.040009,228.279999,34.57,246.949997,260.619995,285.359985,260.619995,376.399994,24.93,300.839996,27.25,27.27,24.74,204.350006,115.239998,307.019989,102.400002,278.299988,210.940002,27.42,351.399994,38.419998,24.08,19.15,34.52,246.600006,27.9,250.559998,345.51001,26.190001,145.429993,137.600006,34.279999,26.01,288.5,33.939999,262.049988,33.599998,26.83,242.679993,35.189999,31.41,277.450012,229.589996,226.050003,212.369995,232.360001,341.399994,246.130005,230.770004,310.220001,214.360001,254.529999,355.170013,320.869995,313.220001,43.75,366.76001,247.429993,41.099998,235.600006,20.450001,325.220001,27.450001,359.649994,355.48999,196.509995,21.26,121.580002,20.77,151.119995,276.589996,31.790001,298.329987,240.759995,359.700012,310.350006,149.360001,355.679993,307.880005,20.85,20.1,202.880005,350.51001,334.959991,231.639999,260.950012,27.969999,226.25,24.24,29.84,308.73999,27.969999,29.16,29.809999,207.190002,202.210007,29.35,269.200012,341.059998,168.940002,23.209999,218.360001,159.220001,205.289993,190.320007,277.850006,29.389999,322.820007,225.610001,305.01001,103.389999,26.620001,238.320007,294.079987,208.789993,245.259995,31.49,164.470001,20.450001,17.049999,29.33,192.429993,249.059998,193.0,31.84,28.23,211.559998,28.73,303.700012,361.609985,358.170013,34.080002,279.200012,268.950012,276.589996,295.390015,145.720001,219.25,197.779999,29.950001,232.320007,180.979996,205.820007,285.480011,28.43,263.859985,252.660004,191.559998,29.51,186.529999,185.350006,366.480011,35.290001,362.910004,33.299999,356.880005,254.339996,343.059998,21.950001,184.520004,219.080002,169.929993,297.429993,204.720001,251.929993,32.66,31.610001,310.420013,19.700001,299.299988,252.389999,208.289993,300.929993,204.25,219.580002,32.27,323.660004,27.379999,29.129999,288.950012,370.0,224.910004,272.230011,31.51,316.709991,35.0,34.040001,190.339996,28.059999,335.070007,27.209999,24.49,343.850006,207.300003,147.470001,212.940002,210.240005,314.070007,250.029999,28.25,31.02,26.35,312.600006,25.85,197.360001,247.740005,264.769989,34.77,23.25,227.820007,262.160004,35.950001,299.920013,269.149994,166.220001,20.299999,251.470001,205.809998,28.41,223.570007,43.93,215.940002,32.560001,303.149994,199.970001,30.799999,37.040001,328.23999,345.100006,161.270004,230.009995,26.93,317.549988,21.049999,31.940001,338.529999,250.380005,190.059998,23.18,216.970001,312.209991,230.570007,285.5,229.770004,245.619995,31.75,257.200012,29.940001,344.570007,23.459999,104.949997,27.08,328.200012,234.789993,20.23,238.520004,34.330002,21.84,252.539993,198.699997,20.459999,31.49,331.660004,33.09,315.399994,204.190002,32.25,342.0,50.189999,218.130005,39.279999,207.520004,240.199997,340.059998,27.75,21.950001,247.820007,211.169998,174.419998,23.040001,219.460007,29.48,341.839996,221.929993,227.479996,200.100006,21.98,177.919998,201.619995,226.990005,309.100006,33.689999,181.110001,26.6,20.549999,220.690002,183.940002,310.170013,207.990005,316.579987,294.079987,23.07,126.089996,31.34,44.34,353.470001,229.699997,20.17,311.859985,142.0,53.990002,184.669998,263.820007,27.91,284.959991,28.57,166.059998,317.660004,318.869995,200.949997,280.600006,20.43,225.119995,359.01001,32.25,277.380005,263.140015,31.66,350.480011,218.259995,254.839996,38.299999,267.200012,210.899994,138.699997,21.41,29.110001,219.610001,26.77,204.699997,28.6,204.009995,308.769989,301.440002,220.539993,280.019989,24.98,225.259995,385.0,341.029999,248.479996,213.690002,286.480011,32.189999,33.810001,258.0,315.359985,223.229996,201.350006,134.229996,213.789993,24.65,31.540001,251.410004,191.929993,253.740005,34.400002,210.910004,183.399994,195.300003,226.720001,230.009995,296.380005,25.27,340.369995,318.890015,267.869995,218.789993,227.75,338.730011,266.130005,28.620001,230.610001,34.59,329.519989,18.32,271.779999,30.799999,229.429993,317.01001,104.629997,240.039993,280.980011,204.029999,223.710007,19.559999,335.450012,31.379999,207.5,220.009995,222.929993,37.889999],\"type\":\"scatter\"},{\"mode\":\"lines\",\"name\":\"Predicted\",\"x\":[284,1109,1540,1994,1755,1356,275,1708,123,822,1948,526,415,2117,2144,1113,845,986,1401,2004,53,183,55,717,1305,1615,1527,293,280,1145,1614,698,1455,171,791,1186,1873,1027,921,1459,344,1222,1393,119,448,555,1227,1476,363,2026,422,706,3,932,148,1841,588,1685,2022,2013,115,1449,1590,1785,940,1980,546,1547,1635,1991,2093,844,1032,1067,124,269,1377,186,1996,1322,76,1954,1219,551,604,1168,1170,989,613,1874,1306,1165,614,746,1983,955,1538,1559,278,1447,1760,46,959,1380,1493,700,1854,1376,1397,990,1950,1989,1823,665,2075,618,136,767,1238,96,1379,1827,441,1048,1475,2119,1167,1450,1772,2033,1187,90,147,1230,1308,2167,4,288,195,818,13,336,1018,1286,1443,1856,615,49,509,510,681,1969,1964,1147,1233,1250,862,1520,748,1327,1893,1446,1011,249,187,906,204,1653,1683,1272,1078,609,1347,9,671,813,1779,440,1751,1850,1451,462,1046,669,251,1545,175,512,1484,1694,1416,1941,1656,1705,1731,1220,1060,2158,1871,387,1050,2061,292,784,697,1100,1972,779,307,2130,1535,2019,632,1911,325,920,708,73,125,1813,1662,1487,705,1303,1061,1184,2170,2045,1864,1949,745,1518,1570,2053,2153,137,151,306,1719,369,1236,2181,893,319,1128,534,1820,57,1792,1766,1558,140,673,382,1815,1454,320,634,1131,1777,1700,831,916,900,1799,888,876,44,1835,2049,457,2059,150,1368,414,1753,2160,375,101,1409,460,2020,1,1763,1811,1387,838,538,1992,584,37,963,12,2106,1317,1433,550,1932,1906,1042,1372,89,1141,2099,517,1112,1152,210,1713,351,1007,1974,10,1923,755,1805,370,1734,997,2042,1628,477,1810,1921,1158,859,1492,1739,418,969,1843,2134,834,1507,637,1137,654,1824,571,898,1026,138,877,1024,1773,2152,54,568,1321,1221,596,327,1396,65,127,434,1729,1006,864,469,848,1281,679,628,404,1307,1652,433,915,1251,197,401,1130,384,817,1218,111,666,1845,1213,2083,936,1513,1163,559,1982,743,1499,662,1788,1419,1896,128,1097,1255,464,266,1395,331,954,560,1384,1468,428,99,1146,1062,1926,1394,1266,846,1206,121,1077,1265,1357,878,2136,1588,889,2129,724,768,1599,962,762,508,1995,677,506,759,70,652,1293,1358,1180,1504,968,630,2086,1887,501,2039,0,674,1400,861,328,1374,928,1140,1411,1537,1225,825,268,1611,1432,339,118,286,598,1866,2132,1341,1129,787,696,689,824,573,2008,313,711,117,742,165,1503,309,252,435,1867,910,267,391,1188,400,1314,519,1882,1551,2018,2113,624,487,507,2151,427,1808,1977,1445,1481,1362,991,941,2021,684,2172,1714,74,1309,1391,978,975,1801,291,1860,333,104,578,1862,956,1036,485,2014,1988,2157,587,364,1519,985,1297,1522,1770,567,1183,259,1870,271,1211,1848,1786,981,2029,1928,828,142,471,873,647,2154,1907,783,473,77,688,577,1552,1509,318,1497,274,1913,1979,308,1091,158,1647,2156,796,1135,683,1349,1243,972,1830,874,1202,667,27,895,93,21,1831,67,411,1712,1040,1174,1465,416,1978,957,2003,1555,277,1642,809,432,1886,1957,606,1278,1940,244,1436,1981,1853,103,1857,592,1578,1916,1591,1756,650,1085,1730,1577,1256,1915,1345,2118,625,1037,1361,611,1562,727,2067,1643,1403,1778,616,2002,1955,1880,1631,2143,919,931,50,1925,858,102,1012,1204,2192,1458,1116,1417,1803,1814,1196,205,903,574,1702,1402,1320,1905,447,998,1877,88,1774,753,730,216,152,1404,714,1594,499,1682,225,1767,22,1253,1844,302,1670,424,716,902,335,2155,865,2146,1290,648,1388,436,1210,1155,1463,1610,206,1134,1727,1019,1807,1897,2082,1741,1312,1678,1575,1840,905,594,687,1663,1593,803,1910,738,756,1546,1568,233,1625,1229,444,599,1154,1966,1689,467,1569,805,1929,1101,1000,1364,763,1415,792,646,1838,1282,518,1606,1884,1352,1408,790,1709,1602,234,2001,1574,1171,1985,1428,492,2187,961,523,235,372,1194,1892,690,2010,774,1237,2063,1041,203,75,31,383,223,799,48,1381,1993,2178,1909,524,1496,2102,1055,1556,451,761,1571,167,1633,514,1072,894,737,556,948,591,230,958,463,310,661,1045,1430,1511,253,1486,1434,1311,2166,295,1564,1723,966,368,1986,1106,1859,515,635,1153,1111,880,220,1178,155,94,1201,257,1943,1898,475,1028,821,110,1607,1038,1495,562,478,1585,18,1903,1057,1460,1343,392,1386,2062,1508,1355,17,218,1138,1291,1337,1087,409,1787,883,189,112,262,1817,247,232,1829,1161,1968,1089,491,917,1224,108,314,2030,1962,1092,704,449,1861,207,819,1674,642,1665,1169,1039,529,1462,2071,1177,98,933,1660,2138,2041,1326,489,41,272,1122,1276,1023,1273,1464,1258,2047,868,934,1649,2015,726,348,2068,443,1389,1139,2174,338,1686,583,1826,869,729,1410,1264,36,808,2087,393,1726,1108,442,927,620,1998,1489,725,810,476,342,565,1324,1976,316,1288,1148,2177,1063,1758,999,1550,466,728,658,1967,1846,1733,120,1927,1474,686,294,1837,1066,2111,164,1961,350,169,1079,1485,699,270,1800,668,149,114,1725,365,1754,1742,1329,938,160,323,739,332,944,439,612,1999,528,1501,766,2176,1512,261,1695,408,557,2051,544,238,1348,403,504,942,549,398,832,40,1530,1706,159,2190,1895,1008,1819,219,1470,84,2092,1797,872,1529,1696,317,675,540,196,2185,1679,773,1888,2184,797,1160,1648,1473,780,486,965,1043,1627,1375,715,1365,2027,891,1904,2189,2097,757,299,829,1697,1790,765,260,1477,1879,345,281,655,1912,1351,1176,2112,913,452,2149,1190,835,312,1231,474,1619,1440,1802,166,1952,282,366,527,303,182,2098,63,1110,402,2101,1875,1876,839,1834,572,995,2088,349,1651,672,170,682,879,2028,601,1883,703,1195,407,1405,1680,1717,80,1924,2182,946,827,1115,174,605,1965,1581,582,994,1735,201,1621,470,1093,1053,1117,617,1068,1315,2183,1075,1757,200,2037,386,530,297,1166,758,2162,752,1701,1156,329,2107,659,305,34,644,1069,377,2084,1938,315,786,852,627,246,2096,465,1690,412,132,1071,645,505,1698,1001,1217,943,1350,2104,1285,1296,1738,1119,1457,1789,1847,1768,701,2128,1235,694,1005,26,1728,212,1747,2044,1586,25,854,58,881,2186,520,2072,1469,2124,1736,887,1836,2173,82,61,1164,2108,2145,1114,2094,226,1523,279,522,1863,397,570,482,1173,1142,554,1666,2105,800,156,1157,841,1431,1181,1990,495,2054,1542,2057,747,130,1441,1960,1632,1070,410,840,45,8,399,1626,1302,820,497,388,983,380,1703,1764,2005,438,1059,1671,2090,2137,890,1332,1557,543,1471,823,1126,1970,241,1049,926,977,541,909,1605,1821,431,1796,362,1832,1044,1930,290,1612,1353,802,2031,1398,1659,455,503,1918,42,1956,1034,1480,1959,1143,1017,607,1920,589,254,2060,1748,1541,1672,513,2023,446,423,1425,581,1783,248,144,1781,982,871,1354,984,1720,1065,389,480,224,1865,311,1560,1107,2078,633,178,1132,1267,685,1973,1260,811,14,1467,1573,548,1025,692,1516,358,2058,1596,97,663,1775,1842,892,1533,208,1868,47,458,2147,1248,1604,163,945,2163,1383,2064,1448,1232,359,1453,535,1902,153,734,209,1934,1532,56,1031,106,86,922,1399,69,511,1885,450,1858,952,472,2012,707,1015,664,949,1099,1900,191,24,1456,1482,907,143,1014,558,1939,1438,1084,1583,64,812,1149,1641,1946,610,814,222,19,1330,830,1718,960,1894,1971,154,855,561,693,2114,1382,51,2056,789,713,973,1279,488,2070,378,798,2000,2024,1582,1668,71,1488,1750,453,1699,1269,357,2122,1127,925,653,1275,1203,851,87,542,1505,395,987,242,1595,2161,1711,1021,1261,92,1524,1818,1878,1301,1639,1984,500,420,1688,1889,1490,970,782,1346,199,595,1246,1426,1466,437,967,833,979,1371,1528,2159,198,1743,1722,1274,1498,1444,2110,1951,371,1531,623,1771,32,2091,479,1009,1732,733,935,1669,1576,1118,60,2048,600,1435,1360,1548,660],\"y\":[37.27122776272963,177.9314957011992,251.4158296181451,328.82160130792107,288.0727479293826,220.0443274355046,35.73675211249178,280.05937508925166,9.821163352919204,128.99877218805887,320.978725762261,78.5315730246807,59.60637333841389,349.79276852783835,354.39619547855193,178.61348487908268,132.92020996088894,156.96032848128192,227.71670568669387,330.5265742526298,-2.1136472600418497,20.051001021171537,-1.772652671100106,111.09655626861729,211.34896541749015,264.2031267034605,249.19936479002376,38.805703412967475,36.589238584846136,184.06939830215057,264.03262940898964,107.85710767367071,236.92355958812098,18.005033487521068,123.71335605946183,191.05978737545635,308.1914286769455,163.95071755458767,145.8780043406752,237.60554876600446,47.50106543098196,197.19768997640776,226.35272733092688,9.139174175035716,65.23278405595266,83.47599456433599,198.0501764487621,240.50400277200927,50.74051402592853,334.27751473098897,60.799854399709986,109.2210860294377,-10.63851198358546,147.7534745798548,14.083595714691008,302.7355152538776,89.10240528187478,276.1379373164216,333.5955255531055,332.06104990286764,8.457184997152225,235.90057582129575,259.9406943416887,293.1876667635088,149.1174529356218,326.4346391853289,81.94151891409814,252.6093106794412,267.613072592878,328.3101094245085,345.7008334605374,132.74971266641805,164.80320402694204,170.77060933342256,9.991660647390077,34.713768345666544,223.62477061939293,20.56249290458415,329.16259589686285,214.24741942349496,1.8077905127882108,322.0017095290862,196.68619809299514,82.7940053864525,91.83036199340873,187.99083607498065,188.3318306639224,157.47182036469454,93.36483764364658,308.36192597141644,211.519462711961,187.47934419156803,93.53533493811746,116.04097780827259,326.94613106874147,151.67491235268486,251.07483502920337,254.65527821309166,36.248243995904396,235.559581232354,288.925234401737,-3.307128321337956,152.35690153056836,224.13626250280555,243.4024567780141,108.19810226261247,304.95198008199895,223.45427332492207,227.0347165088104,157.6423176591654,321.3197203512027,327.9691148355667,299.6665639534019,102.23069695613194,342.6318821600617,94.21732411600094,12.037628181040542,119.62142099216089,199.9256466879417,5.217736402205652,223.9657652083347,300.3485531312854,64.03930299465657,167.531160738476,240.3335054775384,350.13376311678013,187.8203387805098,236.0710731157666,290.97120193538746,335.4709957922851,191.23028466992722,4.194752635380421,13.913098420220138,198.56166833217472,211.86045730090277,358.31763325138195,-10.468014689114588,37.95321694061312,22.096968554822,128.31678301017539,-8.933539038876738,46.13708707521498,162.41624190434982,208.10951682254355,234.8775920544705,305.29297467094074,93.70583223258832,-2.7956364379253387,75.63311901867587,75.80361631314675,104.95865366766589,324.55916894614927,323.7066824737949,184.41039289109233,199.07316021558734,201.97161422159218,135.81866396689375,248.00588372872767,116.38197239721433,215.09990589584933,311.601374566363,235.38908393788313,161.22276084305372,31.3038224562491,20.732990199055024,143.32054492361215,23.63144420505985,270.6820238933537,275.7969427274798,205.72255469995136,172.64607957260216,92.68284846576309,218.50985178526676,-9.615528216760227,103.25368072295717,127.46429653782101,292.16468299668355,63.86880570018569,287.39075875149916,304.2699909041155,236.24157041023747,67.61974617854487,167.19016614953424,102.91268613401542,31.64481704519084,252.26831609049947,18.68702266540456,76.14461090208849,241.86798112777626,277.6724129666594,230.27416510375696,319.7852447009649,271.1935157767663,279.547883205839,283.9808128620817,196.856695387466,169.57712827212646,356.7831576011441,307.8504340880038,54.83244909322946,167.87215532741772,340.2449200374695,38.635206118496605,122.51987499816573,107.68661037919985,176.39702005096134,325.0706608295619,121.66738852581136,41.19266553555969,352.0092333559597,250.56334314579072,333.0840336696929,96.60428623859315,314.6703258668387,44.26161683603539,145.70750704620434,109.56208061837944,1.2962986293755936,10.162157941860947,297.96159100869323,272.2164995435915,242.37947301118888,109.05058873496682,211.0079708285484,169.74762556659732,190.7187927865146,358.8291251347946,337.5169633259356,306.6569530267077,321.14922305673184,115.87048051380171,247.66488913978594,256.53074845227127,338.88094168170255,355.93067112878975,12.208125475511412,14.595087598103625,41.02216824108881,281.9348453284312,51.76349779275376,199.58465209899995,360.7045953739742,141.1040800954908,43.23863306921015,181.17094429614576,79.89555138044767,299.15507206998933,-1.4316580821583624,294.3811478248049,289.9482181685622,254.4847809186208,12.71961735892403,103.59467531189891,53.9799626208751,298.30258559763496,236.7530622936501,43.40913036368103,96.9452808275349,181.68243617955838,291.8236884077418,278.69539673348464,130.53324783829672,145.02551786832086,142.2975611567869,295.574628886101,140.25159362313644,138.20562608948597,-3.6481229102797004,301.7125314870524,338.19895250381904,66.76725970619052,339.9039254485278,14.424590303632751,222.09029496915508,59.43587604394301,287.7317533404409,357.12415219008585,52.786481559578995,6.070222874560017,229.08068404246086,67.27875158960313,333.25453096416373,-10.979506572527205,289.43672628514963,297.62059641975145,225.32974356410165,131.7267288995928,80.57754055833117,328.48060671897935,88.42041610399129,-4.841603971575806,153.03889070845185,-9.104036333347612,347.91729828865874,213.39493295114062,233.17261910976177,82.62350809198163,318.250769050727,313.81783939448434,166.50817697165076,222.7722841470386,4.024255340909548,183.3874091242671,346.72381722736264,76.99709737444284,178.4429875846118,185.2628793634467,24.654427971885085,280.911861561606,48.694546492278064,160.5407716651702,325.41165541850364,-9.445030922289355,316.7162934004892,117.57545345851042,296.5976126529262,51.93399508722464,284.4923047454943,158.8357987204615,337.00547144252295,266.4195915315819,70.17720559560796,297.4500991252806,316.3752988115474,186.28586313027193,135.30717208348113,243.23195948354325,285.3447912178487,60.117865221826506,154.06187447527708,303.0765098428194,352.6912225338432,131.04473972170933,245.78941890060634,97.45677271094752,182.7054199463836,100.35522671695234,299.8370612478728,86.20395127586994,141.95656656784516,163.7802202601168,12.378622769982286,138.37612338395684,163.43922567117505,291.1416992298583,355.7601738343189,-1.9431499655709779,85.69245939245734,214.0769221290241,197.02719268193687,90.46638363764175,44.602611424977134,226.8642192143395,-0.06767972639138442,10.50315253080269,62.845821933360455,283.63981827313995,160.37027437069935,136.1596585558355,68.81322723984098,133.43170184430156,207.2570303501892,104.61765907872415,95.92229706070967,57.7309030992343,211.68996000643187,270.51152659888277,62.67532463888958,144.85502057384997,202.14211151606304,22.437963143763746,57.21941121582168,181.51193888508752,54.32095720981684,128.1462857157045,196.51570079852425,7.775195819268738,102.4011942506028,303.41750443176113,195.6632143261699,343.9958605158287,148.4354637577383,246.81240266743157,187.13834960262628,84.15798374221949,326.7756337742706,115.52948592485997,244.42544054483935,101.71920507271932,293.69915864692143,230.78565698716957,312.1128664497756,10.673649825273564,175.88552816754873,202.82410069394652,67.96074076748663,34.20227646225393,226.69372191986864,45.28460060286062,151.504415058214,84.32848103669035,224.81825168068903,239.1400244162423,61.82283816653522,5.7292282856182695,184.23989559662147,169.91812286106818,317.22778528390177,226.52322462539777,204.69957093312613,133.0907072553598,194.46973326487378,9.48016876397746,172.47558227813127,204.52907363865526,220.2148247299755,138.5466206784277,353.0322171227849,259.599699752747,140.4220909176073,351.8387360614888,112.29003732991339,119.79191828663176,261.4751699919266,152.86839341398098,118.76893451980655,75.462621724205,328.99209860239193,104.2766644897824,75.12162713526325,118.25744263639393,0.7848067459629764,100.01423212801059,209.30299788383968,220.38532202444637,190.03680360863112,245.2779270171937,153.89137718080622,96.2632916496514,344.5073523992413,310.5783907995378,74.2691406629089,336.49397955911036,-11.150003866998077,103.76517260636979,227.546208392223,135.6481666724229,44.773108719448004,223.11327873598032,147.07148540197133,183.21691182979623,229.42167863140259,250.9043377347325,197.70918185982038,129.51026407147148,34.543271051195674,263.52113752557705,233.0021218152909,46.648578958627596,8.968676880564843,37.61222235167137,90.8073782265835,306.9979476156494,352.35022794490146,217.48686801844153,181.34144159061663,123.03136688157835,107.51611308472897,106.32263202343286,129.33976677700062,86.5449458648117,331.20856343051327,42.21564930238492,110.07357250179206,8.798179586093969,115.35898863038909,16.982049720695837,245.10742972272283,41.53366012450143,31.815314339661718,63.01631922783133,307.1684449101203,144.00253410149563,34.3727737567248,55.51443827111295,191.40078196439808,57.0489139213508,212.883441067728,77.3380919633846,309.7259043271834,253.2912998573247,332.913536375222,349.1107793499549,95.24030788282617,71.88217854031669,75.29212442973413,355.589676539848,61.65234087206436,297.10910453633886,325.92314730191623,235.21858664341224,241.35648924436364,221.06731120232985,157.81281495363626,149.28795023009266,333.42502825863465,105.4701455510785,359.1701197237363,281.0823588560769,1.4667959238464654,212.03095459537363,226.01173274198516,155.59635012551493,155.0848582421023,295.91562347504276,38.464708824025735,305.9749638488242,45.62559519180236,6.58171475797263,87.39743233716605,306.31595843776597,151.84540964715575,165.48519320482552,71.54118395137493,332.2315471973385,327.79861754109584,356.61266030667326,88.9319079874039,50.9110113203994,247.8353864342568,156.78983118681103,209.98498706172316,248.3468783176694,290.63020734644573,85.52196209798646,190.54829549204374,33.00879540095782,307.67993679353293,35.05476293460829,195.32221973722815,303.9289963151737,293.35816405797965,156.10784200892755,334.7890066144016,317.5687798728435,130.0217559548841,13.060611947865777,69.15422182878272,137.69413420607336,99.16174565565623,356.1011684232606,313.9883366889552,122.34937770369484,69.49521641772448,1.9782878072590826,106.152134728962,87.22693504269517,253.46179715179557,246.13041348954806,43.06813577473928,244.0844459558976,35.5662548180209,315.01132045578044,326.264141890858,41.36316283003056,174.8625444007235,15.78856865939973,269.65904012652845,356.4421630122024,124.5658425318162,182.36442535744186,105.29964825660764,218.85084637420852,200.77813316029605,154.5733663586897,300.860045014698,137.86463150054422,193.7877440869903,102.57169154507368,-6.546576916284527,141.44507468443254,4.706244518793037,-7.569560683109761,301.03054230916894,0.27331486255036097,58.924384160530394,280.7413642671351,166.167182382709,189.01381984180588,238.6285325328297,59.77687063288475,326.09364459638715,152.0159069416266,330.35607695815895,253.9732890352082,36.07774670143352,268.8065536541741,126.78230735993753,62.504827344418715,310.4078935050669,322.5132014124988,92.17135658235047,206.7455384667766,319.61474740649396,30.451335983894737,233.6841109931744,326.60513647979974,304.7814827875281,6.41121746350176,305.4634719654116,89.78439445975826,257.89472680803823,315.522812339193,260.11119163615956,288.2432452238535,99.67323753906885,173.83956063389826,283.8103155676108,257.72422951356737,202.9945979884174,315.35231504472216,218.16885719632504,349.9632658223092,95.41080517729705,165.65569049929638,220.89681390785898,93.02384305470484,255.1667700965043,112.801529213326,341.26790380429475,268.97705094864494,228.05770027563563,291.9941857022127,93.8763295270592,330.18557966368803,322.1722068235571,309.3849097382417,266.9310834149945,354.225698184081,145.53700975173348,147.58297728538395,-2.625139143454467,317.0572879894309,135.13667478901027,6.240720169030887,161.39325813752458,194.12873867593206,362.58006561315375,237.4350514715336,179.1249767624953,230.44466239822782,296.2566180639845,298.1320883031641,192.76476032016507,23.80194149953072,142.80905304019953,86.71544315928256,279.0363913224264,227.88720298116473,213.90642483455323,313.6473421000135,65.0622867614818,159.0062960149324,308.87341785482903,3.853758046438676,291.3121965243292,117.2344588695687,113.31302109673862,25.67741173871032,14.765584892574498,228.2281975701065,110.58506438520467,260.6226835195722,73.92814607396716,275.62644543300894,27.21188738894817,290.1187154630331,-7.399063388638888,202.4831061050048,303.24700713729027,40.340179063205326,273.58047789935847,61.14084898865174,110.92605897414641,142.63855574572864,45.96658978074411,356.2716657177315,136.33015585030637,354.73719006749366,208.79150600042706,99.33224295012711,225.50024085857254,63.186816522302195,195.1517224427573,185.77437124685932,238.28753794388794,263.3506402311062,23.972438794001597,182.193928062971,283.2988236841982,162.58673919882068,296.938607241868,312.28336374424646,343.82536322135786,285.6857858067904,212.54244647878625,274.9444562551255,257.38323492462564,302.56501795940676,143.15004762914126,90.1253890487,105.98163743449112,272.3869968380624,260.45218622510134,125.7593235931123,314.4998285723678,114.6769994525056,117.74595075298132,252.43881338497033,256.18975386332954,28.575865744715145,265.90809964816924,198.39117103770386,64.55079487806918,90.97787552105437,185.60387395238843,324.0476770627367,276.81992649430504,68.47223265089924,256.3602511578004,126.10031818205405,317.7392771673144,176.5675173454322,159.34729060387411,221.4083057912716,118.93943181427741,230.1036678092861,123.8838533539327,98.99124836118536,302.22402337046503,207.42752764466007,77.16759466891372,262.6686510532227,310.0668989161251,219.36233825762113,228.91018674798997,123.54285876499097,280.2298723837225,261.98666187533917,28.746363039186015,330.01508236921717,257.2127376301548,188.50232795839327,327.28712565768325,232.32013263740743,72.73466501267104,361.72757914079943,152.6978961195101,78.02008114126808,28.916860333656892,52.27498967616638,192.4237657312233,311.43087727189214,106.49312931790374,331.54955801945505,120.81490205345699,199.75514939347082,340.58591462641124,166.3376796771799,23.46094691058898,1.6372932183173372,-5.864587738401038,54.15045991534598,26.870892800006423,125.07733441522882,-2.9661337323962123,224.3067597972764,328.6511040134502,360.19310349056155,314.3293312778969,78.19057843573896,243.91394866142673,347.2353091107753,168.7246417997721,254.14378632967907,65.74427593936528,118.59843722533566,256.70124574674213,17.32304430963758,267.2720780039362,76.48560549103023,171.62309580577693,141.27457738996168,114.50650215803473,83.64649185880687,150.48143129138876,89.6138971652874,28.064373861302528,152.18640423609747,67.79024347301575,41.7041574189723,101.54870777824844,167.01966885506337,232.66112722634915,246.4714080784898,31.985811634132588,242.20897571671802,233.34311640423266,212.37194918431538,358.1471359569111,39.14669800190922,255.50776468544603,282.6168345063147,153.55038259186446,51.59300049828289,327.4576229521541,177.42000381778658,305.8044665543533,76.6561027855011,97.11577812200576,185.43337665791756,178.27249029014092,138.88761526736945,26.359400916593806,189.69580901968936,15.277076775987112,4.876741813263909,193.61724679251944,32.667800812016075,320.1262392899066,312.4538610387174,69.83621100666622,164.12121484905853,128.828274893588,7.604698524797865,262.83914834769354,165.82618779376728,243.74345136695587,84.6694756256321,70.34770289007884,259.0882078693343,-8.081052566522377,313.3063475110717,169.06563638871384,237.77604606047532,217.82786260738328,55.68493556558383,225.15924626963078,340.4154173319404,245.9599161950772,219.87383014103375,-8.251549860993249,26.01840632765206,182.87591724085448,208.96200329489793,216.80487884055805,174.18055522284,58.583389571588654,293.5286613524505,139.39910715078207,21.07398478799677,7.945693113739608,33.52028728437044,298.6435801865767,30.962827867307354,28.405368450244275,300.68954772022715,186.79735501368455,324.3886716516784,174.52154981178174,72.56416771820017,145.19601516279172,197.53868456534948,7.263703935856121,42.386146596855795,334.9595039088725,323.3656878848532,175.03304169519436,108.88009144049595,65.40328135042354,306.1454611432951,24.142936088472467,128.48728030464625,274.262467077242,98.30925918330188,272.72799142700416,188.1613333694515,165.99668508823814,79.04306490809331,238.11704064941708,341.94989298217826,189.5253117252185,5.558730991147399,147.92397187432567,271.8755049546498,353.3732117117267,336.8349741480521,214.92940860137847,72.22317312925843,-4.159614793692317,35.22526022907916,180.14796052932053,206.40454387783484,163.2687283767042,205.89305199442222,238.45803523835883,203.33559257735914,337.8579579148773,136.841647733719,148.09446916879656,270.0000347154702,332.4020444918094,112.63103191885514,48.18305460886545,341.4384010987656,64.3802975835983,225.6707381530434,183.04641453532537,359.5111143126781,46.478081664156726,276.30843461089245,88.24991880952041,300.17805583681456,137.01214502818985,113.14252380226776,229.25118133693172,204.35857634418437,-5.0121012660466775,126.61181006546667,344.6778496937122,55.85543286005469,283.1283263897273,177.7609984067283,64.20980028912743,146.90098810750044,94.55831870494268,329.5035904858046,242.72046760013063,112.46053462438427,126.9528046544084,70.0067083011371,47.16007084204021,85.18096750904472,214.58841401243671,325.75265000744537,42.727141185797535,208.4505114114853,184.5808901855632,360.0226061960907,170.08862015553908,288.58423981279526,159.17679330940325,253.12080256285384,68.30173535642837,112.97202650779688,101.03721589483582,324.21817435720754,303.588001726232,284.32180745102346,9.309671469506586,317.39828257837263,240.16300818306755,105.81114014002026,38.97620070743835,302.05352607599417,170.6001120389517,348.7697847610131,16.811552426224964,323.1951905903823,48.524049197807194,17.664038898579324,172.81657686707302,242.03847842224712,108.02760496814159,34.884265640137414,295.7451261805719,102.74218883954455,14.254093009161881,8.286687702681352,282.95782909525644,51.08150861487027,287.90225063491175,285.8562831012613,215.44090048479106,148.77645834668004,16.129563248341476,43.92062224709364,114.84749674697647,45.45509789733149,149.79944211350528,63.69830840571481,93.1943403491757,329.67408778027544,78.87256761362244,244.7664351337811,119.45092369769003,359.85210890161983,246.6419053729607,33.34978998989957,277.84291026113027,58.41289227711778,83.81698915327773,338.53994709276077,81.6005243251564,29.42835221706951,218.68034907973765,57.56040580476342,74.78063254632151,149.45844752456352,82.45301079751076,56.70791933240906,130.70374513276758,-4.3301120881631885,249.7108566734364,279.7183805003099,15.959065953870603,362.239071024212,311.94236915530473,160.7112689596411,298.98457477551847,26.188903622122936,239.48101900518404,3.171768868555187,345.53033616606655,295.23363429715926,137.52363691160247,249.5403593789655,278.0134075556012,42.89763848026841,103.93566990084065,80.9185351472729,22.267465849292876,361.38658455185765,275.11495354959635,120.64440475898613,310.74888809400863,361.2160872573868,124.73633982628706,186.62685771921366,269.8295374209993,239.99251088859666,121.83788582028222,71.71168124584581,153.3798852973936,166.67867426612162,266.24909423711097,223.28377603045118,110.75556167967554,221.57880308574246,334.4480120254599,140.76308550654906,313.4768448055426,362.06857372974116,346.3828226384209,117.91644804745218,39.82868717979271,130.19225324935496,278.18390485007205,294.04015323586316,119.28042640321917,33.17929269542869,240.67450006648016,309.21441244377075,47.67156272545283,36.75973587931701,100.52572401142321,314.8408231613096,219.19184096315027,189.35481443074764,348.940282055484,144.51402598490824,65.91477323383616,355.24868195090625,191.74177655333983,131.2152370161802,42.04515200791405,198.7321656266456,69.66571371219534,264.885115881344,234.3661001710579,296.0861207695136,17.152547015166707,321.66071494014443,36.93023317378788,51.25200590934115,78.70207031915157,40.510676357676196,19.880503726700663,346.5533199328918,-0.40867431533312804,178.10199299567006,57.38990851029254,347.0648118163044,308.5324232658873,308.70292056035817,131.8972261940637,301.5420341925815,86.37444857034082,158.49480413151977,344.8483469881831,48.35355190333632,270.3410293044119,103.42417801742803,17.834536193050198,105.12915096213676,138.7171179728986,334.61850931993075,91.31887010999611,309.89640162165426,108.70959414602508,192.5942630256942,58.242394982646914,228.39869486457735,275.2854508440672,281.5938507394895,2.4897796906717,316.88679069496004,360.87509266844506,150.14043670244703,129.85125866041324,178.95447946802443,18.516525370933685,92.0008592878796,323.87717976826576,258.4062186914509,88.07942151504955,158.32430683704888,284.6628020399652,23.119952321647233,265.22611047028573,68.98372453431186,175.20353898966525,168.38364721083033,179.29547405696616,94.04682682153006,170.94110662789342,213.05393836219886,361.0455899629159,172.13458768918954,288.4137425183244,22.949455027176363,336.1529849701686,54.661951798758594,79.21356220256419,39.48769259085096,187.6498414860389,118.08694534192304,357.46514677902763,117.0639615750978,278.8658940279555,185.94486854133018,44.943606013918874,348.08779558312966,101.2077131893067,40.85167094661794,-5.353095854988422,98.65025377224362,171.1116039223643,53.12747614852074,344.1663578102996,319.27375281755224,42.556643891326665,122.86086958710746,134.11369102218504,95.75179976623879,30.792330572836484,346.21232534395006,68.13123806195749,276.99042378877596,59.09488145500127,11.355639003157052,171.45259851130604,98.8207510667145,74.95112984079238,278.3544021445429,159.51778789834498,196.3452035040534,149.62894481903442,219.02134366867938,347.576303699717,207.9390195280727,209.8144897672523,285.1742939233778,179.6364686459079,237.2645541770627,293.8696559413923,303.75849902070286,290.28921275750395,108.36859955708333,351.66823876701795,199.4141548045291,107.17511849578723,160.1997770762285,-6.7170742107554,283.4693209786691,24.99542256082683,286.70876957361565,337.3464660314647,259.25870516380525,-6.887571505226272,134.4546856111268,-1.2611607876874888,139.05811256184032,361.5570818463286,77.50858925785546,342.1203902766491,239.31052171071318,350.98624958913445,284.83329933443605,140.08109632866555,301.88302878152325,359.3406170182072,2.8307742796134434,-0.7496689042748734,187.30884689709717,348.2582928776005,354.5666927730228,178.78398217355354,345.87133075500833,27.38238468341904,248.51737561214026,36.418741290375266,77.84958384679722,306.48645573223683,56.537422037938185,86.03345398139908,71.02969206796232,188.84332254733502,183.55790641873796,83.30549726986511,272.898488721475,347.7468009941879,125.24783170969968,15.447574070457986,186.11536583580104,132.23822078300543,232.83162452082004,190.20730090310198,328.1396121300376,73.24615689608366,339.0514389761734,251.75682420708682,339.562930859586,116.21147510274345,11.014644414215308,234.53659746552876,323.02469329591145,267.10158070946534,171.28210121683517,58.75388686605952,132.06772348853457,-3.4776256158088277,-9.786025511231099,56.878416626879925,266.0785969426401,210.83747353407753,128.6577775991171,73.5871514850254,55.002946387700334,156.4488365978693,53.63896803193336,279.2068886168973,289.6072235796205,330.6970715471007,63.52781111124395,169.40663097765557,273.7509751938294,345.1893415771248,353.20271441725583,140.59258821207817,215.95239236820368,254.31428362414994,81.43002703068552,239.65151629965493,129.16926948252973,180.829949707204,324.72966624062013,29.93984410048212,167.70165803294685,146.73049081302958,155.42585283104407,81.08903244174378,143.83203680702474,262.4981537587518,299.3255693644602,62.33433004994784,295.0631370026884,50.570016731457656,301.2010396036398,166.8491715605925,317.9097744617853,38.29421152955486,263.6916348200479,219.532835552092,125.58882629864144,335.13000120334334,227.20521380328125,271.7050076601789,66.42626511724878,74.61013525185064,315.8638069281348,-3.989117499221445,322.34270411802794,165.14419861588377,241.18599194989278,322.8541960014405,183.72840371320885,162.24574460987895,92.34185387682135,316.20480151707653,89.27290257634564,32.15630892860346,340.07442274299865,286.8792668680865,251.58632691261596,273.92147248830025,76.31510819655936,333.7660228475764,64.89178946701092,60.97035169418086,231.8086407539948,87.90892422057867,292.84667217456706,31.13332516177823,13.40160653680752,292.5056775856253,156.2783393033984,137.3531396171316,219.7033328465629,156.61933389234017,282.1053426229021,170.4296147444808,55.17344368217121,70.68869747902058,27.041390094477293,306.82745032117856,41.87465471344318,254.82577550756253,177.59050111225744,343.14337404347435,96.77478353306402,19.198514548817172,181.85293347402924,204.870068227597,105.64064284554938,325.2411581240328,203.6765871663009,127.12330194887929,-8.763041744405866,238.96952712177142,257.0422403356839,82.28251350303988,163.60972296564591,106.83412390684548,247.32389455084416,49.88802755357417,339.7334281540569,260.96367810851393,5.388233696676526,101.8897023671902,291.48269381880004,302.9060125483485,140.93358280101992,250.222348556849,24.313433382943337,307.3389422045912,-3.136631026867084,66.93775700066139,354.9076873619645,201.63061963265042,262.32765646428095,16.64105513175409,149.96993940797614,357.6356440734985,224.64775438621817,340.75641192088216,235.73007852682485,198.90266292111647,50.05852484804504,236.58256499917923,80.06604867491855,313.13585021660083,14.936082187045368,113.99501027462212,24.483930677414214,318.5917636396687,250.05185126237814,-1.6021553766292342,164.63270673247115,6.9227093469143774,3.5127634574969324,146.0485016351461,227.37571109775212,0.6143094514921046,75.97411360761761,310.237396210596,65.57377864489442,305.63396925988246,151.16342046927227,69.3247191232536,331.8905526083968,109.39158332390856,161.9047500209372,102.06019966166106,150.65192858585965,176.22652275649045,312.7948556276591,21.41497937693851,-7.0580687996971445,237.09405688259184,241.5269865388345,143.491042218083,13.231109242336647,161.73425272646634,83.98748644774861,319.4442501120231,234.02510558211614,173.6690633394274,258.7472132803926,-0.23817702086225623,127.29379924335015,184.75138748003408,268.6360563597032,320.6377311733192,92.85334576023396,127.6347938322919,26.700395505535553,-7.910555272051505,215.61139777926195,130.36275054382585,281.76434803396035,152.52739882503923,311.77187186083387,324.900163535091,15.106579481516242,134.62518290559765,84.49897833116123,107.00462120131635,349.28127664442576,224.4772570917473,-2.454641848983595,339.39243356511514,123.37236147052008,110.4145670907338,154.74386365316056,206.91603576124746,72.05267583478755,341.7793956877074,53.29797344299162,124.90683712075793,329.8445850747463,333.93652014204724,258.57671598592174,273.23948331041674,0.95530404043385,242.54997030565974,287.22026145702824,66.08527052830703,278.5248994390138,205.21106281653874,49.7175302591033,350.6452550001927,181.0004470016749,146.5599935185587,100.18472942248147,206.23404658336398,193.95824138146116,133.94319372771417,3.6832607519678042,81.25952973621466,245.44842431166455,56.196427448996445,157.13082577575278,30.110341394952997,260.79318081404307,357.2946494845567,280.57086697266425,162.92773378776243,203.84708446077175,4.535747224322165,248.68787290661118,298.81407748104755,309.0439151492999,210.66697623960664,268.29506177076144,327.1166283632124,74.09864336843802,60.458859810768246,276.6494291998342,310.9193853884795,242.8909648946015,154.23237176974794,122.17888040922398,218.3393544907959,22.778957732705493,90.29588634317088,201.28962504370867,231.97913804846567,238.79902982730056,63.35731381677307,153.72087988633533,130.87424242723847,155.7668474199858,222.6017868525677,249.36986208449463,356.953654895615,22.608460438234616,286.02678039573215,282.44633721184385,206.0635492888931,244.25494325036848,235.04808934894137,348.59928746654225,321.49021764567357,52.10449238169551,249.88135396790727,95.0698105883553,290.8007046409166,-5.6940904439301665,345.3598388715957,70.5182001845497,160.88176625411197,284.15131015655254,113.82451298015124,148.26496646326743,273.4099806048876,257.5537322190965,179.46597135143705,-0.9201661987457452,338.0284552093482,91.14837281552524,233.51361369870352,220.72631661338812,252.77980797391206,101.37821048377758],\"type\":\"scatter\"}],                        {\"template\":{\"data\":{\"barpolar\":[{\"marker\":{\"line\":{\"color\":\"#E5ECF6\",\"width\":0.5},\"pattern\":{\"fillmode\":\"overlay\",\"size\":10,\"solidity\":0.2}},\"type\":\"barpolar\"}],\"bar\":[{\"error_x\":{\"color\":\"#2a3f5f\"},\"error_y\":{\"color\":\"#2a3f5f\"},\"marker\":{\"line\":{\"color\":\"#E5ECF6\",\"width\":0.5},\"pattern\":{\"fillmode\":\"overlay\",\"size\":10,\"solidity\":0.2}},\"type\":\"bar\"}],\"carpet\":[{\"aaxis\":{\"endlinecolor\":\"#2a3f5f\",\"gridcolor\":\"white\",\"linecolor\":\"white\",\"minorgridcolor\":\"white\",\"startlinecolor\":\"#2a3f5f\"},\"baxis\":{\"endlinecolor\":\"#2a3f5f\",\"gridcolor\":\"white\",\"linecolor\":\"white\",\"minorgridcolor\":\"white\",\"startlinecolor\":\"#2a3f5f\"},\"type\":\"carpet\"}],\"choropleth\":[{\"colorbar\":{\"outlinewidth\":0,\"ticks\":\"\"},\"type\":\"choropleth\"}],\"contourcarpet\":[{\"colorbar\":{\"outlinewidth\":0,\"ticks\":\"\"},\"type\":\"contourcarpet\"}],\"contour\":[{\"colorbar\":{\"outlinewidth\":0,\"ticks\":\"\"},\"colorscale\":[[0.0,\"#0d0887\"],[0.1111111111111111,\"#46039f\"],[0.2222222222222222,\"#7201a8\"],[0.3333333333333333,\"#9c179e\"],[0.4444444444444444,\"#bd3786\"],[0.5555555555555556,\"#d8576b\"],[0.6666666666666666,\"#ed7953\"],[0.7777777777777778,\"#fb9f3a\"],[0.8888888888888888,\"#fdca26\"],[1.0,\"#f0f921\"]],\"type\":\"contour\"}],\"heatmapgl\":[{\"colorbar\":{\"outlinewidth\":0,\"ticks\":\"\"},\"colorscale\":[[0.0,\"#0d0887\"],[0.1111111111111111,\"#46039f\"],[0.2222222222222222,\"#7201a8\"],[0.3333333333333333,\"#9c179e\"],[0.4444444444444444,\"#bd3786\"],[0.5555555555555556,\"#d8576b\"],[0.6666666666666666,\"#ed7953\"],[0.7777777777777778,\"#fb9f3a\"],[0.8888888888888888,\"#fdca26\"],[1.0,\"#f0f921\"]],\"type\":\"heatmapgl\"}],\"heatmap\":[{\"colorbar\":{\"outlinewidth\":0,\"ticks\":\"\"},\"colorscale\":[[0.0,\"#0d0887\"],[0.1111111111111111,\"#46039f\"],[0.2222222222222222,\"#7201a8\"],[0.3333333333333333,\"#9c179e\"],[0.4444444444444444,\"#bd3786\"],[0.5555555555555556,\"#d8576b\"],[0.6666666666666666,\"#ed7953\"],[0.7777777777777778,\"#fb9f3a\"],[0.8888888888888888,\"#fdca26\"],[1.0,\"#f0f921\"]],\"type\":\"heatmap\"}],\"histogram2dcontour\":[{\"colorbar\":{\"outlinewidth\":0,\"ticks\":\"\"},\"colorscale\":[[0.0,\"#0d0887\"],[0.1111111111111111,\"#46039f\"],[0.2222222222222222,\"#7201a8\"],[0.3333333333333333,\"#9c179e\"],[0.4444444444444444,\"#bd3786\"],[0.5555555555555556,\"#d8576b\"],[0.6666666666666666,\"#ed7953\"],[0.7777777777777778,\"#fb9f3a\"],[0.8888888888888888,\"#fdca26\"],[1.0,\"#f0f921\"]],\"type\":\"histogram2dcontour\"}],\"histogram2d\":[{\"colorbar\":{\"outlinewidth\":0,\"ticks\":\"\"},\"colorscale\":[[0.0,\"#0d0887\"],[0.1111111111111111,\"#46039f\"],[0.2222222222222222,\"#7201a8\"],[0.3333333333333333,\"#9c179e\"],[0.4444444444444444,\"#bd3786\"],[0.5555555555555556,\"#d8576b\"],[0.6666666666666666,\"#ed7953\"],[0.7777777777777778,\"#fb9f3a\"],[0.8888888888888888,\"#fdca26\"],[1.0,\"#f0f921\"]],\"type\":\"histogram2d\"}],\"histogram\":[{\"marker\":{\"pattern\":{\"fillmode\":\"overlay\",\"size\":10,\"solidity\":0.2}},\"type\":\"histogram\"}],\"mesh3d\":[{\"colorbar\":{\"outlinewidth\":0,\"ticks\":\"\"},\"type\":\"mesh3d\"}],\"parcoords\":[{\"line\":{\"colorbar\":{\"outlinewidth\":0,\"ticks\":\"\"}},\"type\":\"parcoords\"}],\"pie\":[{\"automargin\":true,\"type\":\"pie\"}],\"scatter3d\":[{\"line\":{\"colorbar\":{\"outlinewidth\":0,\"ticks\":\"\"}},\"marker\":{\"colorbar\":{\"outlinewidth\":0,\"ticks\":\"\"}},\"type\":\"scatter3d\"}],\"scattercarpet\":[{\"marker\":{\"colorbar\":{\"outlinewidth\":0,\"ticks\":\"\"}},\"type\":\"scattercarpet\"}],\"scattergeo\":[{\"marker\":{\"colorbar\":{\"outlinewidth\":0,\"ticks\":\"\"}},\"type\":\"scattergeo\"}],\"scattergl\":[{\"marker\":{\"colorbar\":{\"outlinewidth\":0,\"ticks\":\"\"}},\"type\":\"scattergl\"}],\"scattermapbox\":[{\"marker\":{\"colorbar\":{\"outlinewidth\":0,\"ticks\":\"\"}},\"type\":\"scattermapbox\"}],\"scatterpolargl\":[{\"marker\":{\"colorbar\":{\"outlinewidth\":0,\"ticks\":\"\"}},\"type\":\"scatterpolargl\"}],\"scatterpolar\":[{\"marker\":{\"colorbar\":{\"outlinewidth\":0,\"ticks\":\"\"}},\"type\":\"scatterpolar\"}],\"scatter\":[{\"fillpattern\":{\"fillmode\":\"overlay\",\"size\":10,\"solidity\":0.2},\"type\":\"scatter\"}],\"scatterternary\":[{\"marker\":{\"colorbar\":{\"outlinewidth\":0,\"ticks\":\"\"}},\"type\":\"scatterternary\"}],\"surface\":[{\"colorbar\":{\"outlinewidth\":0,\"ticks\":\"\"},\"colorscale\":[[0.0,\"#0d0887\"],[0.1111111111111111,\"#46039f\"],[0.2222222222222222,\"#7201a8\"],[0.3333333333333333,\"#9c179e\"],[0.4444444444444444,\"#bd3786\"],[0.5555555555555556,\"#d8576b\"],[0.6666666666666666,\"#ed7953\"],[0.7777777777777778,\"#fb9f3a\"],[0.8888888888888888,\"#fdca26\"],[1.0,\"#f0f921\"]],\"type\":\"surface\"}],\"table\":[{\"cells\":{\"fill\":{\"color\":\"#EBF0F8\"},\"line\":{\"color\":\"white\"}},\"header\":{\"fill\":{\"color\":\"#C8D4E3\"},\"line\":{\"color\":\"white\"}},\"type\":\"table\"}]},\"layout\":{\"annotationdefaults\":{\"arrowcolor\":\"#2a3f5f\",\"arrowhead\":0,\"arrowwidth\":1},\"autotypenumbers\":\"strict\",\"coloraxis\":{\"colorbar\":{\"outlinewidth\":0,\"ticks\":\"\"}},\"colorscale\":{\"diverging\":[[0,\"#8e0152\"],[0.1,\"#c51b7d\"],[0.2,\"#de77ae\"],[0.3,\"#f1b6da\"],[0.4,\"#fde0ef\"],[0.5,\"#f7f7f7\"],[0.6,\"#e6f5d0\"],[0.7,\"#b8e186\"],[0.8,\"#7fbc41\"],[0.9,\"#4d9221\"],[1,\"#276419\"]],\"sequential\":[[0.0,\"#0d0887\"],[0.1111111111111111,\"#46039f\"],[0.2222222222222222,\"#7201a8\"],[0.3333333333333333,\"#9c179e\"],[0.4444444444444444,\"#bd3786\"],[0.5555555555555556,\"#d8576b\"],[0.6666666666666666,\"#ed7953\"],[0.7777777777777778,\"#fb9f3a\"],[0.8888888888888888,\"#fdca26\"],[1.0,\"#f0f921\"]],\"sequentialminus\":[[0.0,\"#0d0887\"],[0.1111111111111111,\"#46039f\"],[0.2222222222222222,\"#7201a8\"],[0.3333333333333333,\"#9c179e\"],[0.4444444444444444,\"#bd3786\"],[0.5555555555555556,\"#d8576b\"],[0.6666666666666666,\"#ed7953\"],[0.7777777777777778,\"#fb9f3a\"],[0.8888888888888888,\"#fdca26\"],[1.0,\"#f0f921\"]]},\"colorway\":[\"#636efa\",\"#EF553B\",\"#00cc96\",\"#ab63fa\",\"#FFA15A\",\"#19d3f3\",\"#FF6692\",\"#B6E880\",\"#FF97FF\",\"#FECB52\"],\"font\":{\"color\":\"#2a3f5f\"},\"geo\":{\"bgcolor\":\"white\",\"lakecolor\":\"white\",\"landcolor\":\"#E5ECF6\",\"showlakes\":true,\"showland\":true,\"subunitcolor\":\"white\"},\"hoverlabel\":{\"align\":\"left\"},\"hovermode\":\"closest\",\"mapbox\":{\"style\":\"light\"},\"paper_bgcolor\":\"white\",\"plot_bgcolor\":\"#E5ECF6\",\"polar\":{\"angularaxis\":{\"gridcolor\":\"white\",\"linecolor\":\"white\",\"ticks\":\"\"},\"bgcolor\":\"#E5ECF6\",\"radialaxis\":{\"gridcolor\":\"white\",\"linecolor\":\"white\",\"ticks\":\"\"}},\"scene\":{\"xaxis\":{\"backgroundcolor\":\"#E5ECF6\",\"gridcolor\":\"white\",\"gridwidth\":2,\"linecolor\":\"white\",\"showbackground\":true,\"ticks\":\"\",\"zerolinecolor\":\"white\"},\"yaxis\":{\"backgroundcolor\":\"#E5ECF6\",\"gridcolor\":\"white\",\"gridwidth\":2,\"linecolor\":\"white\",\"showbackground\":true,\"ticks\":\"\",\"zerolinecolor\":\"white\"},\"zaxis\":{\"backgroundcolor\":\"#E5ECF6\",\"gridcolor\":\"white\",\"gridwidth\":2,\"linecolor\":\"white\",\"showbackground\":true,\"ticks\":\"\",\"zerolinecolor\":\"white\"}},\"shapedefaults\":{\"line\":{\"color\":\"#2a3f5f\"}},\"ternary\":{\"aaxis\":{\"gridcolor\":\"white\",\"linecolor\":\"white\",\"ticks\":\"\"},\"baxis\":{\"gridcolor\":\"white\",\"linecolor\":\"white\",\"ticks\":\"\"},\"bgcolor\":\"#E5ECF6\",\"caxis\":{\"gridcolor\":\"white\",\"linecolor\":\"white\",\"ticks\":\"\"}},\"title\":{\"x\":0.05},\"xaxis\":{\"automargin\":true,\"gridcolor\":\"white\",\"linecolor\":\"white\",\"ticks\":\"\",\"title\":{\"standoff\":15},\"zerolinecolor\":\"white\",\"zerolinewidth\":2},\"yaxis\":{\"automargin\":true,\"gridcolor\":\"white\",\"linecolor\":\"white\",\"ticks\":\"\",\"title\":{\"standoff\":15},\"zerolinecolor\":\"white\",\"zerolinewidth\":2}}},\"title\":{\"text\":\"Stock Prices of Tesla\"},\"xaxis\":{\"title\":{\"font\":{\"color\":\"#7f7f7f\",\"family\":\"Courier New , monospace\",\"size\":18},\"text\":\"Day\"}},\"yaxis\":{\"title\":{\"font\":{\"color\":\"#7f7f7f\",\"family\":\"Courier New , monospace\",\"size\":18},\"text\":\"Price\"}}},                        {\"responsive\": true}                    ).then(function(){\n",
              "                            \n",
              "var gd = document.getElementById('169d71cd-b7d9-48b8-816a-0ac9f653ac06');\n",
              "var x = new MutationObserver(function (mutations, observer) {{\n",
              "        var display = window.getComputedStyle(gd).display;\n",
              "        if (!display || display === 'none') {{\n",
              "            console.log([gd, 'removed!']);\n",
              "            Plotly.purge(gd);\n",
              "            observer.disconnect();\n",
              "        }}\n",
              "}});\n",
              "\n",
              "// Listen for the removal of the full notebook cells\n",
              "var notebookContainer = gd.closest('#notebook-container');\n",
              "if (notebookContainer) {{\n",
              "    x.observe(notebookContainer, {childList: true});\n",
              "}}\n",
              "\n",
              "// Listen for the clearing of the current output cell\n",
              "var outputEl = gd.closest('.output');\n",
              "if (outputEl) {{\n",
              "    x.observe(outputEl, {childList: true});\n",
              "}}\n",
              "\n",
              "                        })                };                            </script>        </div>\n",
              "</body>\n",
              "</html>"
            ]
          },
          "metadata": {}
        }
      ]
    },
    {
      "cell_type": "code",
      "source": [
        "#Calculate scores for model evaluation\n",
        "scores= f'''\n",
        "{'Metric'.ljust(10)}{'Train'.center(20)}{'Test'.center(20)}\n",
        "{'r2_score'.ljust(10)}{r2_score(Y_train, lm.predict(X_train))}\\t{r2_score(Y_test, lm.predict(X_test))}\n",
        "{'MSE'.ljust(10)}{mse(Y_train,lm.predict(X_train))}\\t{mse(Y_test,lm.predict(X_test))}\n",
        "'''\n",
        "\n",
        "print(scores)"
      ],
      "metadata": {
        "colab": {
          "base_uri": "https://localhost:8080/"
        },
        "id": "4zkLBaTcvsrN",
        "outputId": "5add3967-a29e-48c5-f6e7-026b4f385fcc"
      },
      "execution_count": 42,
      "outputs": [
        {
          "output_type": "stream",
          "name": "stdout",
          "text": [
            "\n",
            "Metric           Train                Test        \n",
            "r2_score  0.8658698653844746\t0.8611617962050295\n",
            "MSE       1816.540371681398\t1790.9783417267101\n",
            "\n"
          ]
        }
      ]
    },
    {
      "cell_type": "markdown",
      "source": [],
      "metadata": {
        "id": "EL1dtfRvh8uF"
      }
    }
  ]
}